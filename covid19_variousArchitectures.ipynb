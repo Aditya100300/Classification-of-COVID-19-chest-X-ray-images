{
  "nbformat": 4,
  "nbformat_minor": 0,
  "metadata": {
    "colab": {
      "name": "covid19_variousArchitectures.ipynb",
      "provenance": [],
      "collapsed_sections": [],
      "authorship_tag": "ABX9TyMNlAExoV/9Hm7IQL/6NiEF",
      "include_colab_link": true
    },
    "kernelspec": {
      "name": "python3",
      "display_name": "Python 3"
    }
  },
  "cells": [
    {
      "cell_type": "markdown",
      "metadata": {
        "id": "view-in-github",
        "colab_type": "text"
      },
      "source": [
        "<a href=\"https://colab.research.google.com/github/AditiG10/Classification-of-COVID-19-chest-X-ray-images/blob/covid_infected_train/covid19_variousArchitectures.ipynb\" target=\"_parent\"><img src=\"https://colab.research.google.com/assets/colab-badge.svg\" alt=\"Open In Colab\"/></a>"
      ]
    },
    {
      "cell_type": "code",
      "metadata": {
        "id": "NPJ1XQDoaiGy",
        "colab_type": "code",
        "colab": {}
      },
      "source": [
        "# import the necessary packages\n",
        "from tensorflow.keras.preprocessing.image import ImageDataGenerator\n",
        "from tensorflow.keras.applications import VGG16\n",
        "from tensorflow.keras.layers import AveragePooling2D\n",
        "from tensorflow.keras.layers import Dropout\n",
        "from tensorflow.keras.layers import Flatten\n",
        "from tensorflow.keras.layers import Dense\n",
        "from tensorflow.keras.layers import Input\n",
        "from tensorflow.keras.models import Model\n",
        "from tensorflow.keras.optimizers import Adam\n",
        "from tensorflow.keras.utils import to_categorical\n",
        "from sklearn.preprocessing import LabelBinarizer\n",
        "from sklearn.model_selection import train_test_split\n",
        "from sklearn.metrics import classification_report\n",
        "from sklearn.metrics import confusion_matrix\n",
        "from imutils import paths\n",
        "import matplotlib.pyplot as plt\n",
        "import numpy as np\n",
        "import argparse\n",
        "import cv2\n",
        "import os\n",
        "from keras.applications.resnet50 import ResNet50\n",
        "from keras.preprocessing import image\n",
        "from keras.applications.resnet50 import preprocess_input, decode_predictions\n",
        "import numpy as np\n"
      ],
      "execution_count": 0,
      "outputs": []
    },
    {
      "cell_type": "code",
      "metadata": {
        "id": "mutQd94iascM",
        "colab_type": "code",
        "colab": {}
      },
      "source": [
        "import os\n",
        "import numpy as np\n",
        "import pandas as pd\n",
        "import seaborn as sns\n",
        "import matplotlib.pyplot as plt\n",
        "import matplotlib.image as mpimg\n",
        "import seaborn as sns\n",
        "from PIL import Image\n",
        "from tensorflow.keras.preprocessing import image\n",
        "from tensorflow.keras.preprocessing.image import load_img, img_to_array\n",
        "from tensorflow.keras.applications.vgg16 import preprocess_input\n",
        "from tensorflow.keras.utils import to_categorical\n",
        "from tensorflow.keras.callbacks import ModelCheckpoint, EarlyStopping\n",
        "from tensorflow.keras.models import Sequential\n",
        "from tensorflow.keras.layers import Dense, Dropout, BatchNormalization, Conv2D, MaxPool2D, Flatten\n",
        "from sklearn.metrics import classification_report, confusion_matrix, accuracy_score"
      ],
      "execution_count": 0,
      "outputs": []
    },
    {
      "cell_type": "code",
      "metadata": {
        "id": "25WvEq0javWE",
        "colab_type": "code",
        "colab": {
          "base_uri": "https://localhost:8080/",
          "height": 144
        },
        "outputId": "52bb8512-84a9-4587-d27e-c6330a9ee97f"
      },
      "source": [
        "!git clone https://github.com/vaibhavG321/Classification-of-COVID-19-chest-X-ray-images"
      ],
      "execution_count": 25,
      "outputs": [
        {
          "output_type": "stream",
          "text": [
            "Cloning into 'Classification-of-COVID-19-chest-X-ray-images'...\n",
            "remote: Enumerating objects: 12, done.\u001b[K\n",
            "remote: Counting objects:   8% (1/12)\u001b[K\rremote: Counting objects:  16% (2/12)\u001b[K\rremote: Counting objects:  25% (3/12)\u001b[K\rremote: Counting objects:  33% (4/12)\u001b[K\rremote: Counting objects:  41% (5/12)\u001b[K\rremote: Counting objects:  50% (6/12)\u001b[K\rremote: Counting objects:  58% (7/12)\u001b[K\rremote: Counting objects:  66% (8/12)\u001b[K\rremote: Counting objects:  75% (9/12)\u001b[K\rremote: Counting objects:  83% (10/12)\u001b[K\rremote: Counting objects:  91% (11/12)\u001b[K\rremote: Counting objects: 100% (12/12)\u001b[K\rremote: Counting objects: 100% (12/12), done.\u001b[K\n",
            "remote: Compressing objects: 100% (12/12), done.\u001b[K\n",
            "remote: Total 331 (delta 5), reused 0 (delta 0), pack-reused 319\u001b[K\n",
            "Receiving objects: 100% (331/331), 80.94 MiB | 36.15 MiB/s, done.\n",
            "Resolving deltas: 100% (15/15), done.\n"
          ],
          "name": "stdout"
        }
      ]
    },
    {
      "cell_type": "code",
      "metadata": {
        "id": "i8UMNvw3axRL",
        "colab_type": "code",
        "colab": {
          "base_uri": "https://localhost:8080/",
          "height": 35
        },
        "outputId": "2cee872d-c043-49d4-f3ef-33598dac4f46"
      },
      "source": [
        "cd Classification-of-COVID-19-chest-X-ray-images "
      ],
      "execution_count": 26,
      "outputs": [
        {
          "output_type": "stream",
          "text": [
            "/content/Classification-of-COVID-19-chest-X-ray-images/dataset/training/Classification-of-COVID-19-chest-X-ray-images\n"
          ],
          "name": "stdout"
        }
      ]
    },
    {
      "cell_type": "code",
      "metadata": {
        "id": "h6j25RrIa00b",
        "colab_type": "code",
        "colab": {
          "base_uri": "https://localhost:8080/",
          "height": 35
        },
        "outputId": "134cfbbe-9d76-4e3e-aee2-828711dbc0c8"
      },
      "source": [
        "cd dataset"
      ],
      "execution_count": 27,
      "outputs": [
        {
          "output_type": "stream",
          "text": [
            "/content/Classification-of-COVID-19-chest-X-ray-images/dataset/training/Classification-of-COVID-19-chest-X-ray-images/dataset\n"
          ],
          "name": "stdout"
        }
      ]
    },
    {
      "cell_type": "code",
      "metadata": {
        "id": "6PSuvf2ja4rA",
        "colab_type": "code",
        "colab": {
          "base_uri": "https://localhost:8080/",
          "height": 35
        },
        "outputId": "ef52a0d0-678c-47c9-bdbf-4b81b53fee1a"
      },
      "source": [
        "cd training"
      ],
      "execution_count": 28,
      "outputs": [
        {
          "output_type": "stream",
          "text": [
            "/content/Classification-of-COVID-19-chest-X-ray-images/dataset/training/Classification-of-COVID-19-chest-X-ray-images/dataset/training\n"
          ],
          "name": "stdout"
        }
      ]
    },
    {
      "cell_type": "code",
      "metadata": {
        "id": "IOu1jAMva6w9",
        "colab_type": "code",
        "colab": {
          "base_uri": "https://localhost:8080/",
          "height": 35
        },
        "outputId": "d356cd27-af18-4766-b6c5-294d313e4306"
      },
      "source": [
        "!ls"
      ],
      "execution_count": 29,
      "outputs": [
        {
          "output_type": "stream",
          "text": [
            "infected  normal\n"
          ],
          "name": "stdout"
        }
      ]
    },
    {
      "cell_type": "code",
      "metadata": {
        "id": "hJHmhk6Ca7lU",
        "colab_type": "code",
        "colab": {}
      },
      "source": [
        "train_normal_path='/content/Classification-of-COVID-19-chest-X-ray-images/dataset/training/normal'\n",
        "train_infected_path='/content/Classification-of-COVID-19-chest-X-ray-images/dataset/training/infected'\n",
        "test_normal_path='/content/Classification-of-COVID-19-chest-X-ray-images/dataset/testing/normal'\n",
        "test_infected_path='/content/Classification-of-COVID-19-chest-X-ray-images/dataset/testing/infected'\n",
        "evaluate_normal_path='/content/Classification-of-COVID-19-chest-X-ray-images/dataset/evaluation/normal'\n",
        "evaluate_infected_path='/content/Classification-of-COVID-19-chest-X-ray-images/dataset/evaluation/infected'"
      ],
      "execution_count": 0,
      "outputs": []
    },
    {
      "cell_type": "code",
      "metadata": {
        "id": "rBXx-1LQa-ej",
        "colab_type": "code",
        "colab": {
          "base_uri": "https://localhost:8080/",
          "height": 126
        },
        "outputId": "0413d737-021b-43c2-808e-1d99fe457c50"
      },
      "source": [
        "print('train_normal cases ',len(os.listdir('/content/Classification-of-COVID-19-chest-X-ray-images/dataset/training/normal')))\n",
        "print('train_infected cases ',len(os.listdir('/content/Classification-of-COVID-19-chest-X-ray-images/dataset/training/infected')))\n",
        "print('test_normal cases ',len(os.listdir('/content/Classification-of-COVID-19-chest-X-ray-images/dataset/testing/normal')))\n",
        "print('test_infected cases ',len(os.listdir('/content/Classification-of-COVID-19-chest-X-ray-images/dataset/testing/infected')))\n",
        "print('evaluate_normal cases ',len(os.listdir('/content/Classification-of-COVID-19-chest-X-ray-images/dataset/evaluation/normal')))\n",
        "print('evaluate_infected cases ',len(os.listdir('/content/Classification-of-COVID-19-chest-X-ray-images/dataset/evaluation/infected')))"
      ],
      "execution_count": 31,
      "outputs": [
        {
          "output_type": "stream",
          "text": [
            "train_normal cases  97\n",
            "train_infected cases  90\n",
            "test_normal cases  69\n",
            "test_infected cases  25\n",
            "evaluate_normal cases  1\n",
            "evaluate_infected cases  1\n"
          ],
          "name": "stdout"
        }
      ]
    },
    {
      "cell_type": "code",
      "metadata": {
        "id": "ES48QyxJbB6D",
        "colab_type": "code",
        "colab": {}
      },
      "source": [
        "IMAGE_SIZE = (224,224)\n",
        "DIR_NAME = '/content/Classification-of-COVID-19-chest-X-ray-images/dataset/'\n",
        "IMAGE_DIR = DIR_NAME + 'normal/'\n",
        "imagePaths=[]\n",
        "for dirname, _, filenames in os.walk(DIR_NAME):\n",
        "    for filename in filenames:\n",
        "      imagePaths.append(os.path.join(dirname, filename))"
      ],
      "execution_count": 0,
      "outputs": []
    },
    {
      "cell_type": "code",
      "metadata": {
        "id": "aJVuCpy5bD8X",
        "colab_type": "code",
        "colab": {
          "base_uri": "https://localhost:8080/",
          "height": 1000
        },
        "outputId": "5ceaf394-72f4-44b9-8acd-870c067673a2"
      },
      "source": [
        "imagePaths"
      ],
      "execution_count": 33,
      "outputs": [
        {
          "output_type": "execute_result",
          "data": {
            "text/plain": [
              "['/content/Classification-of-COVID-19-chest-X-ray-images/dataset/evaluation/infected/1.jpg',\n",
              " '/content/Classification-of-COVID-19-chest-X-ray-images/dataset/evaluation/normal/1.jpeg',\n",
              " '/content/Classification-of-COVID-19-chest-X-ray-images/dataset/training/infected/covid_train12.png',\n",
              " '/content/Classification-of-COVID-19-chest-X-ray-images/dataset/training/infected/covid_train15.png',\n",
              " '/content/Classification-of-COVID-19-chest-X-ray-images/dataset/training/infected/covid_train21.png',\n",
              " '/content/Classification-of-COVID-19-chest-X-ray-images/dataset/training/infected/covid_train20.jpeg',\n",
              " '/content/Classification-of-COVID-19-chest-X-ray-images/dataset/training/infected/covid_train3.jpg',\n",
              " '/content/Classification-of-COVID-19-chest-X-ray-images/dataset/training/infected/covid_train13.png',\n",
              " '/content/Classification-of-COVID-19-chest-X-ray-images/dataset/training/infected/covid_train62.png',\n",
              " '/content/Classification-of-COVID-19-chest-X-ray-images/dataset/training/infected/covid_train23.jpeg',\n",
              " '/content/Classification-of-COVID-19-chest-X-ray-images/dataset/training/infected/covid_train37.jpeg',\n",
              " '/content/Classification-of-COVID-19-chest-X-ray-images/dataset/training/infected/covid_train82.jpeg',\n",
              " '/content/Classification-of-COVID-19-chest-X-ray-images/dataset/training/infected/covid_train31.jpeg',\n",
              " '/content/Classification-of-COVID-19-chest-X-ray-images/dataset/training/infected/covid_train66.jpg',\n",
              " '/content/Classification-of-COVID-19-chest-X-ray-images/dataset/training/infected/covid_train6.jpg',\n",
              " '/content/Classification-of-COVID-19-chest-X-ray-images/dataset/training/infected/covid_train57.jpg',\n",
              " '/content/Classification-of-COVID-19-chest-X-ray-images/dataset/training/infected/covid_train77.jpeg',\n",
              " '/content/Classification-of-COVID-19-chest-X-ray-images/dataset/training/infected/covid_train69.jpg',\n",
              " '/content/Classification-of-COVID-19-chest-X-ray-images/dataset/training/infected/covid_train89.jpeg',\n",
              " '/content/Classification-of-COVID-19-chest-X-ray-images/dataset/training/infected/covid_train11.png',\n",
              " '/content/Classification-of-COVID-19-chest-X-ray-images/dataset/training/infected/covid_train84.jpeg',\n",
              " '/content/Classification-of-COVID-19-chest-X-ray-images/dataset/training/infected/covid_train73.jpeg',\n",
              " '/content/Classification-of-COVID-19-chest-X-ray-images/dataset/training/infected/covid_train52.jpg',\n",
              " '/content/Classification-of-COVID-19-chest-X-ray-images/dataset/training/infected/covid_train33.jpeg',\n",
              " '/content/Classification-of-COVID-19-chest-X-ray-images/dataset/training/infected/covid_train49.jpg',\n",
              " '/content/Classification-of-COVID-19-chest-X-ray-images/dataset/training/infected/covid_train60.png',\n",
              " '/content/Classification-of-COVID-19-chest-X-ray-images/dataset/training/infected/covid_train30.jpeg',\n",
              " '/content/Classification-of-COVID-19-chest-X-ray-images/dataset/training/infected/covid_train42.jpeg',\n",
              " '/content/Classification-of-COVID-19-chest-X-ray-images/dataset/training/infected/covid_train87.jpeg',\n",
              " '/content/Classification-of-COVID-19-chest-X-ray-images/dataset/training/infected/covid_train54.jpg',\n",
              " '/content/Classification-of-COVID-19-chest-X-ray-images/dataset/training/infected/covid_train1.jpeg',\n",
              " '/content/Classification-of-COVID-19-chest-X-ray-images/dataset/training/infected/covid_train27.jpeg',\n",
              " '/content/Classification-of-COVID-19-chest-X-ray-images/dataset/training/infected/covid_train53.png',\n",
              " '/content/Classification-of-COVID-19-chest-X-ray-images/dataset/training/infected/covid_train88.jpeg',\n",
              " '/content/Classification-of-COVID-19-chest-X-ray-images/dataset/training/infected/covid_train48.png',\n",
              " '/content/Classification-of-COVID-19-chest-X-ray-images/dataset/training/infected/covid_train28.jpeg',\n",
              " '/content/Classification-of-COVID-19-chest-X-ray-images/dataset/training/infected/covid_train45.jpeg',\n",
              " '/content/Classification-of-COVID-19-chest-X-ray-images/dataset/training/infected/covid_train4.jpg',\n",
              " '/content/Classification-of-COVID-19-chest-X-ray-images/dataset/training/infected/covid_train14.png',\n",
              " '/content/Classification-of-COVID-19-chest-X-ray-images/dataset/training/infected/covid_train34.jpeg',\n",
              " '/content/Classification-of-COVID-19-chest-X-ray-images/dataset/training/infected/covid_train86.jpeg',\n",
              " '/content/Classification-of-COVID-19-chest-X-ray-images/dataset/training/infected/covid_train56.jpg',\n",
              " '/content/Classification-of-COVID-19-chest-X-ray-images/dataset/training/infected/covid_train70.jpg',\n",
              " '/content/Classification-of-COVID-19-chest-X-ray-images/dataset/training/infected/covid_train55.jpg',\n",
              " '/content/Classification-of-COVID-19-chest-X-ray-images/dataset/training/infected/covid_train9.png',\n",
              " '/content/Classification-of-COVID-19-chest-X-ray-images/dataset/training/infected/covid_train72.png',\n",
              " '/content/Classification-of-COVID-19-chest-X-ray-images/dataset/training/infected/covid_train26.jpeg',\n",
              " '/content/Classification-of-COVID-19-chest-X-ray-images/dataset/training/infected/covid_train85.jpeg',\n",
              " '/content/Classification-of-COVID-19-chest-X-ray-images/dataset/training/infected/covid_train79.jpeg',\n",
              " '/content/Classification-of-COVID-19-chest-X-ray-images/dataset/training/infected/covid_train40.jpeg',\n",
              " '/content/Classification-of-COVID-19-chest-X-ray-images/dataset/training/infected/covid_train29.jpeg',\n",
              " '/content/Classification-of-COVID-19-chest-X-ray-images/dataset/training/infected/covid_train83.png',\n",
              " '/content/Classification-of-COVID-19-chest-X-ray-images/dataset/training/infected/covid_train32.jpeg',\n",
              " '/content/Classification-of-COVID-19-chest-X-ray-images/dataset/training/infected/covid_train68.jpg',\n",
              " '/content/Classification-of-COVID-19-chest-X-ray-images/dataset/training/infected/covid_train76.jpg',\n",
              " '/content/Classification-of-COVID-19-chest-X-ray-images/dataset/training/infected/covid_train78.jpeg',\n",
              " '/content/Classification-of-COVID-19-chest-X-ray-images/dataset/training/infected/covid_train39.jpeg',\n",
              " '/content/Classification-of-COVID-19-chest-X-ray-images/dataset/training/infected/covid_train25.jpeg',\n",
              " '/content/Classification-of-COVID-19-chest-X-ray-images/dataset/training/infected/covid_train51.png',\n",
              " '/content/Classification-of-COVID-19-chest-X-ray-images/dataset/training/infected/covid_train2.jpeg',\n",
              " '/content/Classification-of-COVID-19-chest-X-ray-images/dataset/training/infected/covid_train61.jpg',\n",
              " '/content/Classification-of-COVID-19-chest-X-ray-images/dataset/training/infected/covid_train18.png',\n",
              " '/content/Classification-of-COVID-19-chest-X-ray-images/dataset/training/infected/covid_train67.jpg',\n",
              " '/content/Classification-of-COVID-19-chest-X-ray-images/dataset/training/infected/covid_train19.jpeg',\n",
              " '/content/Classification-of-COVID-19-chest-X-ray-images/dataset/training/infected/covid_train41.jpeg',\n",
              " '/content/Classification-of-COVID-19-chest-X-ray-images/dataset/training/infected/covid_train10.png',\n",
              " '/content/Classification-of-COVID-19-chest-X-ray-images/dataset/training/infected/covid_train74.jpeg',\n",
              " '/content/Classification-of-COVID-19-chest-X-ray-images/dataset/training/infected/covid_train22.jpeg',\n",
              " '/content/Classification-of-COVID-19-chest-X-ray-images/dataset/training/infected/covid_train81.jpeg',\n",
              " '/content/Classification-of-COVID-19-chest-X-ray-images/dataset/training/infected/covid_train71.jpg',\n",
              " '/content/Classification-of-COVID-19-chest-X-ray-images/dataset/training/infected/covid_train5.jpg',\n",
              " '/content/Classification-of-COVID-19-chest-X-ray-images/dataset/training/infected/covid_train75.jpg',\n",
              " '/content/Classification-of-COVID-19-chest-X-ray-images/dataset/training/infected/covid_train47.png',\n",
              " '/content/Classification-of-COVID-19-chest-X-ray-images/dataset/training/infected/covid_train50.png',\n",
              " '/content/Classification-of-COVID-19-chest-X-ray-images/dataset/training/infected/covid_train35.jpeg',\n",
              " '/content/Classification-of-COVID-19-chest-X-ray-images/dataset/training/infected/covid_train43.jpeg',\n",
              " '/content/Classification-of-COVID-19-chest-X-ray-images/dataset/training/infected/covid_train63.jpg',\n",
              " '/content/Classification-of-COVID-19-chest-X-ray-images/dataset/training/infected/1.jpeg',\n",
              " '/content/Classification-of-COVID-19-chest-X-ray-images/dataset/training/infected/covid_train24.jpeg',\n",
              " '/content/Classification-of-COVID-19-chest-X-ray-images/dataset/training/infected/covid_train38.jpeg',\n",
              " '/content/Classification-of-COVID-19-chest-X-ray-images/dataset/training/infected/covid_train7.jpg',\n",
              " '/content/Classification-of-COVID-19-chest-X-ray-images/dataset/training/infected/covid_train17.png',\n",
              " '/content/Classification-of-COVID-19-chest-X-ray-images/dataset/training/infected/covid_train8.png',\n",
              " '/content/Classification-of-COVID-19-chest-X-ray-images/dataset/training/infected/covid_train46.png',\n",
              " '/content/Classification-of-COVID-19-chest-X-ray-images/dataset/training/infected/covid_train64.jpg',\n",
              " '/content/Classification-of-COVID-19-chest-X-ray-images/dataset/training/infected/covid_train36.jpeg',\n",
              " '/content/Classification-of-COVID-19-chest-X-ray-images/dataset/training/infected/covid_train58.png',\n",
              " '/content/Classification-of-COVID-19-chest-X-ray-images/dataset/training/infected/covid_train16.png',\n",
              " '/content/Classification-of-COVID-19-chest-X-ray-images/dataset/training/infected/covid_train59.png',\n",
              " '/content/Classification-of-COVID-19-chest-X-ray-images/dataset/training/infected/covid_train65.jpg',\n",
              " '/content/Classification-of-COVID-19-chest-X-ray-images/dataset/training/infected/covid_train44.jpeg',\n",
              " '/content/Classification-of-COVID-19-chest-X-ray-images/dataset/training/infected/covid_train80.jpeg',\n",
              " '/content/Classification-of-COVID-19-chest-X-ray-images/dataset/training/normal/NORMAL2-IM-0305-0001.jpeg',\n",
              " '/content/Classification-of-COVID-19-chest-X-ray-images/dataset/training/normal/NORMAL2-IM-0361-0001.jpeg',\n",
              " '/content/Classification-of-COVID-19-chest-X-ray-images/dataset/training/normal/NORMAL2-IM-0286-0001.jpeg',\n",
              " '/content/Classification-of-COVID-19-chest-X-ray-images/dataset/training/normal/NORMAL2-IM-0095-0001.jpeg',\n",
              " '/content/Classification-of-COVID-19-chest-X-ray-images/dataset/training/normal/NORMAL2-IM-0030-0001.jpeg',\n",
              " '/content/Classification-of-COVID-19-chest-X-ray-images/dataset/training/normal/NORMAL2-IM-0350-0001.jpeg',\n",
              " '/content/Classification-of-COVID-19-chest-X-ray-images/dataset/training/normal/NORMAL2-IM-0079-0001.jpeg',\n",
              " '/content/Classification-of-COVID-19-chest-X-ray-images/dataset/training/normal/NORMAL2-IM-0117-0001.jpeg',\n",
              " '/content/Classification-of-COVID-19-chest-X-ray-images/dataset/training/normal/NORMAL2-IM-0380-0001.jpeg',\n",
              " '/content/Classification-of-COVID-19-chest-X-ray-images/dataset/training/normal/NORMAL2-IM-0012-0001.jpeg',\n",
              " '/content/Classification-of-COVID-19-chest-X-ray-images/dataset/training/normal/NORMAL2-IM-0348-0001.jpeg',\n",
              " '/content/Classification-of-COVID-19-chest-X-ray-images/dataset/training/normal/NORMAL2-IM-0051-0001.jpeg',\n",
              " '/content/Classification-of-COVID-19-chest-X-ray-images/dataset/training/normal/NORMAL2-IM-0275-0001.jpeg',\n",
              " '/content/Classification-of-COVID-19-chest-X-ray-images/dataset/training/normal/NORMAL2-IM-0273-0001.jpeg',\n",
              " '/content/Classification-of-COVID-19-chest-X-ray-images/dataset/training/normal/NORMAL2-IM-0259-0001.jpeg',\n",
              " '/content/Classification-of-COVID-19-chest-X-ray-images/dataset/training/normal/NORMAL2-IM-0274-0001.jpeg',\n",
              " '/content/Classification-of-COVID-19-chest-X-ray-images/dataset/training/normal/NORMAL2-IM-0271-0001.jpeg',\n",
              " '/content/Classification-of-COVID-19-chest-X-ray-images/dataset/training/normal/NORMAL2-IM-0337-0001.jpeg',\n",
              " '/content/Classification-of-COVID-19-chest-X-ray-images/dataset/training/normal/NORMAL2-IM-0130-0001.jpeg',\n",
              " '/content/Classification-of-COVID-19-chest-X-ray-images/dataset/training/normal/NORMAL2-IM-0145-0001.jpeg',\n",
              " '/content/Classification-of-COVID-19-chest-X-ray-images/dataset/training/normal/NORMAL2-IM-0107-0001.jpeg',\n",
              " '/content/Classification-of-COVID-19-chest-X-ray-images/dataset/training/normal/NORMAL2-IM-0332-0001.jpeg',\n",
              " '/content/Classification-of-COVID-19-chest-X-ray-images/dataset/training/normal/NORMAL2-IM-0196-0001.jpeg',\n",
              " '/content/Classification-of-COVID-19-chest-X-ray-images/dataset/training/normal/NORMAL2-IM-0086-0001.jpeg',\n",
              " '/content/Classification-of-COVID-19-chest-X-ray-images/dataset/training/normal/NORMAL2-IM-0347-0001.jpeg',\n",
              " '/content/Classification-of-COVID-19-chest-X-ray-images/dataset/training/normal/NORMAL2-IM-0141-0001.jpeg',\n",
              " '/content/Classification-of-COVID-19-chest-X-ray-images/dataset/training/normal/NORMAL2-IM-0323-0001.jpeg',\n",
              " '/content/Classification-of-COVID-19-chest-X-ray-images/dataset/training/normal/NORMAL2-IM-0105-0001.jpeg',\n",
              " '/content/Classification-of-COVID-19-chest-X-ray-images/dataset/training/normal/NORMAL2-IM-0059-0001.jpeg',\n",
              " '/content/Classification-of-COVID-19-chest-X-ray-images/dataset/training/normal/NORMAL2-IM-0102-0001.jpeg',\n",
              " '/content/Classification-of-COVID-19-chest-X-ray-images/dataset/training/normal/NORMAL2-IM-0319-0001.jpeg',\n",
              " '/content/Classification-of-COVID-19-chest-X-ray-images/dataset/training/normal/NORMAL2-IM-0027-0001.jpeg',\n",
              " '/content/Classification-of-COVID-19-chest-X-ray-images/dataset/training/normal/NORMAL2-IM-0052-0001.jpeg',\n",
              " '/content/Classification-of-COVID-19-chest-X-ray-images/dataset/training/normal/NORMAL2-IM-0357-0001.jpeg',\n",
              " '/content/Classification-of-COVID-19-chest-X-ray-images/dataset/training/normal/NORMAL2-IM-0066-0001.jpeg',\n",
              " '/content/Classification-of-COVID-19-chest-X-ray-images/dataset/training/normal/NORMAL2-IM-0007-0001.jpeg',\n",
              " '/content/Classification-of-COVID-19-chest-X-ray-images/dataset/training/normal/NORMAL2-IM-0310-0001.jpeg',\n",
              " '/content/Classification-of-COVID-19-chest-X-ray-images/dataset/training/normal/NORMAL2-IM-0317-0001.jpeg',\n",
              " '/content/Classification-of-COVID-19-chest-X-ray-images/dataset/training/normal/NORMAL2-IM-0352-0001.jpeg',\n",
              " '/content/Classification-of-COVID-19-chest-X-ray-images/dataset/training/normal/NORMAL2-IM-0198-0001.jpeg',\n",
              " '/content/Classification-of-COVID-19-chest-X-ray-images/dataset/training/normal/NORMAL2-IM-0120-0001.jpeg',\n",
              " '/content/Classification-of-COVID-19-chest-X-ray-images/dataset/training/normal/NORMAL2-IM-0301-0001.jpeg',\n",
              " '/content/Classification-of-COVID-19-chest-X-ray-images/dataset/training/normal/NORMAL2-IM-0374-0001.jpeg',\n",
              " '/content/Classification-of-COVID-19-chest-X-ray-images/dataset/training/normal/NORMAL2-IM-0312-0001.jpeg',\n",
              " '/content/Classification-of-COVID-19-chest-X-ray-images/dataset/training/normal/NORMAL2-IM-0329-0001.jpeg',\n",
              " '/content/Classification-of-COVID-19-chest-X-ray-images/dataset/training/normal/NORMAL2-IM-0092-0001.jpeg',\n",
              " '/content/Classification-of-COVID-19-chest-X-ray-images/dataset/training/normal/NORMAL2-IM-0302-0001.jpeg',\n",
              " '/content/Classification-of-COVID-19-chest-X-ray-images/dataset/training/normal/NORMAL2-IM-0282-0001.jpeg',\n",
              " '/content/Classification-of-COVID-19-chest-X-ray-images/dataset/training/normal/NORMAL2-IM-0033-0001.jpeg',\n",
              " '/content/Classification-of-COVID-19-chest-X-ray-images/dataset/training/normal/NORMAL2-IM-0343-0001.jpeg',\n",
              " '/content/Classification-of-COVID-19-chest-X-ray-images/dataset/training/normal/NORMAL2-IM-0353-0001.jpeg',\n",
              " '/content/Classification-of-COVID-19-chest-X-ray-images/dataset/training/normal/NORMAL2-IM-0359-0001.jpeg',\n",
              " '/content/Classification-of-COVID-19-chest-X-ray-images/dataset/training/normal/NORMAL2-IM-0307-0001.jpeg',\n",
              " '/content/Classification-of-COVID-19-chest-X-ray-images/dataset/training/normal/NORMAL2-IM-0023-0001.jpeg',\n",
              " '/content/Classification-of-COVID-19-chest-X-ray-images/dataset/training/normal/NORMAL2-IM-0370-0001.jpeg',\n",
              " '/content/Classification-of-COVID-19-chest-X-ray-images/dataset/training/normal/NORMAL2-IM-0207-0001.jpeg',\n",
              " '/content/Classification-of-COVID-19-chest-X-ray-images/dataset/training/normal/NORMAL2-IM-0251-0001.jpeg',\n",
              " '/content/Classification-of-COVID-19-chest-X-ray-images/dataset/training/normal/NORMAL2-IM-0289-0001.jpeg',\n",
              " '/content/Classification-of-COVID-19-chest-X-ray-images/dataset/training/normal/NORMAL2-IM-0058-0001.jpeg',\n",
              " '/content/Classification-of-COVID-19-chest-X-ray-images/dataset/training/normal/NORMAL2-IM-0331-0001.jpeg',\n",
              " '/content/Classification-of-COVID-19-chest-X-ray-images/dataset/training/normal/NORMAL2-IM-0029-0001.jpeg',\n",
              " '/content/Classification-of-COVID-19-chest-X-ray-images/dataset/training/normal/NORMAL2-IM-0287-0001.jpeg',\n",
              " '/content/Classification-of-COVID-19-chest-X-ray-images/dataset/training/normal/NORMAL2-IM-0292-0001.jpeg',\n",
              " '/content/Classification-of-COVID-19-chest-X-ray-images/dataset/training/normal/NORMAL2-IM-0072-0001.jpeg',\n",
              " '/content/Classification-of-COVID-19-chest-X-ray-images/dataset/training/normal/NORMAL2-IM-0333-0001.jpeg',\n",
              " '/content/Classification-of-COVID-19-chest-X-ray-images/dataset/training/normal/NORMAL2-IM-0281-0001.jpeg',\n",
              " '/content/Classification-of-COVID-19-chest-X-ray-images/dataset/training/normal/NORMAL2-IM-0381-0001.jpeg',\n",
              " '/content/Classification-of-COVID-19-chest-X-ray-images/dataset/training/normal/NORMAL2-IM-0339-0001.jpeg',\n",
              " '/content/Classification-of-COVID-19-chest-X-ray-images/dataset/training/normal/NORMAL2-IM-0213-0001.jpeg',\n",
              " '/content/Classification-of-COVID-19-chest-X-ray-images/dataset/training/normal/NORMAL2-IM-0019-0001.jpeg',\n",
              " '/content/Classification-of-COVID-19-chest-X-ray-images/dataset/training/normal/NORMAL2-IM-0345-0001.jpeg',\n",
              " '/content/Classification-of-COVID-19-chest-X-ray-images/dataset/training/normal/NORMAL2-IM-0321-0001.jpeg',\n",
              " '/content/Classification-of-COVID-19-chest-X-ray-images/dataset/training/normal/NORMAL2-IM-0060-0001.jpeg',\n",
              " '/content/Classification-of-COVID-19-chest-X-ray-images/dataset/training/normal/NORMAL2-IM-0129-0001.jpeg',\n",
              " '/content/Classification-of-COVID-19-chest-X-ray-images/dataset/training/normal/NORMAL2-IM-0096-0001.jpeg',\n",
              " '/content/Classification-of-COVID-19-chest-X-ray-images/dataset/training/normal/NORMAL2-IM-0368-0001.jpeg',\n",
              " '/content/Classification-of-COVID-19-chest-X-ray-images/dataset/training/normal/NORMAL2-IM-0135-0001.jpeg',\n",
              " '/content/Classification-of-COVID-19-chest-X-ray-images/dataset/training/normal/NORMAL2-IM-0112-0001.jpeg',\n",
              " '/content/Classification-of-COVID-19-chest-X-ray-images/dataset/training/normal/NORMAL2-IM-0311-0001.jpeg',\n",
              " '/content/Classification-of-COVID-19-chest-X-ray-images/dataset/training/normal/NORMAL2-IM-0372-0001.jpeg',\n",
              " '/content/Classification-of-COVID-19-chest-X-ray-images/dataset/training/normal/1.jpeg',\n",
              " '/content/Classification-of-COVID-19-chest-X-ray-images/dataset/training/normal/NORMAL2-IM-0201-0001.jpeg',\n",
              " '/content/Classification-of-COVID-19-chest-X-ray-images/dataset/training/normal/NORMAL2-IM-0132-0001.jpeg',\n",
              " '/content/Classification-of-COVID-19-chest-X-ray-images/dataset/training/normal/NORMAL2-IM-0013-0001.jpeg',\n",
              " '/content/Classification-of-COVID-19-chest-X-ray-images/dataset/training/normal/NORMAL2-IM-0276-0001.jpeg',\n",
              " '/content/Classification-of-COVID-19-chest-X-ray-images/dataset/training/normal/NORMAL2-IM-0111-0001.jpeg',\n",
              " '/content/Classification-of-COVID-19-chest-X-ray-images/dataset/training/normal/NORMAL2-IM-0341-0001.jpeg',\n",
              " '/content/Classification-of-COVID-19-chest-X-ray-images/dataset/training/normal/NORMAL2-IM-0374-0001-0001.jpeg',\n",
              " '/content/Classification-of-COVID-19-chest-X-ray-images/dataset/training/normal/NORMAL2-IM-0028-0001.jpeg',\n",
              " '/content/Classification-of-COVID-19-chest-X-ray-images/dataset/training/normal/NORMAL2-IM-0300-0001.jpeg',\n",
              " '/content/Classification-of-COVID-19-chest-X-ray-images/dataset/training/normal/NORMAL2-IM-0278-0001.jpeg',\n",
              " '/content/Classification-of-COVID-19-chest-X-ray-images/dataset/training/normal/NORMAL2-IM-0073-0001.jpeg',\n",
              " '/content/Classification-of-COVID-19-chest-X-ray-images/dataset/training/normal/NORMAL2-IM-0277-0001.jpeg',\n",
              " '/content/Classification-of-COVID-19-chest-X-ray-images/dataset/training/normal/NORMAL2-IM-0297-0001.jpeg',\n",
              " '/content/Classification-of-COVID-19-chest-X-ray-images/dataset/training/normal/NORMAL2-IM-0110-0001.jpeg',\n",
              " '/content/Classification-of-COVID-19-chest-X-ray-images/dataset/training/normal/NORMAL2-IM-0309-0001.jpeg',\n",
              " '/content/Classification-of-COVID-19-chest-X-ray-images/dataset/training/normal/NORMAL2-IM-0081-0001.jpeg',\n",
              " '/content/Classification-of-COVID-19-chest-X-ray-images/dataset/training/Classification-of-COVID-19-chest-X-ray-images/README.md',\n",
              " '/content/Classification-of-COVID-19-chest-X-ray-images/dataset/training/Classification-of-COVID-19-chest-X-ray-images/aditi-godbole-model.py',\n",
              " '/content/Classification-of-COVID-19-chest-X-ray-images/dataset/training/Classification-of-COVID-19-chest-X-ray-images/vaibhav-model.py',\n",
              " '/content/Classification-of-COVID-19-chest-X-ray-images/dataset/training/Classification-of-COVID-19-chest-X-ray-images/aditya-gurnani-model.py',\n",
              " '/content/Classification-of-COVID-19-chest-X-ray-images/dataset/training/Classification-of-COVID-19-chest-X-ray-images/aditya-babar-model.py',\n",
              " '/content/Classification-of-COVID-19-chest-X-ray-images/dataset/training/Classification-of-COVID-19-chest-X-ray-images/aditi-verma-model.py',\n",
              " '/content/Classification-of-COVID-19-chest-X-ray-images/dataset/training/Classification-of-COVID-19-chest-X-ray-images/covid_VGG16.ipynb',\n",
              " '/content/Classification-of-COVID-19-chest-X-ray-images/dataset/training/Classification-of-COVID-19-chest-X-ray-images/dataset/evaluation/infected/1.jpg',\n",
              " '/content/Classification-of-COVID-19-chest-X-ray-images/dataset/training/Classification-of-COVID-19-chest-X-ray-images/dataset/evaluation/normal/1.jpeg',\n",
              " '/content/Classification-of-COVID-19-chest-X-ray-images/dataset/training/Classification-of-COVID-19-chest-X-ray-images/dataset/training/infected/covid_train12.png',\n",
              " '/content/Classification-of-COVID-19-chest-X-ray-images/dataset/training/Classification-of-COVID-19-chest-X-ray-images/dataset/training/infected/covid_train15.png',\n",
              " '/content/Classification-of-COVID-19-chest-X-ray-images/dataset/training/Classification-of-COVID-19-chest-X-ray-images/dataset/training/infected/covid_train21.png',\n",
              " '/content/Classification-of-COVID-19-chest-X-ray-images/dataset/training/Classification-of-COVID-19-chest-X-ray-images/dataset/training/infected/covid_train20.jpeg',\n",
              " '/content/Classification-of-COVID-19-chest-X-ray-images/dataset/training/Classification-of-COVID-19-chest-X-ray-images/dataset/training/infected/covid_train3.jpg',\n",
              " '/content/Classification-of-COVID-19-chest-X-ray-images/dataset/training/Classification-of-COVID-19-chest-X-ray-images/dataset/training/infected/covid_train13.png',\n",
              " '/content/Classification-of-COVID-19-chest-X-ray-images/dataset/training/Classification-of-COVID-19-chest-X-ray-images/dataset/training/infected/covid_train62.png',\n",
              " '/content/Classification-of-COVID-19-chest-X-ray-images/dataset/training/Classification-of-COVID-19-chest-X-ray-images/dataset/training/infected/covid_train23.jpeg',\n",
              " '/content/Classification-of-COVID-19-chest-X-ray-images/dataset/training/Classification-of-COVID-19-chest-X-ray-images/dataset/training/infected/covid_train37.jpeg',\n",
              " '/content/Classification-of-COVID-19-chest-X-ray-images/dataset/training/Classification-of-COVID-19-chest-X-ray-images/dataset/training/infected/covid_train82.jpeg',\n",
              " '/content/Classification-of-COVID-19-chest-X-ray-images/dataset/training/Classification-of-COVID-19-chest-X-ray-images/dataset/training/infected/covid_train31.jpeg',\n",
              " '/content/Classification-of-COVID-19-chest-X-ray-images/dataset/training/Classification-of-COVID-19-chest-X-ray-images/dataset/training/infected/covid_train66.jpg',\n",
              " '/content/Classification-of-COVID-19-chest-X-ray-images/dataset/training/Classification-of-COVID-19-chest-X-ray-images/dataset/training/infected/covid_train6.jpg',\n",
              " '/content/Classification-of-COVID-19-chest-X-ray-images/dataset/training/Classification-of-COVID-19-chest-X-ray-images/dataset/training/infected/covid_train57.jpg',\n",
              " '/content/Classification-of-COVID-19-chest-X-ray-images/dataset/training/Classification-of-COVID-19-chest-X-ray-images/dataset/training/infected/covid_train77.jpeg',\n",
              " '/content/Classification-of-COVID-19-chest-X-ray-images/dataset/training/Classification-of-COVID-19-chest-X-ray-images/dataset/training/infected/covid_train69.jpg',\n",
              " '/content/Classification-of-COVID-19-chest-X-ray-images/dataset/training/Classification-of-COVID-19-chest-X-ray-images/dataset/training/infected/covid_train89.jpeg',\n",
              " '/content/Classification-of-COVID-19-chest-X-ray-images/dataset/training/Classification-of-COVID-19-chest-X-ray-images/dataset/training/infected/covid_train11.png',\n",
              " '/content/Classification-of-COVID-19-chest-X-ray-images/dataset/training/Classification-of-COVID-19-chest-X-ray-images/dataset/training/infected/covid_train84.jpeg',\n",
              " '/content/Classification-of-COVID-19-chest-X-ray-images/dataset/training/Classification-of-COVID-19-chest-X-ray-images/dataset/training/infected/covid_train73.jpeg',\n",
              " '/content/Classification-of-COVID-19-chest-X-ray-images/dataset/training/Classification-of-COVID-19-chest-X-ray-images/dataset/training/infected/covid_train52.jpg',\n",
              " '/content/Classification-of-COVID-19-chest-X-ray-images/dataset/training/Classification-of-COVID-19-chest-X-ray-images/dataset/training/infected/covid_train33.jpeg',\n",
              " '/content/Classification-of-COVID-19-chest-X-ray-images/dataset/training/Classification-of-COVID-19-chest-X-ray-images/dataset/training/infected/covid_train49.jpg',\n",
              " '/content/Classification-of-COVID-19-chest-X-ray-images/dataset/training/Classification-of-COVID-19-chest-X-ray-images/dataset/training/infected/covid_train60.png',\n",
              " '/content/Classification-of-COVID-19-chest-X-ray-images/dataset/training/Classification-of-COVID-19-chest-X-ray-images/dataset/training/infected/covid_train30.jpeg',\n",
              " '/content/Classification-of-COVID-19-chest-X-ray-images/dataset/training/Classification-of-COVID-19-chest-X-ray-images/dataset/training/infected/covid_train42.jpeg',\n",
              " '/content/Classification-of-COVID-19-chest-X-ray-images/dataset/training/Classification-of-COVID-19-chest-X-ray-images/dataset/training/infected/covid_train87.jpeg',\n",
              " '/content/Classification-of-COVID-19-chest-X-ray-images/dataset/training/Classification-of-COVID-19-chest-X-ray-images/dataset/training/infected/covid_train54.jpg',\n",
              " '/content/Classification-of-COVID-19-chest-X-ray-images/dataset/training/Classification-of-COVID-19-chest-X-ray-images/dataset/training/infected/covid_train1.jpeg',\n",
              " '/content/Classification-of-COVID-19-chest-X-ray-images/dataset/training/Classification-of-COVID-19-chest-X-ray-images/dataset/training/infected/covid_train27.jpeg',\n",
              " '/content/Classification-of-COVID-19-chest-X-ray-images/dataset/training/Classification-of-COVID-19-chest-X-ray-images/dataset/training/infected/covid_train53.png',\n",
              " '/content/Classification-of-COVID-19-chest-X-ray-images/dataset/training/Classification-of-COVID-19-chest-X-ray-images/dataset/training/infected/covid_train88.jpeg',\n",
              " '/content/Classification-of-COVID-19-chest-X-ray-images/dataset/training/Classification-of-COVID-19-chest-X-ray-images/dataset/training/infected/covid_train48.png',\n",
              " '/content/Classification-of-COVID-19-chest-X-ray-images/dataset/training/Classification-of-COVID-19-chest-X-ray-images/dataset/training/infected/covid_train28.jpeg',\n",
              " '/content/Classification-of-COVID-19-chest-X-ray-images/dataset/training/Classification-of-COVID-19-chest-X-ray-images/dataset/training/infected/covid_train45.jpeg',\n",
              " '/content/Classification-of-COVID-19-chest-X-ray-images/dataset/training/Classification-of-COVID-19-chest-X-ray-images/dataset/training/infected/covid_train4.jpg',\n",
              " '/content/Classification-of-COVID-19-chest-X-ray-images/dataset/training/Classification-of-COVID-19-chest-X-ray-images/dataset/training/infected/covid_train14.png',\n",
              " '/content/Classification-of-COVID-19-chest-X-ray-images/dataset/training/Classification-of-COVID-19-chest-X-ray-images/dataset/training/infected/covid_train34.jpeg',\n",
              " '/content/Classification-of-COVID-19-chest-X-ray-images/dataset/training/Classification-of-COVID-19-chest-X-ray-images/dataset/training/infected/covid_train86.jpeg',\n",
              " '/content/Classification-of-COVID-19-chest-X-ray-images/dataset/training/Classification-of-COVID-19-chest-X-ray-images/dataset/training/infected/covid_train56.jpg',\n",
              " '/content/Classification-of-COVID-19-chest-X-ray-images/dataset/training/Classification-of-COVID-19-chest-X-ray-images/dataset/training/infected/covid_train70.jpg',\n",
              " '/content/Classification-of-COVID-19-chest-X-ray-images/dataset/training/Classification-of-COVID-19-chest-X-ray-images/dataset/training/infected/covid_train55.jpg',\n",
              " '/content/Classification-of-COVID-19-chest-X-ray-images/dataset/training/Classification-of-COVID-19-chest-X-ray-images/dataset/training/infected/covid_train9.png',\n",
              " '/content/Classification-of-COVID-19-chest-X-ray-images/dataset/training/Classification-of-COVID-19-chest-X-ray-images/dataset/training/infected/covid_train72.png',\n",
              " '/content/Classification-of-COVID-19-chest-X-ray-images/dataset/training/Classification-of-COVID-19-chest-X-ray-images/dataset/training/infected/covid_train26.jpeg',\n",
              " '/content/Classification-of-COVID-19-chest-X-ray-images/dataset/training/Classification-of-COVID-19-chest-X-ray-images/dataset/training/infected/covid_train85.jpeg',\n",
              " '/content/Classification-of-COVID-19-chest-X-ray-images/dataset/training/Classification-of-COVID-19-chest-X-ray-images/dataset/training/infected/covid_train79.jpeg',\n",
              " '/content/Classification-of-COVID-19-chest-X-ray-images/dataset/training/Classification-of-COVID-19-chest-X-ray-images/dataset/training/infected/covid_train40.jpeg',\n",
              " '/content/Classification-of-COVID-19-chest-X-ray-images/dataset/training/Classification-of-COVID-19-chest-X-ray-images/dataset/training/infected/covid_train29.jpeg',\n",
              " '/content/Classification-of-COVID-19-chest-X-ray-images/dataset/training/Classification-of-COVID-19-chest-X-ray-images/dataset/training/infected/covid_train83.png',\n",
              " '/content/Classification-of-COVID-19-chest-X-ray-images/dataset/training/Classification-of-COVID-19-chest-X-ray-images/dataset/training/infected/covid_train32.jpeg',\n",
              " '/content/Classification-of-COVID-19-chest-X-ray-images/dataset/training/Classification-of-COVID-19-chest-X-ray-images/dataset/training/infected/covid_train68.jpg',\n",
              " '/content/Classification-of-COVID-19-chest-X-ray-images/dataset/training/Classification-of-COVID-19-chest-X-ray-images/dataset/training/infected/covid_train76.jpg',\n",
              " '/content/Classification-of-COVID-19-chest-X-ray-images/dataset/training/Classification-of-COVID-19-chest-X-ray-images/dataset/training/infected/covid_train78.jpeg',\n",
              " '/content/Classification-of-COVID-19-chest-X-ray-images/dataset/training/Classification-of-COVID-19-chest-X-ray-images/dataset/training/infected/covid_train39.jpeg',\n",
              " '/content/Classification-of-COVID-19-chest-X-ray-images/dataset/training/Classification-of-COVID-19-chest-X-ray-images/dataset/training/infected/covid_train25.jpeg',\n",
              " '/content/Classification-of-COVID-19-chest-X-ray-images/dataset/training/Classification-of-COVID-19-chest-X-ray-images/dataset/training/infected/covid_train51.png',\n",
              " '/content/Classification-of-COVID-19-chest-X-ray-images/dataset/training/Classification-of-COVID-19-chest-X-ray-images/dataset/training/infected/covid_train2.jpeg',\n",
              " '/content/Classification-of-COVID-19-chest-X-ray-images/dataset/training/Classification-of-COVID-19-chest-X-ray-images/dataset/training/infected/covid_train61.jpg',\n",
              " '/content/Classification-of-COVID-19-chest-X-ray-images/dataset/training/Classification-of-COVID-19-chest-X-ray-images/dataset/training/infected/covid_train18.png',\n",
              " '/content/Classification-of-COVID-19-chest-X-ray-images/dataset/training/Classification-of-COVID-19-chest-X-ray-images/dataset/training/infected/covid_train67.jpg',\n",
              " '/content/Classification-of-COVID-19-chest-X-ray-images/dataset/training/Classification-of-COVID-19-chest-X-ray-images/dataset/training/infected/covid_train19.jpeg',\n",
              " '/content/Classification-of-COVID-19-chest-X-ray-images/dataset/training/Classification-of-COVID-19-chest-X-ray-images/dataset/training/infected/covid_train41.jpeg',\n",
              " '/content/Classification-of-COVID-19-chest-X-ray-images/dataset/training/Classification-of-COVID-19-chest-X-ray-images/dataset/training/infected/covid_train10.png',\n",
              " '/content/Classification-of-COVID-19-chest-X-ray-images/dataset/training/Classification-of-COVID-19-chest-X-ray-images/dataset/training/infected/covid_train74.jpeg',\n",
              " '/content/Classification-of-COVID-19-chest-X-ray-images/dataset/training/Classification-of-COVID-19-chest-X-ray-images/dataset/training/infected/covid_train22.jpeg',\n",
              " '/content/Classification-of-COVID-19-chest-X-ray-images/dataset/training/Classification-of-COVID-19-chest-X-ray-images/dataset/training/infected/covid_train81.jpeg',\n",
              " '/content/Classification-of-COVID-19-chest-X-ray-images/dataset/training/Classification-of-COVID-19-chest-X-ray-images/dataset/training/infected/covid_train71.jpg',\n",
              " '/content/Classification-of-COVID-19-chest-X-ray-images/dataset/training/Classification-of-COVID-19-chest-X-ray-images/dataset/training/infected/covid_train5.jpg',\n",
              " '/content/Classification-of-COVID-19-chest-X-ray-images/dataset/training/Classification-of-COVID-19-chest-X-ray-images/dataset/training/infected/covid_train75.jpg',\n",
              " '/content/Classification-of-COVID-19-chest-X-ray-images/dataset/training/Classification-of-COVID-19-chest-X-ray-images/dataset/training/infected/covid_train47.png',\n",
              " '/content/Classification-of-COVID-19-chest-X-ray-images/dataset/training/Classification-of-COVID-19-chest-X-ray-images/dataset/training/infected/covid_train50.png',\n",
              " '/content/Classification-of-COVID-19-chest-X-ray-images/dataset/training/Classification-of-COVID-19-chest-X-ray-images/dataset/training/infected/covid_train35.jpeg',\n",
              " '/content/Classification-of-COVID-19-chest-X-ray-images/dataset/training/Classification-of-COVID-19-chest-X-ray-images/dataset/training/infected/covid_train43.jpeg',\n",
              " '/content/Classification-of-COVID-19-chest-X-ray-images/dataset/training/Classification-of-COVID-19-chest-X-ray-images/dataset/training/infected/covid_train63.jpg',\n",
              " '/content/Classification-of-COVID-19-chest-X-ray-images/dataset/training/Classification-of-COVID-19-chest-X-ray-images/dataset/training/infected/1.jpeg',\n",
              " '/content/Classification-of-COVID-19-chest-X-ray-images/dataset/training/Classification-of-COVID-19-chest-X-ray-images/dataset/training/infected/covid_train24.jpeg',\n",
              " '/content/Classification-of-COVID-19-chest-X-ray-images/dataset/training/Classification-of-COVID-19-chest-X-ray-images/dataset/training/infected/covid_train38.jpeg',\n",
              " '/content/Classification-of-COVID-19-chest-X-ray-images/dataset/training/Classification-of-COVID-19-chest-X-ray-images/dataset/training/infected/covid_train7.jpg',\n",
              " '/content/Classification-of-COVID-19-chest-X-ray-images/dataset/training/Classification-of-COVID-19-chest-X-ray-images/dataset/training/infected/covid_train17.png',\n",
              " '/content/Classification-of-COVID-19-chest-X-ray-images/dataset/training/Classification-of-COVID-19-chest-X-ray-images/dataset/training/infected/covid_train8.png',\n",
              " '/content/Classification-of-COVID-19-chest-X-ray-images/dataset/training/Classification-of-COVID-19-chest-X-ray-images/dataset/training/infected/covid_train46.png',\n",
              " '/content/Classification-of-COVID-19-chest-X-ray-images/dataset/training/Classification-of-COVID-19-chest-X-ray-images/dataset/training/infected/covid_train64.jpg',\n",
              " '/content/Classification-of-COVID-19-chest-X-ray-images/dataset/training/Classification-of-COVID-19-chest-X-ray-images/dataset/training/infected/covid_train36.jpeg',\n",
              " '/content/Classification-of-COVID-19-chest-X-ray-images/dataset/training/Classification-of-COVID-19-chest-X-ray-images/dataset/training/infected/covid_train58.png',\n",
              " '/content/Classification-of-COVID-19-chest-X-ray-images/dataset/training/Classification-of-COVID-19-chest-X-ray-images/dataset/training/infected/covid_train16.png',\n",
              " '/content/Classification-of-COVID-19-chest-X-ray-images/dataset/training/Classification-of-COVID-19-chest-X-ray-images/dataset/training/infected/covid_train59.png',\n",
              " '/content/Classification-of-COVID-19-chest-X-ray-images/dataset/training/Classification-of-COVID-19-chest-X-ray-images/dataset/training/infected/covid_train65.jpg',\n",
              " '/content/Classification-of-COVID-19-chest-X-ray-images/dataset/training/Classification-of-COVID-19-chest-X-ray-images/dataset/training/infected/covid_train44.jpeg',\n",
              " '/content/Classification-of-COVID-19-chest-X-ray-images/dataset/training/Classification-of-COVID-19-chest-X-ray-images/dataset/training/infected/covid_train80.jpeg',\n",
              " '/content/Classification-of-COVID-19-chest-X-ray-images/dataset/training/Classification-of-COVID-19-chest-X-ray-images/dataset/training/normal/NORMAL2-IM-0305-0001.jpeg',\n",
              " '/content/Classification-of-COVID-19-chest-X-ray-images/dataset/training/Classification-of-COVID-19-chest-X-ray-images/dataset/training/normal/NORMAL2-IM-0361-0001.jpeg',\n",
              " '/content/Classification-of-COVID-19-chest-X-ray-images/dataset/training/Classification-of-COVID-19-chest-X-ray-images/dataset/training/normal/NORMAL2-IM-0286-0001.jpeg',\n",
              " '/content/Classification-of-COVID-19-chest-X-ray-images/dataset/training/Classification-of-COVID-19-chest-X-ray-images/dataset/training/normal/NORMAL2-IM-0095-0001.jpeg',\n",
              " '/content/Classification-of-COVID-19-chest-X-ray-images/dataset/training/Classification-of-COVID-19-chest-X-ray-images/dataset/training/normal/NORMAL2-IM-0030-0001.jpeg',\n",
              " '/content/Classification-of-COVID-19-chest-X-ray-images/dataset/training/Classification-of-COVID-19-chest-X-ray-images/dataset/training/normal/NORMAL2-IM-0350-0001.jpeg',\n",
              " '/content/Classification-of-COVID-19-chest-X-ray-images/dataset/training/Classification-of-COVID-19-chest-X-ray-images/dataset/training/normal/NORMAL2-IM-0079-0001.jpeg',\n",
              " '/content/Classification-of-COVID-19-chest-X-ray-images/dataset/training/Classification-of-COVID-19-chest-X-ray-images/dataset/training/normal/NORMAL2-IM-0117-0001.jpeg',\n",
              " '/content/Classification-of-COVID-19-chest-X-ray-images/dataset/training/Classification-of-COVID-19-chest-X-ray-images/dataset/training/normal/NORMAL2-IM-0380-0001.jpeg',\n",
              " '/content/Classification-of-COVID-19-chest-X-ray-images/dataset/training/Classification-of-COVID-19-chest-X-ray-images/dataset/training/normal/NORMAL2-IM-0012-0001.jpeg',\n",
              " '/content/Classification-of-COVID-19-chest-X-ray-images/dataset/training/Classification-of-COVID-19-chest-X-ray-images/dataset/training/normal/NORMAL2-IM-0348-0001.jpeg',\n",
              " '/content/Classification-of-COVID-19-chest-X-ray-images/dataset/training/Classification-of-COVID-19-chest-X-ray-images/dataset/training/normal/NORMAL2-IM-0051-0001.jpeg',\n",
              " '/content/Classification-of-COVID-19-chest-X-ray-images/dataset/training/Classification-of-COVID-19-chest-X-ray-images/dataset/training/normal/NORMAL2-IM-0275-0001.jpeg',\n",
              " '/content/Classification-of-COVID-19-chest-X-ray-images/dataset/training/Classification-of-COVID-19-chest-X-ray-images/dataset/training/normal/NORMAL2-IM-0273-0001.jpeg',\n",
              " '/content/Classification-of-COVID-19-chest-X-ray-images/dataset/training/Classification-of-COVID-19-chest-X-ray-images/dataset/training/normal/NORMAL2-IM-0259-0001.jpeg',\n",
              " '/content/Classification-of-COVID-19-chest-X-ray-images/dataset/training/Classification-of-COVID-19-chest-X-ray-images/dataset/training/normal/NORMAL2-IM-0274-0001.jpeg',\n",
              " '/content/Classification-of-COVID-19-chest-X-ray-images/dataset/training/Classification-of-COVID-19-chest-X-ray-images/dataset/training/normal/NORMAL2-IM-0271-0001.jpeg',\n",
              " '/content/Classification-of-COVID-19-chest-X-ray-images/dataset/training/Classification-of-COVID-19-chest-X-ray-images/dataset/training/normal/NORMAL2-IM-0337-0001.jpeg',\n",
              " '/content/Classification-of-COVID-19-chest-X-ray-images/dataset/training/Classification-of-COVID-19-chest-X-ray-images/dataset/training/normal/NORMAL2-IM-0130-0001.jpeg',\n",
              " '/content/Classification-of-COVID-19-chest-X-ray-images/dataset/training/Classification-of-COVID-19-chest-X-ray-images/dataset/training/normal/NORMAL2-IM-0145-0001.jpeg',\n",
              " '/content/Classification-of-COVID-19-chest-X-ray-images/dataset/training/Classification-of-COVID-19-chest-X-ray-images/dataset/training/normal/NORMAL2-IM-0107-0001.jpeg',\n",
              " '/content/Classification-of-COVID-19-chest-X-ray-images/dataset/training/Classification-of-COVID-19-chest-X-ray-images/dataset/training/normal/NORMAL2-IM-0332-0001.jpeg',\n",
              " '/content/Classification-of-COVID-19-chest-X-ray-images/dataset/training/Classification-of-COVID-19-chest-X-ray-images/dataset/training/normal/NORMAL2-IM-0196-0001.jpeg',\n",
              " '/content/Classification-of-COVID-19-chest-X-ray-images/dataset/training/Classification-of-COVID-19-chest-X-ray-images/dataset/training/normal/NORMAL2-IM-0086-0001.jpeg',\n",
              " '/content/Classification-of-COVID-19-chest-X-ray-images/dataset/training/Classification-of-COVID-19-chest-X-ray-images/dataset/training/normal/NORMAL2-IM-0347-0001.jpeg',\n",
              " '/content/Classification-of-COVID-19-chest-X-ray-images/dataset/training/Classification-of-COVID-19-chest-X-ray-images/dataset/training/normal/NORMAL2-IM-0141-0001.jpeg',\n",
              " '/content/Classification-of-COVID-19-chest-X-ray-images/dataset/training/Classification-of-COVID-19-chest-X-ray-images/dataset/training/normal/NORMAL2-IM-0323-0001.jpeg',\n",
              " '/content/Classification-of-COVID-19-chest-X-ray-images/dataset/training/Classification-of-COVID-19-chest-X-ray-images/dataset/training/normal/NORMAL2-IM-0105-0001.jpeg',\n",
              " '/content/Classification-of-COVID-19-chest-X-ray-images/dataset/training/Classification-of-COVID-19-chest-X-ray-images/dataset/training/normal/NORMAL2-IM-0059-0001.jpeg',\n",
              " '/content/Classification-of-COVID-19-chest-X-ray-images/dataset/training/Classification-of-COVID-19-chest-X-ray-images/dataset/training/normal/NORMAL2-IM-0102-0001.jpeg',\n",
              " '/content/Classification-of-COVID-19-chest-X-ray-images/dataset/training/Classification-of-COVID-19-chest-X-ray-images/dataset/training/normal/NORMAL2-IM-0319-0001.jpeg',\n",
              " '/content/Classification-of-COVID-19-chest-X-ray-images/dataset/training/Classification-of-COVID-19-chest-X-ray-images/dataset/training/normal/NORMAL2-IM-0027-0001.jpeg',\n",
              " '/content/Classification-of-COVID-19-chest-X-ray-images/dataset/training/Classification-of-COVID-19-chest-X-ray-images/dataset/training/normal/NORMAL2-IM-0052-0001.jpeg',\n",
              " '/content/Classification-of-COVID-19-chest-X-ray-images/dataset/training/Classification-of-COVID-19-chest-X-ray-images/dataset/training/normal/NORMAL2-IM-0357-0001.jpeg',\n",
              " '/content/Classification-of-COVID-19-chest-X-ray-images/dataset/training/Classification-of-COVID-19-chest-X-ray-images/dataset/training/normal/NORMAL2-IM-0066-0001.jpeg',\n",
              " '/content/Classification-of-COVID-19-chest-X-ray-images/dataset/training/Classification-of-COVID-19-chest-X-ray-images/dataset/training/normal/NORMAL2-IM-0007-0001.jpeg',\n",
              " '/content/Classification-of-COVID-19-chest-X-ray-images/dataset/training/Classification-of-COVID-19-chest-X-ray-images/dataset/training/normal/NORMAL2-IM-0310-0001.jpeg',\n",
              " '/content/Classification-of-COVID-19-chest-X-ray-images/dataset/training/Classification-of-COVID-19-chest-X-ray-images/dataset/training/normal/NORMAL2-IM-0317-0001.jpeg',\n",
              " '/content/Classification-of-COVID-19-chest-X-ray-images/dataset/training/Classification-of-COVID-19-chest-X-ray-images/dataset/training/normal/NORMAL2-IM-0352-0001.jpeg',\n",
              " '/content/Classification-of-COVID-19-chest-X-ray-images/dataset/training/Classification-of-COVID-19-chest-X-ray-images/dataset/training/normal/NORMAL2-IM-0198-0001.jpeg',\n",
              " '/content/Classification-of-COVID-19-chest-X-ray-images/dataset/training/Classification-of-COVID-19-chest-X-ray-images/dataset/training/normal/NORMAL2-IM-0120-0001.jpeg',\n",
              " '/content/Classification-of-COVID-19-chest-X-ray-images/dataset/training/Classification-of-COVID-19-chest-X-ray-images/dataset/training/normal/NORMAL2-IM-0301-0001.jpeg',\n",
              " '/content/Classification-of-COVID-19-chest-X-ray-images/dataset/training/Classification-of-COVID-19-chest-X-ray-images/dataset/training/normal/NORMAL2-IM-0374-0001.jpeg',\n",
              " '/content/Classification-of-COVID-19-chest-X-ray-images/dataset/training/Classification-of-COVID-19-chest-X-ray-images/dataset/training/normal/NORMAL2-IM-0312-0001.jpeg',\n",
              " '/content/Classification-of-COVID-19-chest-X-ray-images/dataset/training/Classification-of-COVID-19-chest-X-ray-images/dataset/training/normal/NORMAL2-IM-0329-0001.jpeg',\n",
              " '/content/Classification-of-COVID-19-chest-X-ray-images/dataset/training/Classification-of-COVID-19-chest-X-ray-images/dataset/training/normal/NORMAL2-IM-0092-0001.jpeg',\n",
              " '/content/Classification-of-COVID-19-chest-X-ray-images/dataset/training/Classification-of-COVID-19-chest-X-ray-images/dataset/training/normal/NORMAL2-IM-0302-0001.jpeg',\n",
              " '/content/Classification-of-COVID-19-chest-X-ray-images/dataset/training/Classification-of-COVID-19-chest-X-ray-images/dataset/training/normal/NORMAL2-IM-0282-0001.jpeg',\n",
              " '/content/Classification-of-COVID-19-chest-X-ray-images/dataset/training/Classification-of-COVID-19-chest-X-ray-images/dataset/training/normal/NORMAL2-IM-0033-0001.jpeg',\n",
              " '/content/Classification-of-COVID-19-chest-X-ray-images/dataset/training/Classification-of-COVID-19-chest-X-ray-images/dataset/training/normal/NORMAL2-IM-0343-0001.jpeg',\n",
              " '/content/Classification-of-COVID-19-chest-X-ray-images/dataset/training/Classification-of-COVID-19-chest-X-ray-images/dataset/training/normal/NORMAL2-IM-0353-0001.jpeg',\n",
              " '/content/Classification-of-COVID-19-chest-X-ray-images/dataset/training/Classification-of-COVID-19-chest-X-ray-images/dataset/training/normal/NORMAL2-IM-0359-0001.jpeg',\n",
              " '/content/Classification-of-COVID-19-chest-X-ray-images/dataset/training/Classification-of-COVID-19-chest-X-ray-images/dataset/training/normal/NORMAL2-IM-0307-0001.jpeg',\n",
              " '/content/Classification-of-COVID-19-chest-X-ray-images/dataset/training/Classification-of-COVID-19-chest-X-ray-images/dataset/training/normal/NORMAL2-IM-0023-0001.jpeg',\n",
              " '/content/Classification-of-COVID-19-chest-X-ray-images/dataset/training/Classification-of-COVID-19-chest-X-ray-images/dataset/training/normal/NORMAL2-IM-0370-0001.jpeg',\n",
              " '/content/Classification-of-COVID-19-chest-X-ray-images/dataset/training/Classification-of-COVID-19-chest-X-ray-images/dataset/training/normal/NORMAL2-IM-0207-0001.jpeg',\n",
              " '/content/Classification-of-COVID-19-chest-X-ray-images/dataset/training/Classification-of-COVID-19-chest-X-ray-images/dataset/training/normal/NORMAL2-IM-0251-0001.jpeg',\n",
              " '/content/Classification-of-COVID-19-chest-X-ray-images/dataset/training/Classification-of-COVID-19-chest-X-ray-images/dataset/training/normal/NORMAL2-IM-0289-0001.jpeg',\n",
              " '/content/Classification-of-COVID-19-chest-X-ray-images/dataset/training/Classification-of-COVID-19-chest-X-ray-images/dataset/training/normal/NORMAL2-IM-0058-0001.jpeg',\n",
              " '/content/Classification-of-COVID-19-chest-X-ray-images/dataset/training/Classification-of-COVID-19-chest-X-ray-images/dataset/training/normal/NORMAL2-IM-0331-0001.jpeg',\n",
              " '/content/Classification-of-COVID-19-chest-X-ray-images/dataset/training/Classification-of-COVID-19-chest-X-ray-images/dataset/training/normal/NORMAL2-IM-0029-0001.jpeg',\n",
              " '/content/Classification-of-COVID-19-chest-X-ray-images/dataset/training/Classification-of-COVID-19-chest-X-ray-images/dataset/training/normal/NORMAL2-IM-0287-0001.jpeg',\n",
              " '/content/Classification-of-COVID-19-chest-X-ray-images/dataset/training/Classification-of-COVID-19-chest-X-ray-images/dataset/training/normal/NORMAL2-IM-0292-0001.jpeg',\n",
              " '/content/Classification-of-COVID-19-chest-X-ray-images/dataset/training/Classification-of-COVID-19-chest-X-ray-images/dataset/training/normal/NORMAL2-IM-0072-0001.jpeg',\n",
              " '/content/Classification-of-COVID-19-chest-X-ray-images/dataset/training/Classification-of-COVID-19-chest-X-ray-images/dataset/training/normal/NORMAL2-IM-0333-0001.jpeg',\n",
              " '/content/Classification-of-COVID-19-chest-X-ray-images/dataset/training/Classification-of-COVID-19-chest-X-ray-images/dataset/training/normal/NORMAL2-IM-0281-0001.jpeg',\n",
              " '/content/Classification-of-COVID-19-chest-X-ray-images/dataset/training/Classification-of-COVID-19-chest-X-ray-images/dataset/training/normal/NORMAL2-IM-0381-0001.jpeg',\n",
              " '/content/Classification-of-COVID-19-chest-X-ray-images/dataset/training/Classification-of-COVID-19-chest-X-ray-images/dataset/training/normal/NORMAL2-IM-0339-0001.jpeg',\n",
              " '/content/Classification-of-COVID-19-chest-X-ray-images/dataset/training/Classification-of-COVID-19-chest-X-ray-images/dataset/training/normal/NORMAL2-IM-0213-0001.jpeg',\n",
              " '/content/Classification-of-COVID-19-chest-X-ray-images/dataset/training/Classification-of-COVID-19-chest-X-ray-images/dataset/training/normal/NORMAL2-IM-0019-0001.jpeg',\n",
              " '/content/Classification-of-COVID-19-chest-X-ray-images/dataset/training/Classification-of-COVID-19-chest-X-ray-images/dataset/training/normal/NORMAL2-IM-0345-0001.jpeg',\n",
              " '/content/Classification-of-COVID-19-chest-X-ray-images/dataset/training/Classification-of-COVID-19-chest-X-ray-images/dataset/training/normal/NORMAL2-IM-0321-0001.jpeg',\n",
              " '/content/Classification-of-COVID-19-chest-X-ray-images/dataset/training/Classification-of-COVID-19-chest-X-ray-images/dataset/training/normal/NORMAL2-IM-0060-0001.jpeg',\n",
              " '/content/Classification-of-COVID-19-chest-X-ray-images/dataset/training/Classification-of-COVID-19-chest-X-ray-images/dataset/training/normal/NORMAL2-IM-0129-0001.jpeg',\n",
              " '/content/Classification-of-COVID-19-chest-X-ray-images/dataset/training/Classification-of-COVID-19-chest-X-ray-images/dataset/training/normal/NORMAL2-IM-0096-0001.jpeg',\n",
              " '/content/Classification-of-COVID-19-chest-X-ray-images/dataset/training/Classification-of-COVID-19-chest-X-ray-images/dataset/training/normal/NORMAL2-IM-0368-0001.jpeg',\n",
              " '/content/Classification-of-COVID-19-chest-X-ray-images/dataset/training/Classification-of-COVID-19-chest-X-ray-images/dataset/training/normal/NORMAL2-IM-0135-0001.jpeg',\n",
              " '/content/Classification-of-COVID-19-chest-X-ray-images/dataset/training/Classification-of-COVID-19-chest-X-ray-images/dataset/training/normal/NORMAL2-IM-0112-0001.jpeg',\n",
              " '/content/Classification-of-COVID-19-chest-X-ray-images/dataset/training/Classification-of-COVID-19-chest-X-ray-images/dataset/training/normal/NORMAL2-IM-0311-0001.jpeg',\n",
              " '/content/Classification-of-COVID-19-chest-X-ray-images/dataset/training/Classification-of-COVID-19-chest-X-ray-images/dataset/training/normal/NORMAL2-IM-0372-0001.jpeg',\n",
              " '/content/Classification-of-COVID-19-chest-X-ray-images/dataset/training/Classification-of-COVID-19-chest-X-ray-images/dataset/training/normal/1.jpeg',\n",
              " '/content/Classification-of-COVID-19-chest-X-ray-images/dataset/training/Classification-of-COVID-19-chest-X-ray-images/dataset/training/normal/NORMAL2-IM-0201-0001.jpeg',\n",
              " '/content/Classification-of-COVID-19-chest-X-ray-images/dataset/training/Classification-of-COVID-19-chest-X-ray-images/dataset/training/normal/NORMAL2-IM-0132-0001.jpeg',\n",
              " '/content/Classification-of-COVID-19-chest-X-ray-images/dataset/training/Classification-of-COVID-19-chest-X-ray-images/dataset/training/normal/NORMAL2-IM-0013-0001.jpeg',\n",
              " '/content/Classification-of-COVID-19-chest-X-ray-images/dataset/training/Classification-of-COVID-19-chest-X-ray-images/dataset/training/normal/NORMAL2-IM-0276-0001.jpeg',\n",
              " '/content/Classification-of-COVID-19-chest-X-ray-images/dataset/training/Classification-of-COVID-19-chest-X-ray-images/dataset/training/normal/NORMAL2-IM-0111-0001.jpeg',\n",
              " '/content/Classification-of-COVID-19-chest-X-ray-images/dataset/training/Classification-of-COVID-19-chest-X-ray-images/dataset/training/normal/NORMAL2-IM-0341-0001.jpeg',\n",
              " '/content/Classification-of-COVID-19-chest-X-ray-images/dataset/training/Classification-of-COVID-19-chest-X-ray-images/dataset/training/normal/NORMAL2-IM-0374-0001-0001.jpeg',\n",
              " '/content/Classification-of-COVID-19-chest-X-ray-images/dataset/training/Classification-of-COVID-19-chest-X-ray-images/dataset/training/normal/NORMAL2-IM-0028-0001.jpeg',\n",
              " '/content/Classification-of-COVID-19-chest-X-ray-images/dataset/training/Classification-of-COVID-19-chest-X-ray-images/dataset/training/normal/NORMAL2-IM-0300-0001.jpeg',\n",
              " '/content/Classification-of-COVID-19-chest-X-ray-images/dataset/training/Classification-of-COVID-19-chest-X-ray-images/dataset/training/normal/NORMAL2-IM-0278-0001.jpeg',\n",
              " '/content/Classification-of-COVID-19-chest-X-ray-images/dataset/training/Classification-of-COVID-19-chest-X-ray-images/dataset/training/normal/NORMAL2-IM-0073-0001.jpeg',\n",
              " '/content/Classification-of-COVID-19-chest-X-ray-images/dataset/training/Classification-of-COVID-19-chest-X-ray-images/dataset/training/normal/NORMAL2-IM-0277-0001.jpeg',\n",
              " '/content/Classification-of-COVID-19-chest-X-ray-images/dataset/training/Classification-of-COVID-19-chest-X-ray-images/dataset/training/normal/NORMAL2-IM-0297-0001.jpeg',\n",
              " '/content/Classification-of-COVID-19-chest-X-ray-images/dataset/training/Classification-of-COVID-19-chest-X-ray-images/dataset/training/normal/NORMAL2-IM-0110-0001.jpeg',\n",
              " '/content/Classification-of-COVID-19-chest-X-ray-images/dataset/training/Classification-of-COVID-19-chest-X-ray-images/dataset/training/normal/NORMAL2-IM-0309-0001.jpeg',\n",
              " '/content/Classification-of-COVID-19-chest-X-ray-images/dataset/training/Classification-of-COVID-19-chest-X-ray-images/dataset/training/normal/NORMAL2-IM-0081-0001.jpeg',\n",
              " '/content/Classification-of-COVID-19-chest-X-ray-images/dataset/training/Classification-of-COVID-19-chest-X-ray-images/dataset/testing/infected/covid-19-pneumonia-44-day-0.jpeg',\n",
              " '/content/Classification-of-COVID-19-chest-X-ray-images/dataset/training/Classification-of-COVID-19-chest-X-ray-images/dataset/testing/infected/covid-19-pneumonia-mild.JPG',\n",
              " '/content/Classification-of-COVID-19-chest-X-ray-images/dataset/training/Classification-of-COVID-19-chest-X-ray-images/dataset/testing/infected/kjr-21-e24-g002-l-a.jpg',\n",
              " '/content/Classification-of-COVID-19-chest-X-ray-images/dataset/training/Classification-of-COVID-19-chest-X-ray-images/dataset/testing/infected/covid-19-pneumonia-20-pa-on-admission.jpg',\n",
              " '/content/Classification-of-COVID-19-chest-X-ray-images/dataset/training/Classification-of-COVID-19-chest-X-ray-images/dataset/testing/infected/covid-19-pneumonia-evolution-over-a-week-1-day0-PA.jpg',\n",
              " '/content/Classification-of-COVID-19-chest-X-ray-images/dataset/training/Classification-of-COVID-19-chest-X-ray-images/dataset/testing/infected/80446565-E090-4187-A031-9D3CEAA586C8.jpeg',\n",
              " '/content/Classification-of-COVID-19-chest-X-ray-images/dataset/training/Classification-of-COVID-19-chest-X-ray-images/dataset/testing/infected/kjr-21-e25-g001-l-a.jpg',\n",
              " '/content/Classification-of-COVID-19-chest-X-ray-images/dataset/training/Classification-of-COVID-19-chest-X-ray-images/dataset/testing/infected/covid-19-pneumonia-67.jpeg',\n",
              " '/content/Classification-of-COVID-19-chest-X-ray-images/dataset/training/Classification-of-COVID-19-chest-X-ray-images/dataset/testing/infected/all14238-fig-0001-m-c.jpg',\n",
              " '/content/Classification-of-COVID-19-chest-X-ray-images/dataset/training/Classification-of-COVID-19-chest-X-ray-images/dataset/testing/infected/kjr-21-e24-g001-l-a.jpg',\n",
              " '/content/Classification-of-COVID-19-chest-X-ray-images/dataset/training/Classification-of-COVID-19-chest-X-ray-images/dataset/testing/infected/41591_2020_819_Fig1_HTML.webp-day10.png',\n",
              " '/content/Classification-of-COVID-19-chest-X-ray-images/dataset/training/Classification-of-COVID-19-chest-X-ray-images/dataset/testing/infected/gr1_lrg-a.jpg',\n",
              " '/content/Classification-of-COVID-19-chest-X-ray-images/dataset/training/Classification-of-COVID-19-chest-X-ray-images/dataset/testing/infected/kjr-21-e24-g003-l-a.jpg',\n",
              " '/content/Classification-of-COVID-19-chest-X-ray-images/dataset/training/Classification-of-COVID-19-chest-X-ray-images/dataset/testing/infected/covid-19-pneumonia-8.jpg',\n",
              " '/content/Classification-of-COVID-19-chest-X-ray-images/dataset/training/Classification-of-COVID-19-chest-X-ray-images/dataset/testing/infected/F2DE909F-E19C-4900-92F5-8F435B031AC6.jpeg',\n",
              " '/content/Classification-of-COVID-19-chest-X-ray-images/dataset/training/Classification-of-COVID-19-chest-X-ray-images/dataset/testing/infected/1.jpg',\n",
              " '/content/Classification-of-COVID-19-chest-X-ray-images/dataset/training/Classification-of-COVID-19-chest-X-ray-images/dataset/testing/infected/58cb9263f16e94305c730685358e4e_jumbo.jpeg',\n",
              " '/content/Classification-of-COVID-19-chest-X-ray-images/dataset/training/Classification-of-COVID-19-chest-X-ray-images/dataset/testing/infected/1-s2.0-S1684118220300608-main.pdf-002.jpg',\n",
              " '/content/Classification-of-COVID-19-chest-X-ray-images/dataset/training/Classification-of-COVID-19-chest-X-ray-images/dataset/testing/infected/nCoV-radiol.2020200269.fig1-day7.jpeg',\n",
              " '/content/Classification-of-COVID-19-chest-X-ray-images/dataset/training/Classification-of-COVID-19-chest-X-ray-images/dataset/testing/infected/41591_2020_819_Fig1_HTML.webp-day5.png',\n",
              " '/content/Classification-of-COVID-19-chest-X-ray-images/dataset/training/Classification-of-COVID-19-chest-X-ray-images/dataset/testing/infected/all14238-fig-0001-m-b.jpg',\n",
              " '/content/Classification-of-COVID-19-chest-X-ray-images/dataset/training/Classification-of-COVID-19-chest-X-ray-images/dataset/testing/infected/4e43e48d52c9e2d4c6c1fb9bc1544f_jumbo.jpeg',\n",
              " '/content/Classification-of-COVID-19-chest-X-ray-images/dataset/training/Classification-of-COVID-19-chest-X-ray-images/dataset/testing/infected/covid-19-pneumonia-53.jpg',\n",
              " '/content/Classification-of-COVID-19-chest-X-ray-images/dataset/training/Classification-of-COVID-19-chest-X-ray-images/dataset/testing/infected/31BA3780-2323-493F-8AED-62081B9C383B.jpeg',\n",
              " '/content/Classification-of-COVID-19-chest-X-ray-images/dataset/training/Classification-of-COVID-19-chest-X-ray-images/dataset/testing/infected/gr1_lrg-b.jpg',\n",
              " '/content/Classification-of-COVID-19-chest-X-ray-images/dataset/training/Classification-of-COVID-19-chest-X-ray-images/dataset/testing/normal/NORMAL2-IM-0346-0001.jpeg',\n",
              " '/content/Classification-of-COVID-19-chest-X-ray-images/dataset/training/Classification-of-COVID-19-chest-X-ray-images/dataset/testing/normal/NORMAL2-IM-0315-0001.jpeg',\n",
              " '/content/Classification-of-COVID-19-chest-X-ray-images/dataset/training/Classification-of-COVID-19-chest-X-ray-images/dataset/testing/normal/NORMAL2-IM-0294-0001.jpeg',\n",
              " '/content/Classification-of-COVID-19-chest-X-ray-images/dataset/training/Classification-of-COVID-19-chest-X-ray-images/dataset/testing/normal/NORMAL2-IM-0139-0001.jpeg',\n",
              " '/content/Classification-of-COVID-19-chest-X-ray-images/dataset/training/Classification-of-COVID-19-chest-X-ray-images/dataset/testing/normal/NORMAL2-IM-0217-0001.jpeg',\n",
              " '/content/Classification-of-COVID-19-chest-X-ray-images/dataset/training/Classification-of-COVID-19-chest-X-ray-images/dataset/testing/normal/NORMAL2-IM-0304-0001.jpeg',\n",
              " '/content/Classification-of-COVID-19-chest-X-ray-images/dataset/training/Classification-of-COVID-19-chest-X-ray-images/dataset/testing/normal/NORMAL2-IM-0252-0001.jpeg',\n",
              " '/content/Classification-of-COVID-19-chest-X-ray-images/dataset/training/Classification-of-COVID-19-chest-X-ray-images/dataset/testing/normal/NORMAL2-IM-0369-0001.jpeg',\n",
              " '/content/Classification-of-COVID-19-chest-X-ray-images/dataset/training/Classification-of-COVID-19-chest-X-ray-images/dataset/testing/normal/NORMAL2-IM-0354-0001.jpeg',\n",
              " '/content/Classification-of-COVID-19-chest-X-ray-images/dataset/training/Classification-of-COVID-19-chest-X-ray-images/dataset/testing/normal/NORMAL2-IM-0280-0001.jpeg',\n",
              " '/content/Classification-of-COVID-19-chest-X-ray-images/dataset/training/Classification-of-COVID-19-chest-X-ray-images/dataset/testing/normal/NORMAL2-IM-0195-0001.jpeg',\n",
              " '/content/Classification-of-COVID-19-chest-X-ray-images/dataset/training/Classification-of-COVID-19-chest-X-ray-images/dataset/testing/normal/NORMAL2-IM-0222-0001.jpeg',\n",
              " '/content/Classification-of-COVID-19-chest-X-ray-images/dataset/training/Classification-of-COVID-19-chest-X-ray-images/dataset/testing/normal/NORMAL2-IM-0241-0001.jpeg',\n",
              " '/content/Classification-of-COVID-19-chest-X-ray-images/dataset/training/Classification-of-COVID-19-chest-X-ray-images/dataset/testing/normal/NORMAL2-IM-0327-0001.jpeg',\n",
              " '/content/Classification-of-COVID-19-chest-X-ray-images/dataset/training/Classification-of-COVID-19-chest-X-ray-images/dataset/testing/normal/NORMAL2-IM-0246-0001.jpeg',\n",
              " '/content/Classification-of-COVID-19-chest-X-ray-images/dataset/training/Classification-of-COVID-19-chest-X-ray-images/dataset/testing/normal/NORMAL2-IM-0045-0001.jpeg',\n",
              " '/content/Classification-of-COVID-19-chest-X-ray-images/dataset/training/Classification-of-COVID-19-chest-X-ray-images/dataset/testing/normal/NORMAL2-IM-0285-0001.jpeg',\n",
              " '/content/Classification-of-COVID-19-chest-X-ray-images/dataset/training/Classification-of-COVID-19-chest-X-ray-images/dataset/testing/normal/NORMAL2-IM-0376-0001.jpeg',\n",
              " '/content/Classification-of-COVID-19-chest-X-ray-images/dataset/training/Classification-of-COVID-19-chest-X-ray-images/dataset/testing/normal/NORMAL2-IM-0173-0001-0001.jpeg',\n",
              " '/content/Classification-of-COVID-19-chest-X-ray-images/dataset/training/Classification-of-COVID-19-chest-X-ray-images/dataset/testing/normal/NORMAL2-IM-0098-0001.jpeg',\n",
              " '/content/Classification-of-COVID-19-chest-X-ray-images/dataset/training/Classification-of-COVID-19-chest-X-ray-images/dataset/testing/normal/NORMAL2-IM-0123-0001.jpeg',\n",
              " '/content/Classification-of-COVID-19-chest-X-ray-images/dataset/training/Classification-of-COVID-19-chest-X-ray-images/dataset/testing/normal/NORMAL2-IM-0246-0001-0001.jpeg',\n",
              " '/content/Classification-of-COVID-19-chest-X-ray-images/dataset/training/Classification-of-COVID-19-chest-X-ray-images/dataset/testing/normal/NORMAL2-IM-0378-0001.jpeg',\n",
              " '/content/Classification-of-COVID-19-chest-X-ray-images/dataset/training/Classification-of-COVID-19-chest-X-ray-images/dataset/testing/normal/NORMAL2-IM-0237-0001.jpeg',\n",
              " '/content/Classification-of-COVID-19-chest-X-ray-images/dataset/training/Classification-of-COVID-19-chest-X-ray-images/dataset/testing/normal/NORMAL2-IM-0173-0001-0002.jpeg',\n",
              " '/content/Classification-of-COVID-19-chest-X-ray-images/dataset/training/Classification-of-COVID-19-chest-X-ray-images/dataset/testing/normal/NORMAL2-IM-0330-0001.jpeg',\n",
              " '/content/Classification-of-COVID-19-chest-X-ray-images/dataset/training/Classification-of-COVID-19-chest-X-ray-images/dataset/testing/normal/NORMAL2-IM-0338-0001.jpeg',\n",
              " '/content/Classification-of-COVID-19-chest-X-ray-images/dataset/training/Classification-of-COVID-19-chest-X-ray-images/dataset/testing/normal/NORMAL2-IM-0336-0001.jpeg',\n",
              " '/content/Classification-of-COVID-19-chest-X-ray-images/dataset/training/Classification-of-COVID-19-chest-X-ray-images/dataset/testing/normal/NORMAL2-IM-0171-0001.jpeg',\n",
              " '/content/Classification-of-COVID-19-chest-X-ray-images/dataset/training/Classification-of-COVID-19-chest-X-ray-images/dataset/testing/normal/NORMAL2-IM-0349-0001.jpeg',\n",
              " '/content/Classification-of-COVID-19-chest-X-ray-images/dataset/training/Classification-of-COVID-19-chest-X-ray-images/dataset/testing/normal/NORMAL2-IM-0256-0001.jpeg',\n",
              " '/content/Classification-of-COVID-19-chest-X-ray-images/dataset/training/Classification-of-COVID-19-chest-X-ray-images/dataset/testing/normal/NORMAL2-IM-0206-0001.jpeg',\n",
              " '/content/Classification-of-COVID-19-chest-X-ray-images/dataset/training/Classification-of-COVID-19-chest-X-ray-images/dataset/testing/normal/NORMAL2-IM-0272-0001.jpeg',\n",
              " '/content/Classification-of-COVID-19-chest-X-ray-images/dataset/training/Classification-of-COVID-19-chest-X-ray-images/dataset/testing/normal/NORMAL2-IM-0360-0001.jpeg',\n",
              " '/content/Classification-of-COVID-19-chest-X-ray-images/dataset/training/Classification-of-COVID-19-chest-X-ray-images/dataset/testing/normal/NORMAL2-IM-0249-0001.jpeg',\n",
              " '/content/Classification-of-COVID-19-chest-X-ray-images/dataset/training/Classification-of-COVID-19-chest-X-ray-images/dataset/testing/normal/NORMAL2-IM-0364-0001.jpeg',\n",
              " '/content/Classification-of-COVID-19-chest-X-ray-images/dataset/training/Classification-of-COVID-19-chest-X-ray-images/dataset/testing/normal/NORMAL2-IM-0150-0001.jpeg',\n",
              " '/content/Classification-of-COVID-19-chest-X-ray-images/dataset/training/Classification-of-COVID-19-chest-X-ray-images/dataset/testing/normal/NORMAL2-IM-0221-0001.jpeg',\n",
              " '/content/Classification-of-COVID-19-chest-X-ray-images/dataset/training/Classification-of-COVID-19-chest-X-ray-images/dataset/testing/normal/NORMAL2-IM-0373-0001.jpeg',\n",
              " '/content/Classification-of-COVID-19-chest-X-ray-images/dataset/training/Classification-of-COVID-19-chest-X-ray-images/dataset/testing/normal/NORMAL2-IM-0374-0001-0002.jpeg',\n",
              " '/content/Classification-of-COVID-19-chest-X-ray-images/dataset/training/Classification-of-COVID-19-chest-X-ray-images/dataset/testing/normal/NORMAL2-IM-0283-0001.jpeg',\n",
              " '/content/Classification-of-COVID-19-chest-X-ray-images/dataset/training/Classification-of-COVID-19-chest-X-ray-images/dataset/testing/normal/NORMAL2-IM-0219-0001.jpeg',\n",
              " '/content/Classification-of-COVID-19-chest-X-ray-images/dataset/training/Classification-of-COVID-19-chest-X-ray-images/dataset/testing/normal/NORMAL2-IM-0041-0001.jpeg',\n",
              " '/content/Classification-of-COVID-19-chest-X-ray-images/dataset/training/Classification-of-COVID-19-chest-X-ray-images/dataset/testing/normal/NORMAL2-IM-0246-0001-0002.jpeg',\n",
              " '/content/Classification-of-COVID-19-chest-X-ray-images/dataset/training/Classification-of-COVID-19-chest-X-ray-images/dataset/testing/normal/NORMAL2-IM-0326-0001.jpeg',\n",
              " '/content/Classification-of-COVID-19-chest-X-ray-images/dataset/training/Classification-of-COVID-19-chest-X-ray-images/dataset/testing/normal/NORMAL2-IM-0146-0001.jpeg',\n",
              " '/content/Classification-of-COVID-19-chest-X-ray-images/dataset/training/Classification-of-COVID-19-chest-X-ray-images/dataset/testing/normal/NORMAL2-IM-0199-0001.jpeg',\n",
              " '/content/Classification-of-COVID-19-chest-X-ray-images/dataset/training/Classification-of-COVID-19-chest-X-ray-images/dataset/testing/normal/NORMAL2-IM-0313-0001.jpeg',\n",
              " '/content/Classification-of-COVID-19-chest-X-ray-images/dataset/training/Classification-of-COVID-19-chest-X-ray-images/dataset/testing/normal/NORMAL2-IM-0238-0001.jpeg',\n",
              " '/content/Classification-of-COVID-19-chest-X-ray-images/dataset/training/Classification-of-COVID-19-chest-X-ray-images/dataset/testing/normal/NORMAL2-IM-0131-0001.jpeg',\n",
              " '/content/Classification-of-COVID-19-chest-X-ray-images/dataset/training/Classification-of-COVID-19-chest-X-ray-images/dataset/testing/normal/NORMAL2-IM-0303-0001.jpeg',\n",
              " '/content/Classification-of-COVID-19-chest-X-ray-images/dataset/training/Classification-of-COVID-19-chest-X-ray-images/dataset/testing/normal/NORMAL2-IM-0229-0001.jpeg',\n",
              " '/content/Classification-of-COVID-19-chest-X-ray-images/dataset/training/Classification-of-COVID-19-chest-X-ray-images/dataset/testing/normal/NORMAL2-IM-0210-0001.jpeg',\n",
              " '/content/Classification-of-COVID-19-chest-X-ray-images/dataset/training/Classification-of-COVID-19-chest-X-ray-images/dataset/testing/normal/NORMAL2-IM-0351-0001.jpeg',\n",
              " '/content/Classification-of-COVID-19-chest-X-ray-images/dataset/training/Classification-of-COVID-19-chest-X-ray-images/dataset/testing/normal/NORMAL2-IM-0322-0001.jpeg',\n",
              " '/content/Classification-of-COVID-19-chest-X-ray-images/dataset/training/Classification-of-COVID-19-chest-X-ray-images/dataset/testing/normal/1.jpeg',\n",
              " '/content/Classification-of-COVID-19-chest-X-ray-images/dataset/training/Classification-of-COVID-19-chest-X-ray-images/dataset/testing/normal/NORMAL2-IM-0290-0001.jpeg',\n",
              " '/content/Classification-of-COVID-19-chest-X-ray-images/dataset/training/Classification-of-COVID-19-chest-X-ray-images/dataset/testing/normal/NORMAL2-IM-0335-0001.jpeg',\n",
              " '/content/Classification-of-COVID-19-chest-X-ray-images/dataset/training/Classification-of-COVID-19-chest-X-ray-images/dataset/testing/normal/NORMAL2-IM-0233-0001.jpeg',\n",
              " '/content/Classification-of-COVID-19-chest-X-ray-images/dataset/training/Classification-of-COVID-19-chest-X-ray-images/dataset/testing/normal/NORMAL2-IM-0267-0001.jpeg',\n",
              " '/content/Classification-of-COVID-19-chest-X-ray-images/dataset/training/Classification-of-COVID-19-chest-X-ray-images/dataset/testing/normal/NORMAL2-IM-0366-0001.jpeg',\n",
              " '/content/Classification-of-COVID-19-chest-X-ray-images/dataset/training/Classification-of-COVID-19-chest-X-ray-images/dataset/testing/normal/NORMAL2-IM-0340-0001.jpeg',\n",
              " '/content/Classification-of-COVID-19-chest-X-ray-images/dataset/training/Classification-of-COVID-19-chest-X-ray-images/dataset/testing/normal/NORMAL2-IM-0288-0001.jpeg',\n",
              " '/content/Classification-of-COVID-19-chest-X-ray-images/dataset/training/Classification-of-COVID-19-chest-X-ray-images/dataset/testing/normal/NORMAL2-IM-0232-0001.jpeg',\n",
              " '/content/Classification-of-COVID-19-chest-X-ray-images/dataset/training/Classification-of-COVID-19-chest-X-ray-images/dataset/testing/normal/NORMAL2-IM-0328-0001.jpeg',\n",
              " '/content/Classification-of-COVID-19-chest-X-ray-images/dataset/training/Classification-of-COVID-19-chest-X-ray-images/dataset/testing/normal/NORMAL2-IM-0362-0001.jpeg',\n",
              " '/content/Classification-of-COVID-19-chest-X-ray-images/dataset/training/Classification-of-COVID-19-chest-X-ray-images/dataset/testing/normal/NORMAL2-IM-0325-0001.jpeg',\n",
              " '/content/Classification-of-COVID-19-chest-X-ray-images/dataset/training/Classification-of-COVID-19-chest-X-ray-images/dataset/testing/normal/NORMAL2-IM-0316-0001.jpeg',\n",
              " '/content/Classification-of-COVID-19-chest-X-ray-images/dataset/training/Classification-of-COVID-19-chest-X-ray-images/dataset/testing/normal/NORMAL2-IM-0279-0001.jpeg',\n",
              " '/content/Classification-of-COVID-19-chest-X-ray-images/dataset/training/Classification-of-COVID-19-chest-X-ray-images/.git/description',\n",
              " '/content/Classification-of-COVID-19-chest-X-ray-images/dataset/training/Classification-of-COVID-19-chest-X-ray-images/.git/config',\n",
              " '/content/Classification-of-COVID-19-chest-X-ray-images/dataset/training/Classification-of-COVID-19-chest-X-ray-images/.git/HEAD',\n",
              " '/content/Classification-of-COVID-19-chest-X-ray-images/dataset/training/Classification-of-COVID-19-chest-X-ray-images/.git/index',\n",
              " '/content/Classification-of-COVID-19-chest-X-ray-images/dataset/training/Classification-of-COVID-19-chest-X-ray-images/.git/packed-refs',\n",
              " '/content/Classification-of-COVID-19-chest-X-ray-images/dataset/training/Classification-of-COVID-19-chest-X-ray-images/.git/logs/HEAD',\n",
              " '/content/Classification-of-COVID-19-chest-X-ray-images/dataset/training/Classification-of-COVID-19-chest-X-ray-images/.git/logs/refs/remotes/origin/HEAD',\n",
              " '/content/Classification-of-COVID-19-chest-X-ray-images/dataset/training/Classification-of-COVID-19-chest-X-ray-images/.git/logs/refs/heads/master',\n",
              " '/content/Classification-of-COVID-19-chest-X-ray-images/dataset/training/Classification-of-COVID-19-chest-X-ray-images/.git/objects/pack/pack-e545df348a2705b0c8cbd57693660c73a99e38fd.idx',\n",
              " '/content/Classification-of-COVID-19-chest-X-ray-images/dataset/training/Classification-of-COVID-19-chest-X-ray-images/.git/objects/pack/pack-e545df348a2705b0c8cbd57693660c73a99e38fd.pack',\n",
              " '/content/Classification-of-COVID-19-chest-X-ray-images/dataset/training/Classification-of-COVID-19-chest-X-ray-images/.git/info/exclude',\n",
              " '/content/Classification-of-COVID-19-chest-X-ray-images/dataset/training/Classification-of-COVID-19-chest-X-ray-images/.git/refs/remotes/origin/HEAD',\n",
              " '/content/Classification-of-COVID-19-chest-X-ray-images/dataset/training/Classification-of-COVID-19-chest-X-ray-images/.git/refs/heads/master',\n",
              " '/content/Classification-of-COVID-19-chest-X-ray-images/dataset/training/Classification-of-COVID-19-chest-X-ray-images/.git/hooks/fsmonitor-watchman.sample',\n",
              " '/content/Classification-of-COVID-19-chest-X-ray-images/dataset/training/Classification-of-COVID-19-chest-X-ray-images/.git/hooks/applypatch-msg.sample',\n",
              " '/content/Classification-of-COVID-19-chest-X-ray-images/dataset/training/Classification-of-COVID-19-chest-X-ray-images/.git/hooks/post-update.sample',\n",
              " '/content/Classification-of-COVID-19-chest-X-ray-images/dataset/training/Classification-of-COVID-19-chest-X-ray-images/.git/hooks/update.sample',\n",
              " '/content/Classification-of-COVID-19-chest-X-ray-images/dataset/training/Classification-of-COVID-19-chest-X-ray-images/.git/hooks/pre-applypatch.sample',\n",
              " '/content/Classification-of-COVID-19-chest-X-ray-images/dataset/training/Classification-of-COVID-19-chest-X-ray-images/.git/hooks/prepare-commit-msg.sample',\n",
              " '/content/Classification-of-COVID-19-chest-X-ray-images/dataset/training/Classification-of-COVID-19-chest-X-ray-images/.git/hooks/commit-msg.sample',\n",
              " '/content/Classification-of-COVID-19-chest-X-ray-images/dataset/training/Classification-of-COVID-19-chest-X-ray-images/.git/hooks/pre-rebase.sample',\n",
              " '/content/Classification-of-COVID-19-chest-X-ray-images/dataset/training/Classification-of-COVID-19-chest-X-ray-images/.git/hooks/pre-receive.sample',\n",
              " '/content/Classification-of-COVID-19-chest-X-ray-images/dataset/training/Classification-of-COVID-19-chest-X-ray-images/.git/hooks/pre-push.sample',\n",
              " '/content/Classification-of-COVID-19-chest-X-ray-images/dataset/training/Classification-of-COVID-19-chest-X-ray-images/.git/hooks/pre-commit.sample',\n",
              " '/content/Classification-of-COVID-19-chest-X-ray-images/dataset/testing/infected/covid-19-pneumonia-44-day-0.jpeg',\n",
              " '/content/Classification-of-COVID-19-chest-X-ray-images/dataset/testing/infected/covid-19-pneumonia-mild.JPG',\n",
              " '/content/Classification-of-COVID-19-chest-X-ray-images/dataset/testing/infected/kjr-21-e24-g002-l-a.jpg',\n",
              " '/content/Classification-of-COVID-19-chest-X-ray-images/dataset/testing/infected/covid-19-pneumonia-20-pa-on-admission.jpg',\n",
              " '/content/Classification-of-COVID-19-chest-X-ray-images/dataset/testing/infected/covid-19-pneumonia-evolution-over-a-week-1-day0-PA.jpg',\n",
              " '/content/Classification-of-COVID-19-chest-X-ray-images/dataset/testing/infected/80446565-E090-4187-A031-9D3CEAA586C8.jpeg',\n",
              " '/content/Classification-of-COVID-19-chest-X-ray-images/dataset/testing/infected/kjr-21-e25-g001-l-a.jpg',\n",
              " '/content/Classification-of-COVID-19-chest-X-ray-images/dataset/testing/infected/covid-19-pneumonia-67.jpeg',\n",
              " '/content/Classification-of-COVID-19-chest-X-ray-images/dataset/testing/infected/all14238-fig-0001-m-c.jpg',\n",
              " '/content/Classification-of-COVID-19-chest-X-ray-images/dataset/testing/infected/kjr-21-e24-g001-l-a.jpg',\n",
              " '/content/Classification-of-COVID-19-chest-X-ray-images/dataset/testing/infected/41591_2020_819_Fig1_HTML.webp-day10.png',\n",
              " '/content/Classification-of-COVID-19-chest-X-ray-images/dataset/testing/infected/gr1_lrg-a.jpg',\n",
              " '/content/Classification-of-COVID-19-chest-X-ray-images/dataset/testing/infected/kjr-21-e24-g003-l-a.jpg',\n",
              " '/content/Classification-of-COVID-19-chest-X-ray-images/dataset/testing/infected/covid-19-pneumonia-8.jpg',\n",
              " '/content/Classification-of-COVID-19-chest-X-ray-images/dataset/testing/infected/F2DE909F-E19C-4900-92F5-8F435B031AC6.jpeg',\n",
              " '/content/Classification-of-COVID-19-chest-X-ray-images/dataset/testing/infected/1.jpg',\n",
              " '/content/Classification-of-COVID-19-chest-X-ray-images/dataset/testing/infected/58cb9263f16e94305c730685358e4e_jumbo.jpeg',\n",
              " '/content/Classification-of-COVID-19-chest-X-ray-images/dataset/testing/infected/1-s2.0-S1684118220300608-main.pdf-002.jpg',\n",
              " '/content/Classification-of-COVID-19-chest-X-ray-images/dataset/testing/infected/nCoV-radiol.2020200269.fig1-day7.jpeg',\n",
              " '/content/Classification-of-COVID-19-chest-X-ray-images/dataset/testing/infected/41591_2020_819_Fig1_HTML.webp-day5.png',\n",
              " '/content/Classification-of-COVID-19-chest-X-ray-images/dataset/testing/infected/all14238-fig-0001-m-b.jpg',\n",
              " '/content/Classification-of-COVID-19-chest-X-ray-images/dataset/testing/infected/4e43e48d52c9e2d4c6c1fb9bc1544f_jumbo.jpeg',\n",
              " '/content/Classification-of-COVID-19-chest-X-ray-images/dataset/testing/infected/covid-19-pneumonia-53.jpg',\n",
              " '/content/Classification-of-COVID-19-chest-X-ray-images/dataset/testing/infected/31BA3780-2323-493F-8AED-62081B9C383B.jpeg',\n",
              " '/content/Classification-of-COVID-19-chest-X-ray-images/dataset/testing/infected/gr1_lrg-b.jpg',\n",
              " '/content/Classification-of-COVID-19-chest-X-ray-images/dataset/testing/normal/NORMAL2-IM-0346-0001.jpeg',\n",
              " '/content/Classification-of-COVID-19-chest-X-ray-images/dataset/testing/normal/NORMAL2-IM-0315-0001.jpeg',\n",
              " '/content/Classification-of-COVID-19-chest-X-ray-images/dataset/testing/normal/NORMAL2-IM-0294-0001.jpeg',\n",
              " '/content/Classification-of-COVID-19-chest-X-ray-images/dataset/testing/normal/NORMAL2-IM-0139-0001.jpeg',\n",
              " '/content/Classification-of-COVID-19-chest-X-ray-images/dataset/testing/normal/NORMAL2-IM-0217-0001.jpeg',\n",
              " '/content/Classification-of-COVID-19-chest-X-ray-images/dataset/testing/normal/NORMAL2-IM-0304-0001.jpeg',\n",
              " '/content/Classification-of-COVID-19-chest-X-ray-images/dataset/testing/normal/NORMAL2-IM-0252-0001.jpeg',\n",
              " '/content/Classification-of-COVID-19-chest-X-ray-images/dataset/testing/normal/NORMAL2-IM-0369-0001.jpeg',\n",
              " '/content/Classification-of-COVID-19-chest-X-ray-images/dataset/testing/normal/NORMAL2-IM-0354-0001.jpeg',\n",
              " '/content/Classification-of-COVID-19-chest-X-ray-images/dataset/testing/normal/NORMAL2-IM-0280-0001.jpeg',\n",
              " '/content/Classification-of-COVID-19-chest-X-ray-images/dataset/testing/normal/NORMAL2-IM-0195-0001.jpeg',\n",
              " '/content/Classification-of-COVID-19-chest-X-ray-images/dataset/testing/normal/NORMAL2-IM-0222-0001.jpeg',\n",
              " '/content/Classification-of-COVID-19-chest-X-ray-images/dataset/testing/normal/NORMAL2-IM-0241-0001.jpeg',\n",
              " '/content/Classification-of-COVID-19-chest-X-ray-images/dataset/testing/normal/NORMAL2-IM-0327-0001.jpeg',\n",
              " '/content/Classification-of-COVID-19-chest-X-ray-images/dataset/testing/normal/NORMAL2-IM-0246-0001.jpeg',\n",
              " '/content/Classification-of-COVID-19-chest-X-ray-images/dataset/testing/normal/NORMAL2-IM-0045-0001.jpeg',\n",
              " '/content/Classification-of-COVID-19-chest-X-ray-images/dataset/testing/normal/NORMAL2-IM-0285-0001.jpeg',\n",
              " '/content/Classification-of-COVID-19-chest-X-ray-images/dataset/testing/normal/NORMAL2-IM-0376-0001.jpeg',\n",
              " '/content/Classification-of-COVID-19-chest-X-ray-images/dataset/testing/normal/NORMAL2-IM-0173-0001-0001.jpeg',\n",
              " '/content/Classification-of-COVID-19-chest-X-ray-images/dataset/testing/normal/NORMAL2-IM-0098-0001.jpeg',\n",
              " '/content/Classification-of-COVID-19-chest-X-ray-images/dataset/testing/normal/NORMAL2-IM-0123-0001.jpeg',\n",
              " '/content/Classification-of-COVID-19-chest-X-ray-images/dataset/testing/normal/NORMAL2-IM-0246-0001-0001.jpeg',\n",
              " '/content/Classification-of-COVID-19-chest-X-ray-images/dataset/testing/normal/NORMAL2-IM-0378-0001.jpeg',\n",
              " '/content/Classification-of-COVID-19-chest-X-ray-images/dataset/testing/normal/NORMAL2-IM-0237-0001.jpeg',\n",
              " '/content/Classification-of-COVID-19-chest-X-ray-images/dataset/testing/normal/NORMAL2-IM-0173-0001-0002.jpeg',\n",
              " '/content/Classification-of-COVID-19-chest-X-ray-images/dataset/testing/normal/NORMAL2-IM-0330-0001.jpeg',\n",
              " '/content/Classification-of-COVID-19-chest-X-ray-images/dataset/testing/normal/NORMAL2-IM-0338-0001.jpeg',\n",
              " '/content/Classification-of-COVID-19-chest-X-ray-images/dataset/testing/normal/NORMAL2-IM-0336-0001.jpeg',\n",
              " '/content/Classification-of-COVID-19-chest-X-ray-images/dataset/testing/normal/NORMAL2-IM-0171-0001.jpeg',\n",
              " '/content/Classification-of-COVID-19-chest-X-ray-images/dataset/testing/normal/NORMAL2-IM-0349-0001.jpeg',\n",
              " '/content/Classification-of-COVID-19-chest-X-ray-images/dataset/testing/normal/NORMAL2-IM-0256-0001.jpeg',\n",
              " '/content/Classification-of-COVID-19-chest-X-ray-images/dataset/testing/normal/NORMAL2-IM-0206-0001.jpeg',\n",
              " '/content/Classification-of-COVID-19-chest-X-ray-images/dataset/testing/normal/NORMAL2-IM-0272-0001.jpeg',\n",
              " '/content/Classification-of-COVID-19-chest-X-ray-images/dataset/testing/normal/NORMAL2-IM-0360-0001.jpeg',\n",
              " '/content/Classification-of-COVID-19-chest-X-ray-images/dataset/testing/normal/NORMAL2-IM-0249-0001.jpeg',\n",
              " '/content/Classification-of-COVID-19-chest-X-ray-images/dataset/testing/normal/NORMAL2-IM-0364-0001.jpeg',\n",
              " '/content/Classification-of-COVID-19-chest-X-ray-images/dataset/testing/normal/NORMAL2-IM-0150-0001.jpeg',\n",
              " '/content/Classification-of-COVID-19-chest-X-ray-images/dataset/testing/normal/NORMAL2-IM-0221-0001.jpeg',\n",
              " '/content/Classification-of-COVID-19-chest-X-ray-images/dataset/testing/normal/NORMAL2-IM-0373-0001.jpeg',\n",
              " '/content/Classification-of-COVID-19-chest-X-ray-images/dataset/testing/normal/NORMAL2-IM-0374-0001-0002.jpeg',\n",
              " '/content/Classification-of-COVID-19-chest-X-ray-images/dataset/testing/normal/NORMAL2-IM-0283-0001.jpeg',\n",
              " '/content/Classification-of-COVID-19-chest-X-ray-images/dataset/testing/normal/NORMAL2-IM-0219-0001.jpeg',\n",
              " '/content/Classification-of-COVID-19-chest-X-ray-images/dataset/testing/normal/NORMAL2-IM-0041-0001.jpeg',\n",
              " '/content/Classification-of-COVID-19-chest-X-ray-images/dataset/testing/normal/NORMAL2-IM-0246-0001-0002.jpeg',\n",
              " '/content/Classification-of-COVID-19-chest-X-ray-images/dataset/testing/normal/NORMAL2-IM-0326-0001.jpeg',\n",
              " '/content/Classification-of-COVID-19-chest-X-ray-images/dataset/testing/normal/NORMAL2-IM-0146-0001.jpeg',\n",
              " '/content/Classification-of-COVID-19-chest-X-ray-images/dataset/testing/normal/NORMAL2-IM-0199-0001.jpeg',\n",
              " '/content/Classification-of-COVID-19-chest-X-ray-images/dataset/testing/normal/NORMAL2-IM-0313-0001.jpeg',\n",
              " '/content/Classification-of-COVID-19-chest-X-ray-images/dataset/testing/normal/NORMAL2-IM-0238-0001.jpeg',\n",
              " '/content/Classification-of-COVID-19-chest-X-ray-images/dataset/testing/normal/NORMAL2-IM-0131-0001.jpeg',\n",
              " '/content/Classification-of-COVID-19-chest-X-ray-images/dataset/testing/normal/NORMAL2-IM-0303-0001.jpeg',\n",
              " '/content/Classification-of-COVID-19-chest-X-ray-images/dataset/testing/normal/NORMAL2-IM-0229-0001.jpeg',\n",
              " '/content/Classification-of-COVID-19-chest-X-ray-images/dataset/testing/normal/NORMAL2-IM-0210-0001.jpeg',\n",
              " '/content/Classification-of-COVID-19-chest-X-ray-images/dataset/testing/normal/NORMAL2-IM-0351-0001.jpeg',\n",
              " '/content/Classification-of-COVID-19-chest-X-ray-images/dataset/testing/normal/NORMAL2-IM-0322-0001.jpeg',\n",
              " '/content/Classification-of-COVID-19-chest-X-ray-images/dataset/testing/normal/1.jpeg',\n",
              " '/content/Classification-of-COVID-19-chest-X-ray-images/dataset/testing/normal/NORMAL2-IM-0290-0001.jpeg',\n",
              " '/content/Classification-of-COVID-19-chest-X-ray-images/dataset/testing/normal/NORMAL2-IM-0335-0001.jpeg',\n",
              " '/content/Classification-of-COVID-19-chest-X-ray-images/dataset/testing/normal/NORMAL2-IM-0233-0001.jpeg',\n",
              " '/content/Classification-of-COVID-19-chest-X-ray-images/dataset/testing/normal/NORMAL2-IM-0267-0001.jpeg',\n",
              " '/content/Classification-of-COVID-19-chest-X-ray-images/dataset/testing/normal/NORMAL2-IM-0366-0001.jpeg',\n",
              " '/content/Classification-of-COVID-19-chest-X-ray-images/dataset/testing/normal/NORMAL2-IM-0340-0001.jpeg',\n",
              " '/content/Classification-of-COVID-19-chest-X-ray-images/dataset/testing/normal/NORMAL2-IM-0288-0001.jpeg',\n",
              " '/content/Classification-of-COVID-19-chest-X-ray-images/dataset/testing/normal/NORMAL2-IM-0232-0001.jpeg',\n",
              " '/content/Classification-of-COVID-19-chest-X-ray-images/dataset/testing/normal/NORMAL2-IM-0328-0001.jpeg',\n",
              " '/content/Classification-of-COVID-19-chest-X-ray-images/dataset/testing/normal/NORMAL2-IM-0362-0001.jpeg',\n",
              " '/content/Classification-of-COVID-19-chest-X-ray-images/dataset/testing/normal/NORMAL2-IM-0325-0001.jpeg',\n",
              " '/content/Classification-of-COVID-19-chest-X-ray-images/dataset/testing/normal/NORMAL2-IM-0316-0001.jpeg',\n",
              " '/content/Classification-of-COVID-19-chest-X-ray-images/dataset/testing/normal/NORMAL2-IM-0279-0001.jpeg']"
            ]
          },
          "metadata": {
            "tags": []
          },
          "execution_count": 33
        }
      ]
    },
    {
      "cell_type": "code",
      "metadata": {
        "id": "AulPEUO9bGAU",
        "colab_type": "code",
        "colab": {
          "base_uri": "https://localhost:8080/",
          "height": 243
        },
        "outputId": "007d426e-f1f6-44c4-ae50-bab4551617e0"
      },
      "source": [
        "data = []\n",
        "labels = []\n",
        "# loop over the image paths\n",
        "for imagePath in imagePaths:\n",
        "\t# extract the class label from the filename\n",
        "\tlabel = imagePath.split(os.path.sep)[-2]\n",
        "\t# load the image, swap color channels, and resize it to be a fixed\n",
        "\t# 224x224 pixels while ignoring aspect ratio\n",
        "\timage = cv2.imread(imagePath)\n",
        "\timage = cv2.cvtColor(image, cv2.COLOR_BGR2RGB)\n",
        "\timage = cv2.resize(image, (224, 224))\n",
        "\t# update the data and labels lists, respectively\n",
        "\tdata.append(image)\n",
        "\tlabels.append(label)\n",
        "# convert the data and labels to NumPy arrays while scaling the pixel\n",
        "# intensities to the range [0, 1]\n",
        "data = np.array(data) / 255.0\n",
        "labels = np.array(labels)"
      ],
      "execution_count": 34,
      "outputs": [
        {
          "output_type": "error",
          "ename": "error",
          "evalue": "ignored",
          "traceback": [
            "\u001b[0;31m---------------------------------------------------------------------------\u001b[0m",
            "\u001b[0;31merror\u001b[0m                                     Traceback (most recent call last)",
            "\u001b[0;32m<ipython-input-34-2750e85c290e>\u001b[0m in \u001b[0;36m<module>\u001b[0;34m()\u001b[0m\n\u001b[1;32m      8\u001b[0m         \u001b[0;31m# 224x224 pixels while ignoring aspect ratio\u001b[0m\u001b[0;34m\u001b[0m\u001b[0;34m\u001b[0m\u001b[0;34m\u001b[0m\u001b[0m\n\u001b[1;32m      9\u001b[0m         \u001b[0mimage\u001b[0m \u001b[0;34m=\u001b[0m \u001b[0mcv2\u001b[0m\u001b[0;34m.\u001b[0m\u001b[0mimread\u001b[0m\u001b[0;34m(\u001b[0m\u001b[0mimagePath\u001b[0m\u001b[0;34m)\u001b[0m\u001b[0;34m\u001b[0m\u001b[0;34m\u001b[0m\u001b[0m\n\u001b[0;32m---> 10\u001b[0;31m         \u001b[0mimage\u001b[0m \u001b[0;34m=\u001b[0m \u001b[0mcv2\u001b[0m\u001b[0;34m.\u001b[0m\u001b[0mcvtColor\u001b[0m\u001b[0;34m(\u001b[0m\u001b[0mimage\u001b[0m\u001b[0;34m,\u001b[0m \u001b[0mcv2\u001b[0m\u001b[0;34m.\u001b[0m\u001b[0mCOLOR_BGR2RGB\u001b[0m\u001b[0;34m)\u001b[0m\u001b[0;34m\u001b[0m\u001b[0;34m\u001b[0m\u001b[0m\n\u001b[0m\u001b[1;32m     11\u001b[0m         \u001b[0mimage\u001b[0m \u001b[0;34m=\u001b[0m \u001b[0mcv2\u001b[0m\u001b[0;34m.\u001b[0m\u001b[0mresize\u001b[0m\u001b[0;34m(\u001b[0m\u001b[0mimage\u001b[0m\u001b[0;34m,\u001b[0m \u001b[0;34m(\u001b[0m\u001b[0;36m224\u001b[0m\u001b[0;34m,\u001b[0m \u001b[0;36m224\u001b[0m\u001b[0;34m)\u001b[0m\u001b[0;34m)\u001b[0m\u001b[0;34m\u001b[0m\u001b[0;34m\u001b[0m\u001b[0m\n\u001b[1;32m     12\u001b[0m         \u001b[0;31m# update the data and labels lists, respectively\u001b[0m\u001b[0;34m\u001b[0m\u001b[0;34m\u001b[0m\u001b[0;34m\u001b[0m\u001b[0m\n",
            "\u001b[0;31merror\u001b[0m: OpenCV(4.1.2) /io/opencv/modules/imgproc/src/color.cpp:182: error: (-215:Assertion failed) !_src.empty() in function 'cvtColor'\n"
          ]
        }
      ]
    },
    {
      "cell_type": "code",
      "metadata": {
        "id": "sIP_Kw0MbJDS",
        "colab_type": "code",
        "colab": {}
      },
      "source": [
        "data.shape"
      ],
      "execution_count": 0,
      "outputs": []
    },
    {
      "cell_type": "code",
      "metadata": {
        "id": "_W-VW_8GbMrZ",
        "colab_type": "code",
        "colab": {}
      },
      "source": [
        "labels"
      ],
      "execution_count": 0,
      "outputs": []
    },
    {
      "cell_type": "code",
      "metadata": {
        "id": "D_JFHXtGbQeI",
        "colab_type": "code",
        "colab": {}
      },
      "source": [
        "# perform one-hot encoding on the labels\n",
        "lb = LabelBinarizer()\n",
        "labels = lb.fit_transform(labels)\n",
        "labels = to_categorical(labels)\n",
        "# partition the data into training and testing splits using 80% of\n",
        "# the data for training and the remaining 20% for testing\n",
        "(trainX, testX, trainY, testY) = train_test_split(data, labels,\n",
        "\ttest_size=0.20, stratify=labels, random_state=42)\n",
        "# initialize the training data augmentation object\n",
        "trainAug = ImageDataGenerator(shear_range=0.2,\n",
        "    zoom_range=0.2,\n",
        "    horizontal_flip=True,\trotation_range=15,\n",
        "\tfill_mode=\"nearest\")"
      ],
      "execution_count": 0,
      "outputs": []
    },
    {
      "cell_type": "code",
      "metadata": {
        "id": "ipvcfHJHbTHY",
        "colab_type": "code",
        "colab": {}
      },
      "source": [
        "trainAug"
      ],
      "execution_count": 0,
      "outputs": []
    },
    {
      "cell_type": "code",
      "metadata": {
        "id": "UtRgHh6EbVPV",
        "colab_type": "code",
        "colab": {}
      },
      "source": [
        "trainX.shape,testX.shape,trainY.shape,testY.shape"
      ],
      "execution_count": 0,
      "outputs": []
    },
    {
      "cell_type": "code",
      "metadata": {
        "id": "7ZRkljm9bXdP",
        "colab_type": "code",
        "colab": {}
      },
      "source": [
        ""
      ],
      "execution_count": 0,
      "outputs": []
    },
    {
      "cell_type": "markdown",
      "metadata": {
        "id": "OkJHTdJybbGl",
        "colab_type": "text"
      },
      "source": [
        "**ResNet50**"
      ]
    },
    {
      "cell_type": "code",
      "metadata": {
        "id": "5ybXcfRpbrQv",
        "colab_type": "code",
        "colab": {}
      },
      "source": [
        "from tensorflow.keras.preprocessing.image import ImageDataGenerator\n",
        "from tensorflow.keras.applications import VGG16,ResNet50\n",
        "from tensorflow.keras.layers import AveragePooling2D\n",
        "from tensorflow.keras.layers import Dropout\n",
        "from tensorflow.keras.layers import Flatten\n",
        "from tensorflow.keras.layers import Dense\n",
        "from tensorflow.keras.layers import Input\n",
        "from tensorflow.keras.models import Model\n",
        "from tensorflow.keras.optimizers import Adam\n",
        "from tensorflow.keras.utils import to_categorical\n",
        "from sklearn.preprocessing import LabelBinarizer\n",
        "from sklearn.model_selection import train_test_split"
      ],
      "execution_count": 0,
      "outputs": []
    },
    {
      "cell_type": "code",
      "metadata": {
        "id": "yFlJQ_jMbtB2",
        "colab_type": "code",
        "colab": {}
      },
      "source": [
        "baseModel = ResNet50(weights=\"imagenet\", include_top=False, input_tensor=Input(shape=(224, 224, 3)))\n",
        "#construct the head of the model that will be placed on top of the\n",
        "#the base model\n",
        "\n",
        "headModel = baseModel.output\n",
        "headModel = AveragePooling2D(pool_size=(4, 4))(headModel)\n",
        "headModel = Dropout(0.5)(headModel)\n",
        "headModel = Flatten(name=\"flatten\")(headModel)\n",
        "headModel = Dense(64, activation=\"relu\")(headModel)\n",
        "headModel = Dropout(0.5)(headModel)\n",
        "headModel = Dense(2, activation=\"softmax\")(headModel)\n",
        "\n",
        "\n",
        "model= Model(inputs=baseModel.input, outputs=headModel)\n",
        "\n",
        "for layer in baseModel.layers:\n",
        "    layer.trainable = False\n",
        "\n"
      ],
      "execution_count": 0,
      "outputs": []
    },
    {
      "cell_type": "code",
      "metadata": {
        "id": "E0xtA829buwc",
        "colab_type": "code",
        "colab": {}
      },
      "source": [
        "model_chkpt = ModelCheckpoint('best_mod.h5', save_best_only=True, monitor='accuracy')\n",
        "early_stopping = EarlyStopping(monitor='loss', restore_best_weights=False, patience=10)\n",
        "\n",
        "\n"
      ],
      "execution_count": 0,
      "outputs": []
    },
    {
      "cell_type": "code",
      "metadata": {
        "id": "d5WE49wFbxXA",
        "colab_type": "code",
        "colab": {
          "base_uri": "https://localhost:8080/",
          "height": 671
        },
        "outputId": "7db8f6ba-a817-4120-9cb6-73f068a6e7cb"
      },
      "source": [
        "# initialize the initial learning rate, number of epochs to train for,\n",
        "# and batch size\n",
        "INIT_LR = 3e-4\n",
        "EPOCHS = 25\n",
        "BS = 8\n",
        "# compile our model\n",
        "print(\"[INFO] compiling model...\")\n",
        "opt = Adam(lr=INIT_LR, decay=INIT_LR / EPOCHS)\n",
        "model.compile(loss=\"binary_crossentropy\", optimizer=opt,\n",
        "\tmetrics=[\"accuracy\"])\n",
        "# train the head of the network\n",
        "print(\"[INFO] training head...\")\n",
        "H = model.fit_generator(\n",
        "\ttrainAug.flow(trainX, trainY, batch_size=BS),\n",
        "\tsteps_per_epoch=len(trainX) // BS,\n",
        "\tvalidation_data=(testX, testY),\n",
        "\tvalidation_steps=len(testX) // BS,\n",
        "\tepochs=EPOCHS,callbacks=[early_stopping,model_chkpt])"
      ],
      "execution_count": 44,
      "outputs": [
        {
          "output_type": "stream",
          "text": [
            "[INFO] compiling model...\n",
            "[INFO] training head...\n",
            "Epoch 1/25\n",
            "28/28 [==============================] - 44s 2s/step - loss: 0.6125 - accuracy: 0.6027 - val_loss: 0.5612 - val_accuracy: 0.8596\n",
            "Epoch 2/25\n",
            "28/28 [==============================] - 42s 1s/step - loss: 0.6468 - accuracy: 0.5963 - val_loss: 0.5589 - val_accuracy: 0.7544\n",
            "Epoch 3/25\n",
            "28/28 [==============================] - 42s 1s/step - loss: 0.6177 - accuracy: 0.6330 - val_loss: 0.5637 - val_accuracy: 0.9123\n",
            "Epoch 4/25\n",
            "28/28 [==============================] - 42s 1s/step - loss: 0.6380 - accuracy: 0.6101 - val_loss: 0.5678 - val_accuracy: 0.8947\n",
            "Epoch 5/25\n",
            "28/28 [==============================] - 42s 2s/step - loss: 0.6222 - accuracy: 0.6468 - val_loss: 0.5602 - val_accuracy: 0.8947\n",
            "Epoch 6/25\n",
            "28/28 [==============================] - 41s 1s/step - loss: 0.6135 - accuracy: 0.6193 - val_loss: 0.5478 - val_accuracy: 0.7368\n",
            "Epoch 7/25\n",
            "28/28 [==============================] - 41s 1s/step - loss: 0.5941 - accuracy: 0.6284 - val_loss: 0.5460 - val_accuracy: 0.7719\n",
            "Epoch 8/25\n",
            "28/28 [==============================] - 42s 1s/step - loss: 0.6203 - accuracy: 0.6743 - val_loss: 0.5507 - val_accuracy: 0.8947\n",
            "Epoch 9/25\n",
            "28/28 [==============================] - 42s 1s/step - loss: 0.6330 - accuracy: 0.6330 - val_loss: 0.5506 - val_accuracy: 0.8947\n",
            "Epoch 10/25\n",
            "28/28 [==============================] - 41s 1s/step - loss: 0.6136 - accuracy: 0.6193 - val_loss: 0.5468 - val_accuracy: 0.8421\n",
            "Epoch 11/25\n",
            "28/28 [==============================] - 44s 2s/step - loss: 0.6282 - accuracy: 0.5917 - val_loss: 0.5505 - val_accuracy: 0.8246\n",
            "Epoch 12/25\n",
            "28/28 [==============================] - 41s 1s/step - loss: 0.6496 - accuracy: 0.6193 - val_loss: 0.5655 - val_accuracy: 0.9123\n",
            "Epoch 13/25\n",
            "28/28 [==============================] - 42s 2s/step - loss: 0.5988 - accuracy: 0.6789 - val_loss: 0.5490 - val_accuracy: 0.8246\n",
            "Epoch 14/25\n",
            "28/28 [==============================] - 41s 1s/step - loss: 0.6143 - accuracy: 0.6651 - val_loss: 0.5424 - val_accuracy: 0.8246\n",
            "Epoch 15/25\n",
            "28/28 [==============================] - 41s 1s/step - loss: 0.6430 - accuracy: 0.5780 - val_loss: 0.5429 - val_accuracy: 0.7719\n",
            "Epoch 16/25\n",
            "28/28 [==============================] - 42s 1s/step - loss: 0.5956 - accuracy: 0.6330 - val_loss: 0.5370 - val_accuracy: 0.7544\n",
            "Epoch 17/25\n",
            "28/28 [==============================] - 42s 1s/step - loss: 0.6246 - accuracy: 0.6193 - val_loss: 0.5431 - val_accuracy: 0.8947\n"
          ],
          "name": "stdout"
        }
      ]
    },
    {
      "cell_type": "code",
      "metadata": {
        "id": "QLMAg6q-b5MW",
        "colab_type": "code",
        "colab": {
          "base_uri": "https://localhost:8080/",
          "height": 199
        },
        "outputId": "18528ce9-b2ab-4790-89b1-23f15f36a037"
      },
      "source": [
        "# make predictions on the testing set\n",
        "print(\"[INFO] evaluating network...\")\n",
        "predIdxs = model.predict(testX, batch_size=BS)\n",
        "# for each image in the testing set we need to find the index of the\n",
        "# label with corresponding largest predicted probability\n",
        "predIdxs = np.argmax(predIdxs, axis=1)\n",
        "# show a nicely formatted classification report\n",
        "print(classification_report(testY.argmax(axis=1), predIdxs,\n",
        "\ttarget_names=lb.classes_))"
      ],
      "execution_count": 48,
      "outputs": [
        {
          "output_type": "stream",
          "text": [
            "[INFO] evaluating network...\n",
            "              precision    recall  f1-score   support\n",
            "\n",
            "    infected       0.96      0.96      0.96        23\n",
            "      normal       0.97      0.97      0.97        34\n",
            "\n",
            "    accuracy                           0.96        57\n",
            "   macro avg       0.96      0.96      0.96        57\n",
            "weighted avg       0.96      0.96      0.96        57\n",
            "\n"
          ],
          "name": "stdout"
        }
      ]
    },
    {
      "cell_type": "code",
      "metadata": {
        "id": "tJWMrK78nJSc",
        "colab_type": "code",
        "colab": {
          "base_uri": "https://localhost:8080/",
          "height": 108
        },
        "outputId": "bdad0e60-99e1-4797-fcae-92e9d9768584"
      },
      "source": [
        "# compute the confusion matrix and and use it to derive the raw\n",
        "# accuracy, sensitivity, and specificity\n",
        "cm = confusion_matrix(testY.argmax(axis=1), predIdxs)\n",
        "total = sum(sum(cm))\n",
        "acc = (cm[0, 0] + cm[1, 1]) / total\n",
        "sensitivity = cm[0, 0] / (cm[0, 0] + cm[0, 1])\n",
        "specificity = cm[1, 1] / (cm[1, 0] + cm[1, 1])\n",
        "# show the confusion matrix, accuracy, sensitivity, and specificity\n",
        "print(cm)\n",
        "print(\"acc: {:.4f}\".format(acc))\n",
        "print(\"sensitivity: {:.4f}\".format(sensitivity))\n",
        "print(\"specificity: {:.4f}\".format(specificity))"
      ],
      "execution_count": 49,
      "outputs": [
        {
          "output_type": "stream",
          "text": [
            "[[22  1]\n",
            " [ 1 33]]\n",
            "acc: 0.9649\n",
            "sensitivity: 0.9565\n",
            "specificity: 0.9706\n"
          ],
          "name": "stdout"
        }
      ]
    },
    {
      "cell_type": "code",
      "metadata": {
        "id": "GxiB0IbJnOOP",
        "colab_type": "code",
        "colab": {
          "base_uri": "https://localhost:8080/",
          "height": 317
        },
        "outputId": "f670b4c0-13ef-426d-8802-6bab043c232c"
      },
      "source": [
        "# plot the training loss and accuracy\n",
        "N = EPOCHS\n",
        "plt.style.use(\"ggplot\")\n",
        "plt.figure()\n",
        "plt.plot(np.arange(0, EPOCHS), H.history[\"loss\"], label=\"train_loss\")\n",
        "plt.plot(np.arange(0, EPOCHS), H.history[\"val_loss\"], label=\"val_loss\")\n",
        "plt.plot(np.arange(0, EPOCHS), H.history[\"accuracy\"], label=\"train_acc\")\n",
        "plt.plot(np.arange(0, EPOCHS), H.history[\"val_accuracy\"], label=\"val_acc\")\n",
        "plt.title(\"Training Loss and Accuracy on COVID-19 Dataset\")\n",
        "plt.xlabel(\"Epoch #\")\n",
        "plt.ylabel(\"Loss/Accuracy\")\n",
        "plt.legend(loc=\"lower left\")\n",
        "#plt.savefig(args[\"plot\"])"
      ],
      "execution_count": 50,
      "outputs": [
        {
          "output_type": "execute_result",
          "data": {
            "text/plain": [
              "<matplotlib.legend.Legend at 0x7fc4a3d53be0>"
            ]
          },
          "metadata": {
            "tags": []
          },
          "execution_count": 50
        },
        {
          "output_type": "display_data",
          "data": {
            "image/png": "[encoded data removed]",
            "text/plain": [
              "<Figure size 432x288 with 1 Axes>"
            ]
          },
          "metadata": {
            "tags": []
          }
        }
      ]
    },
    {
      "cell_type": "markdown",
      "metadata": {
        "id": "AijNerj9df-m",
        "colab_type": "text"
      },
      "source": [
        "**VGG-16**"
      ]
    },
    {
      "cell_type": "code",
      "metadata": {
        "id": "LQi2a7lehgej",
        "colab_type": "code",
        "colab": {
          "base_uri": "https://localhost:8080/",
          "height": 53
        },
        "outputId": "427bd278-5a04-4185-da34-a01607447173"
      },
      "source": [
        "baseModel = VGG16(weights=\"imagenet\", include_top=False,\n",
        "\tinput_tensor=Input(shape=(224, 224, 3)))\n",
        "# construct the head of the model that will be placed on top of the\n",
        "# the base model\n",
        "headModel = baseModel.output\n",
        "headModel = AveragePooling2D(pool_size=(4, 4))(headModel)\n",
        "headModel = Flatten(name=\"flatten\")(headModel)\n",
        "headModel = Dense(64, activation=\"relu\")(headModel)\n",
        "headModel = Dropout(0.5)(headModel)\n",
        "headModel = Dense(2, activation=\"softmax\")(headModel)\n",
        "# place the head FC model on top of the base model (this will become\n",
        "# the actual model we will train)\n",
        "model = Model(inputs=baseModel.input, outputs=headModel)\n",
        "# loop over all layers in the base model and freeze them so they will\n",
        "# *not* be updated during the first training process\n",
        "for layer in baseModel.layers:\n",
        "\tlayer.trainable = False"
      ],
      "execution_count": 45,
      "outputs": [
        {
          "output_type": "stream",
          "text": [
            "Downloading data from https://storage.googleapis.com/tensorflow/keras-applications/vgg16/vgg16_weights_tf_dim_ordering_tf_kernels_notop.h5\n",
            "58892288/58889256 [==============================] - 0s 0us/step\n"
          ],
          "name": "stdout"
        }
      ]
    },
    {
      "cell_type": "code",
      "metadata": {
        "id": "-_ZvgPzbjBHq",
        "colab_type": "code",
        "colab": {}
      },
      "source": [
        "model_chkpt = ModelCheckpoint('best_mod.h5', save_best_only=True, monitor='accuracy')\n",
        "early_stopping = EarlyStopping(monitor='loss', restore_best_weights=False, patience=10)"
      ],
      "execution_count": 0,
      "outputs": []
    },
    {
      "cell_type": "code",
      "metadata": {
        "id": "ffjxLokyjFmA",
        "colab_type": "code",
        "colab": {
          "base_uri": "https://localhost:8080/",
          "height": 962
        },
        "outputId": "98868de4-5cff-4d76-89c4-9e49ad137aa5"
      },
      "source": [
        "# initialize the initial learning rate, number of epochs to train for,\n",
        "# and batch size\n",
        "INIT_LR = 3e-4\n",
        "EPOCHS = 25\n",
        "BS = 8\n",
        "# compile our model\n",
        "print(\"[INFO] compiling model...\")\n",
        "opt = Adam(lr=INIT_LR, decay=INIT_LR / EPOCHS)\n",
        "model.compile(loss=\"binary_crossentropy\", optimizer=opt,\n",
        "\tmetrics=[\"accuracy\"])\n",
        "# train the head of the network\n",
        "print(\"[INFO] training head...\")\n",
        "H = model.fit_generator(\n",
        "\ttrainAug.flow(trainX, trainY, batch_size=BS),\n",
        "\tsteps_per_epoch=len(trainX) // BS,\n",
        "\tvalidation_data=(testX, testY),\n",
        "\tvalidation_steps=len(testX) // BS,\n",
        "\tepochs=EPOCHS,callbacks=[early_stopping,model_chkpt])"
      ],
      "execution_count": 47,
      "outputs": [
        {
          "output_type": "stream",
          "text": [
            "[INFO] compiling model...\n",
            "[INFO] training head...\n",
            "Epoch 1/25\n",
            "28/28 [==============================] - 134s 5s/step - loss: 0.6948 - accuracy: 0.5734 - val_loss: 0.5827 - val_accuracy: 0.7368\n",
            "Epoch 2/25\n",
            "28/28 [==============================] - 134s 5s/step - loss: 0.5921 - accuracy: 0.7248 - val_loss: 0.4540 - val_accuracy: 0.9298\n",
            "Epoch 3/25\n",
            "28/28 [==============================] - 136s 5s/step - loss: 0.4882 - accuracy: 0.7982 - val_loss: 0.3828 - val_accuracy: 0.8772\n",
            "Epoch 4/25\n",
            "28/28 [==============================] - 134s 5s/step - loss: 0.4382 - accuracy: 0.8486 - val_loss: 0.3184 - val_accuracy: 0.9123\n",
            "Epoch 5/25\n",
            "28/28 [==============================] - 134s 5s/step - loss: 0.3843 - accuracy: 0.8670 - val_loss: 0.2678 - val_accuracy: 0.9649\n",
            "Epoch 6/25\n",
            "28/28 [==============================] - 134s 5s/step - loss: 0.3469 - accuracy: 0.8716 - val_loss: 0.2427 - val_accuracy: 0.9649\n",
            "Epoch 7/25\n",
            "28/28 [==============================] - 137s 5s/step - loss: 0.3593 - accuracy: 0.8394 - val_loss: 0.2288 - val_accuracy: 0.9649\n",
            "Epoch 8/25\n",
            "28/28 [==============================] - 139s 5s/step - loss: 0.2898 - accuracy: 0.9037 - val_loss: 0.2020 - val_accuracy: 0.9649\n",
            "Epoch 9/25\n",
            "28/28 [==============================] - 139s 5s/step - loss: 0.2981 - accuracy: 0.8532 - val_loss: 0.1907 - val_accuracy: 0.9649\n",
            "Epoch 10/25\n",
            "28/28 [==============================] - 139s 5s/step - loss: 0.2473 - accuracy: 0.9128 - val_loss: 0.1688 - val_accuracy: 0.9649\n",
            "Epoch 11/25\n",
            "28/28 [==============================] - 139s 5s/step - loss: 0.2587 - accuracy: 0.8853 - val_loss: 0.1542 - val_accuracy: 0.9649\n",
            "Epoch 12/25\n",
            "28/28 [==============================] - 134s 5s/step - loss: 0.2240 - accuracy: 0.9083 - val_loss: 0.1424 - val_accuracy: 0.9649\n",
            "Epoch 13/25\n",
            "28/28 [==============================] - 134s 5s/step - loss: 0.2244 - accuracy: 0.9083 - val_loss: 0.1456 - val_accuracy: 0.9649\n",
            "Epoch 14/25\n",
            "28/28 [==============================] - 134s 5s/step - loss: 0.2160 - accuracy: 0.9358 - val_loss: 0.1406 - val_accuracy: 0.9649\n",
            "Epoch 15/25\n",
            "28/28 [==============================] - 134s 5s/step - loss: 0.2244 - accuracy: 0.9266 - val_loss: 0.1368 - val_accuracy: 0.9649\n",
            "Epoch 16/25\n",
            "28/28 [==============================] - 137s 5s/step - loss: 0.1528 - accuracy: 0.9679 - val_loss: 0.1252 - val_accuracy: 0.9649\n",
            "Epoch 17/25\n",
            "28/28 [==============================] - 134s 5s/step - loss: 0.1602 - accuracy: 0.9266 - val_loss: 0.1242 - val_accuracy: 0.9649\n",
            "Epoch 18/25\n",
            "28/28 [==============================] - 134s 5s/step - loss: 0.1635 - accuracy: 0.9541 - val_loss: 0.1133 - val_accuracy: 0.9649\n",
            "Epoch 19/25\n",
            "28/28 [==============================] - 134s 5s/step - loss: 0.1565 - accuracy: 0.9633 - val_loss: 0.1147 - val_accuracy: 0.9649\n",
            "Epoch 20/25\n",
            "28/28 [==============================] - 137s 5s/step - loss: 0.1495 - accuracy: 0.9495 - val_loss: 0.1093 - val_accuracy: 0.9649\n",
            "Epoch 21/25\n",
            "28/28 [==============================] - 134s 5s/step - loss: 0.1555 - accuracy: 0.9587 - val_loss: 0.1169 - val_accuracy: 0.9649\n",
            "Epoch 22/25\n",
            "28/28 [==============================] - 134s 5s/step - loss: 0.1290 - accuracy: 0.9633 - val_loss: 0.1054 - val_accuracy: 0.9649\n",
            "Epoch 23/25\n",
            "28/28 [==============================] - 134s 5s/step - loss: 0.1223 - accuracy: 0.9587 - val_loss: 0.1108 - val_accuracy: 0.9825\n",
            "Epoch 24/25\n",
            "28/28 [==============================] - 134s 5s/step - loss: 0.1507 - accuracy: 0.9358 - val_loss: 0.1022 - val_accuracy: 0.9649\n",
            "Epoch 25/25\n",
            "28/28 [==============================] - 137s 5s/step - loss: 0.1494 - accuracy: 0.9450 - val_loss: 0.1022 - val_accuracy: 0.9649\n"
          ],
          "name": "stdout"
        }
      ]
    },
    {
      "cell_type": "code",
      "metadata": {
        "id": "8-zsbTpejIsA",
        "colab_type": "code",
        "colab": {
          "base_uri": "https://localhost:8080/",
          "height": 199
        },
        "outputId": "5782f0e0-4a5f-408c-c9b5-aa5ded51104f"
      },
      "source": [
        "# make predictions on the testing set\n",
        "print(\"[INFO] evaluating network...\")\n",
        "predIdxs = model.predict(testX, batch_size=BS)\n",
        "# for each image in the testing set we need to find the index of the\n",
        "# label with corresponding largest predicted probability\n",
        "predIdxs = np.argmax(predIdxs, axis=1)\n",
        "# show a nicely formatted classification report\n",
        "print(classification_report(testY.argmax(axis=1), predIdxs,\n",
        "\ttarget_names=lb.classes_))"
      ],
      "execution_count": 54,
      "outputs": [
        {
          "output_type": "stream",
          "text": [
            "[INFO] evaluating network...\n",
            "              precision    recall  f1-score   support\n",
            "\n",
            "    infected       0.96      0.96      0.96        23\n",
            "      normal       0.97      0.97      0.97        34\n",
            "\n",
            "    accuracy                           0.96        57\n",
            "   macro avg       0.96      0.96      0.96        57\n",
            "weighted avg       0.96      0.96      0.96        57\n",
            "\n"
          ],
          "name": "stdout"
        }
      ]
    },
    {
      "cell_type": "code",
      "metadata": {
        "id": "khYgM0NUnfQf",
        "colab_type": "code",
        "colab": {
          "base_uri": "https://localhost:8080/",
          "height": 108
        },
        "outputId": "c8364c6e-1728-4fe6-8fce-11350ecf22d5"
      },
      "source": [
        "# compute the confusion matrix and and use it to derive the raw\n",
        "# accuracy, sensitivity, and specificity\n",
        "cm = confusion_matrix(testY.argmax(axis=1), predIdxs)\n",
        "total = sum(sum(cm))\n",
        "acc = (cm[0, 0] + cm[1, 1]) / total\n",
        "sensitivity = cm[0, 0] / (cm[0, 0] + cm[0, 1])\n",
        "specificity = cm[1, 1] / (cm[1, 0] + cm[1, 1])\n",
        "# show the confusion matrix, accuracy, sensitivity, and specificity\n",
        "print(cm)\n",
        "print(\"acc: {:.4f}\".format(acc))\n",
        "print(\"sensitivity: {:.4f}\".format(sensitivity))\n",
        "print(\"specificity: {:.4f}\".format(specificity))"
      ],
      "execution_count": 55,
      "outputs": [
        {
          "output_type": "stream",
          "text": [
            "[[22  1]\n",
            " [ 1 33]]\n",
            "acc: 0.9649\n",
            "sensitivity: 0.9565\n",
            "specificity: 0.9706\n"
          ],
          "name": "stdout"
        }
      ]
    },
    {
      "cell_type": "code",
      "metadata": {
        "id": "Xtpt8X4Mnjy5",
        "colab_type": "code",
        "colab": {
          "base_uri": "https://localhost:8080/",
          "height": 317
        },
        "outputId": "d687f11a-2217-42d6-f3ec-bd03f8c3b98c"
      },
      "source": [
        "# plot the training loss and accuracy\n",
        "N = EPOCHS\n",
        "plt.style.use(\"ggplot\")\n",
        "plt.figure()\n",
        "plt.plot(np.arange(0, EPOCHS), H.history[\"loss\"], label=\"train_loss\")\n",
        "plt.plot(np.arange(0, EPOCHS), H.history[\"val_loss\"], label=\"val_loss\")\n",
        "plt.plot(np.arange(0, EPOCHS), H.history[\"accuracy\"], label=\"train_acc\")\n",
        "plt.plot(np.arange(0, EPOCHS), H.history[\"val_accuracy\"], label=\"val_acc\")\n",
        "plt.title(\"Training Loss and Accuracy on COVID-19 Dataset\")\n",
        "plt.xlabel(\"Epoch #\")\n",
        "plt.ylabel(\"Loss/Accuracy\")\n",
        "plt.legend(loc=\"lower left\")\n",
        "#plt.savefig(args[\"plot\"])"
      ],
      "execution_count": 56,
      "outputs": [
        {
          "output_type": "execute_result",
          "data": {
            "text/plain": [
              "<matplotlib.legend.Legend at 0x7fc4a399ba58>"
            ]
          },
          "metadata": {
            "tags": []
          },
          "execution_count": 56
        },
        {
          "output_type": "display_data",
          "data": {
            "image/png": "[encoded data removed]",
            "text/plain": [
              "<Figure size 432x288 with 1 Axes>"
            ]
          },
          "metadata": {
            "tags": []
          }
        }
      ]
    },
    {
      "cell_type": "markdown",
      "metadata": {
        "id": "e9up3JzMnyAh",
        "colab_type": "text"
      },
      "source": [
        "**Inception-V3**"
      ]
    },
    {
      "cell_type": "code",
      "metadata": {
        "id": "tU7YfKiWoMp8",
        "colab_type": "code",
        "colab": {}
      },
      "source": [
        "from tensorflow.keras.preprocessing.image import ImageDataGenerator\n",
        "from tensorflow.keras.applications import VGG16,InceptionV3\n",
        "from tensorflow.keras.layers import AveragePooling2D\n",
        "from tensorflow.keras.layers import Dropout\n",
        "from tensorflow.keras.layers import Flatten\n",
        "from tensorflow.keras.layers import Dense\n",
        "from tensorflow.keras.layers import Input\n",
        "from tensorflow.keras.models import Model\n",
        "from tensorflow.keras.optimizers import Adam\n",
        "from tensorflow.keras.utils import to_categorical\n",
        "from sklearn.preprocessing import LabelBinarizer\n",
        "from sklearn.model_selection import train_test_split"
      ],
      "execution_count": 0,
      "outputs": []
    },
    {
      "cell_type": "code",
      "metadata": {
        "id": "_vv47Dr22ZQj",
        "colab_type": "code",
        "colab": {
          "base_uri": "https://localhost:8080/",
          "height": 53
        },
        "outputId": "2b93da0a-c3ff-4d32-ff34-81a71990e411"
      },
      "source": [
        "baseModel = InceptionV3(weights=\"imagenet\", include_top=False, input_tensor=Input(shape=(224, 224, 3)))\n",
        "#construct the head of the model that will be placed on top of the\n",
        "#the base model\n",
        "\n",
        "headModel = baseModel.output\n",
        "headModel = AveragePooling2D(pool_size=(4, 4))(headModel)\n",
        "headModel = Dropout(0.5)(headModel)\n",
        "headModel = Flatten(name=\"flatten\")(headModel)\n",
        "headModel = Dense(64, activation=\"relu\")(headModel)\n",
        "headModel = Dropout(0.5)(headModel)\n",
        "headModel = Dense(2, activation=\"softmax\")(headModel)\n",
        "\n",
        "\n",
        "model= Model(inputs=baseModel.input, outputs=headModel)\n",
        "\n",
        "for layer in baseModel.layers:\n",
        "    layer.trainable = False"
      ],
      "execution_count": 61,
      "outputs": [
        {
          "output_type": "stream",
          "text": [
            "Downloading data from https://storage.googleapis.com/tensorflow/keras-applications/inception_v3/inception_v3_weights_tf_dim_ordering_tf_kernels_notop.h5\n",
            "87916544/87910968 [==============================] - 1s 0us/step\n"
          ],
          "name": "stdout"
        }
      ]
    },
    {
      "cell_type": "code",
      "metadata": {
        "id": "egx8Dj5X2c8n",
        "colab_type": "code",
        "colab": {}
      },
      "source": [
        "model_chkpt = ModelCheckpoint('best_mod.h5', save_best_only=True, monitor='accuracy')\n",
        "early_stopping = EarlyStopping(monitor='loss', restore_best_weights=False, patience=10)"
      ],
      "execution_count": 0,
      "outputs": []
    },
    {
      "cell_type": "code",
      "metadata": {
        "id": "Ct0dPV2U2hnF",
        "colab_type": "code",
        "colab": {
          "base_uri": "https://localhost:8080/",
          "height": 962
        },
        "outputId": "c016164a-8122-46e6-efa8-cc6a5764ee56"
      },
      "source": [
        "# initialize the initial learning rate, number of epochs to train for,\n",
        "# and batch size\n",
        "INIT_LR = 3e-4\n",
        "EPOCHS = 25\n",
        "BS = 8\n",
        "# compile our model\n",
        "print(\"[INFO] compiling model...\")\n",
        "opt = Adam(lr=INIT_LR, decay=INIT_LR / EPOCHS)\n",
        "model.compile(loss=\"binary_crossentropy\", optimizer=opt,\n",
        "\tmetrics=[\"accuracy\"])\n",
        "# train the head of the network\n",
        "print(\"[INFO] training head...\")\n",
        "H = model.fit_generator(\n",
        "\ttrainAug.flow(trainX, trainY, batch_size=BS),\n",
        "\tsteps_per_epoch=len(trainX) // BS,\n",
        "\tvalidation_data=(testX, testY),\n",
        "\tvalidation_steps=len(testX) // BS,\n",
        "\tepochs=EPOCHS,callbacks=[early_stopping,model_chkpt])"
      ],
      "execution_count": 64,
      "outputs": [
        {
          "output_type": "stream",
          "text": [
            "[INFO] compiling model...\n",
            "[INFO] training head...\n",
            "Epoch 1/25\n",
            "28/28 [==============================] - 32s 1s/step - loss: 0.9032 - accuracy: 0.6161 - val_loss: 0.4095 - val_accuracy: 0.7895\n",
            "Epoch 2/25\n",
            "28/28 [==============================] - 30s 1s/step - loss: 0.4345 - accuracy: 0.8073 - val_loss: 0.2270 - val_accuracy: 0.8596\n",
            "Epoch 3/25\n",
            "28/28 [==============================] - 30s 1s/step - loss: 0.3465 - accuracy: 0.8670 - val_loss: 0.2627 - val_accuracy: 0.8947\n",
            "Epoch 4/25\n",
            "28/28 [==============================] - 32s 1s/step - loss: 0.2415 - accuracy: 0.8991 - val_loss: 0.2669 - val_accuracy: 0.8947\n",
            "Epoch 5/25\n",
            "28/28 [==============================] - 30s 1s/step - loss: 0.2998 - accuracy: 0.8945 - val_loss: 0.2047 - val_accuracy: 0.8947\n",
            "Epoch 6/25\n",
            "28/28 [==============================] - 29s 1s/step - loss: 0.2927 - accuracy: 0.8761 - val_loss: 0.2210 - val_accuracy: 0.9123\n",
            "Epoch 7/25\n",
            "28/28 [==============================] - 30s 1s/step - loss: 0.2255 - accuracy: 0.9220 - val_loss: 0.2217 - val_accuracy: 0.9123\n",
            "Epoch 8/25\n",
            "28/28 [==============================] - 29s 1s/step - loss: 0.2779 - accuracy: 0.8807 - val_loss: 0.2731 - val_accuracy: 0.8772\n",
            "Epoch 9/25\n",
            "28/28 [==============================] - 29s 1s/step - loss: 0.2396 - accuracy: 0.9037 - val_loss: 0.2088 - val_accuracy: 0.9298\n",
            "Epoch 10/25\n",
            "28/28 [==============================] - 29s 1s/step - loss: 0.2193 - accuracy: 0.8991 - val_loss: 0.1937 - val_accuracy: 0.9298\n",
            "Epoch 11/25\n",
            "28/28 [==============================] - 30s 1s/step - loss: 0.1789 - accuracy: 0.9312 - val_loss: 0.2136 - val_accuracy: 0.9123\n",
            "Epoch 12/25\n",
            "28/28 [==============================] - 29s 1s/step - loss: 0.1742 - accuracy: 0.9266 - val_loss: 0.2375 - val_accuracy: 0.9123\n",
            "Epoch 13/25\n",
            "28/28 [==============================] - 29s 1s/step - loss: 0.1991 - accuracy: 0.9266 - val_loss: 0.2136 - val_accuracy: 0.9298\n",
            "Epoch 14/25\n",
            "28/28 [==============================] - 30s 1s/step - loss: 0.1897 - accuracy: 0.9174 - val_loss: 0.1843 - val_accuracy: 0.9474\n",
            "Epoch 15/25\n",
            "28/28 [==============================] - 30s 1s/step - loss: 0.2401 - accuracy: 0.9037 - val_loss: 0.2688 - val_accuracy: 0.8947\n",
            "Epoch 16/25\n",
            "28/28 [==============================] - 30s 1s/step - loss: 0.1295 - accuracy: 0.9554 - val_loss: 0.1729 - val_accuracy: 0.9298\n",
            "Epoch 17/25\n",
            "28/28 [==============================] - 29s 1s/step - loss: 0.1446 - accuracy: 0.9312 - val_loss: 0.2089 - val_accuracy: 0.9123\n",
            "Epoch 18/25\n",
            "28/28 [==============================] - 29s 1s/step - loss: 0.1755 - accuracy: 0.9266 - val_loss: 0.1743 - val_accuracy: 0.9298\n",
            "Epoch 19/25\n",
            "28/28 [==============================] - 29s 1s/step - loss: 0.1391 - accuracy: 0.9312 - val_loss: 0.2082 - val_accuracy: 0.9298\n",
            "Epoch 20/25\n",
            "28/28 [==============================] - 29s 1s/step - loss: 0.1669 - accuracy: 0.9312 - val_loss: 0.2259 - val_accuracy: 0.9123\n",
            "Epoch 21/25\n",
            "28/28 [==============================] - 30s 1s/step - loss: 0.1614 - accuracy: 0.9404 - val_loss: 0.2211 - val_accuracy: 0.9123\n",
            "Epoch 22/25\n",
            "28/28 [==============================] - 29s 1s/step - loss: 0.1923 - accuracy: 0.9220 - val_loss: 0.1820 - val_accuracy: 0.9474\n",
            "Epoch 23/25\n",
            "28/28 [==============================] - 29s 1s/step - loss: 0.1467 - accuracy: 0.9404 - val_loss: 0.1923 - val_accuracy: 0.9298\n",
            "Epoch 24/25\n",
            "28/28 [==============================] - 32s 1s/step - loss: 0.1034 - accuracy: 0.9541 - val_loss: 0.1818 - val_accuracy: 0.9474\n",
            "Epoch 25/25\n",
            "28/28 [==============================] - 29s 1s/step - loss: 0.1510 - accuracy: 0.9220 - val_loss: 0.2281 - val_accuracy: 0.9123\n"
          ],
          "name": "stdout"
        }
      ]
    },
    {
      "cell_type": "code",
      "metadata": {
        "id": "t4n096fn2k_1",
        "colab_type": "code",
        "colab": {
          "base_uri": "https://localhost:8080/",
          "height": 199
        },
        "outputId": "751574b5-67ff-41a6-a7a7-4bf8966d3273"
      },
      "source": [
        "# make predictions on the testing set\n",
        "print(\"[INFO] evaluating network...\")\n",
        "predIdxs = model.predict(testX, batch_size=BS)\n",
        "# for each image in the testing set we need to find the index of the\n",
        "# label with corresponding largest predicted probability\n",
        "predIdxs = np.argmax(predIdxs, axis=1)\n",
        "# show a nicely formatted classification report\n",
        "print(classification_report(testY.argmax(axis=1), predIdxs,\n",
        "\ttarget_names=lb.classes_))"
      ],
      "execution_count": 65,
      "outputs": [
        {
          "output_type": "stream",
          "text": [
            "[INFO] evaluating network...\n",
            "              precision    recall  f1-score   support\n",
            "\n",
            "    infected       0.95      0.83      0.88        23\n",
            "      normal       0.89      0.97      0.93        34\n",
            "\n",
            "    accuracy                           0.91        57\n",
            "   macro avg       0.92      0.90      0.91        57\n",
            "weighted avg       0.92      0.91      0.91        57\n",
            "\n"
          ],
          "name": "stdout"
        }
      ]
    },
    {
      "cell_type": "code",
      "metadata": {
        "id": "Cojfv4ml52QE",
        "colab_type": "code",
        "colab": {
          "base_uri": "https://localhost:8080/",
          "height": 108
        },
        "outputId": "73eafafd-ba98-478c-eec3-f339b90d1d6b"
      },
      "source": [
        "# compute the confusion matrix and and use it to derive the raw\n",
        "# accuracy, sensitivity, and specificity\n",
        "cm = confusion_matrix(testY.argmax(axis=1), predIdxs)\n",
        "total = sum(sum(cm))\n",
        "acc = (cm[0, 0] + cm[1, 1]) / total\n",
        "sensitivity = cm[0, 0] / (cm[0, 0] + cm[0, 1])\n",
        "specificity = cm[1, 1] / (cm[1, 0] + cm[1, 1])\n",
        "# show the confusion matrix, accuracy, sensitivity, and specificity\n",
        "print(cm)\n",
        "print(\"acc: {:.4f}\".format(acc))\n",
        "print(\"sensitivity: {:.4f}\".format(sensitivity))\n",
        "print(\"specificity: {:.4f}\".format(specificity))"
      ],
      "execution_count": 66,
      "outputs": [
        {
          "output_type": "stream",
          "text": [
            "[[19  4]\n",
            " [ 1 33]]\n",
            "acc: 0.9123\n",
            "sensitivity: 0.8261\n",
            "specificity: 0.9706\n"
          ],
          "name": "stdout"
        }
      ]
    },
    {
      "cell_type": "code",
      "metadata": {
        "id": "IILb8vLG574_",
        "colab_type": "code",
        "colab": {
          "base_uri": "https://localhost:8080/",
          "height": 317
        },
        "outputId": "d27fdd02-eef0-4f14-d46c-439175e20dfd"
      },
      "source": [
        "# plot the training loss and accuracy\n",
        "N = EPOCHS\n",
        "plt.style.use(\"ggplot\")\n",
        "plt.figure()\n",
        "plt.plot(np.arange(0, EPOCHS), H.history[\"loss\"], label=\"train_loss\")\n",
        "plt.plot(np.arange(0, EPOCHS), H.history[\"val_loss\"], label=\"val_loss\")\n",
        "plt.plot(np.arange(0, EPOCHS), H.history[\"accuracy\"], label=\"train_acc\")\n",
        "plt.plot(np.arange(0, EPOCHS), H.history[\"val_accuracy\"], label=\"val_acc\")\n",
        "plt.title(\"Training Loss and Accuracy on COVID-19 Dataset\")\n",
        "plt.xlabel(\"Epoch #\")\n",
        "plt.ylabel(\"Loss/Accuracy\")\n",
        "plt.legend(loc=\"lower left\")\n",
        "#plt.savefig(args[\"plot\"])"
      ],
      "execution_count": 67,
      "outputs": [
        {
          "output_type": "execute_result",
          "data": {
            "text/plain": [
              "<matplotlib.legend.Legend at 0x7fc4a75900b8>"
            ]
          },
          "metadata": {
            "tags": []
          },
          "execution_count": 67
        },
        {
          "output_type": "display_data",
          "data": {
            "image/png": "[encoded data removed]",
            "text/plain": [
              "<Figure size 432x288 with 1 Axes>"
            ]
          },
          "metadata": {
            "tags": []
          }
        }
      ]
    },
    {
      "cell_type": "markdown",
      "metadata": {
        "id": "j4d7b9e_6G2O",
        "colab_type": "text"
      },
      "source": [
        "**Xception**"
      ]
    },
    {
      "cell_type": "code",
      "metadata": {
        "id": "8er8aqbI6OMA",
        "colab_type": "code",
        "colab": {}
      },
      "source": [
        "from tensorflow.keras.applications.xception import Xception\n",
        "from tensorflow.keras.preprocessing import image\n",
        "#from tensorflow.keras.applications.resnet50 import preprocess_input, decode_predictions\n",
        "import numpy as np"
      ],
      "execution_count": 0,
      "outputs": []
    },
    {
      "cell_type": "code",
      "metadata": {
        "id": "EanuM6Bt6dYr",
        "colab_type": "code",
        "colab": {
          "base_uri": "https://localhost:8080/",
          "height": 144
        },
        "outputId": "e07763ce-9c8d-4f97-c225-4c92e9ad8185"
      },
      "source": [
        "pip install tf-explain"
      ],
      "execution_count": 70,
      "outputs": [
        {
          "output_type": "stream",
          "text": [
            "Collecting tf-explain\n",
            "\u001b[?25l  Downloading https://files.pythonhosted.org/packages/1d/08/f77da1c8d29ba5b125e72b61b105e7514663562adac2bbbce04e424a37bc/tf_explain-0.2.1-py3-none-any.whl (41kB)\n",
            "\r\u001b[K     |███████▉                        | 10kB 17.3MB/s eta 0:00:01\r\u001b[K     |███████████████▊                | 20kB 1.5MB/s eta 0:00:01\r\u001b[K     |███████████████████████▋        | 30kB 1.8MB/s eta 0:00:01\r\u001b[K     |███████████████████████████████▌| 40kB 2.1MB/s eta 0:00:01\r\u001b[K     |████████████████████████████████| 51kB 1.9MB/s \n",
            "\u001b[?25hRequirement already satisfied: opencv-python>=4.1.0.25 in /usr/local/lib/python3.6/dist-packages (from tf-explain) (4.1.2.30)\n",
            "Requirement already satisfied: numpy>=1.11.3 in /usr/local/lib/python3.6/dist-packages (from opencv-python>=4.1.0.25->tf-explain) (1.18.5)\n",
            "Installing collected packages: tf-explain\n",
            "Successfully installed tf-explain-0.2.1\n"
          ],
          "name": "stdout"
        }
      ]
    },
    {
      "cell_type": "code",
      "metadata": {
        "id": "IIyGo2FW6qBa",
        "colab_type": "code",
        "colab": {}
      },
      "source": [
        "#import librariesimport numpy as np\n",
        "import tensorflow as tf\n",
        "import matplotlib.pyplot as plt\n",
        "from tf_explain.core.activations import ExtractActivations\n",
        "from tensorflow.keras.applications.xception import decode_predictions\n",
        "%matplotlib inline"
      ],
      "execution_count": 0,
      "outputs": []
    },
    {
      "cell_type": "code",
      "metadata": {
        "id": "2_GXvHtJ6Qa6",
        "colab_type": "code",
        "colab": {
          "base_uri": "https://localhost:8080/",
          "height": 53
        },
        "outputId": "3548276f-0ce5-4fb5-cfda-ca145532127d"
      },
      "source": [
        "IMG_SHAPE = (224,224,3)\n",
        "\n",
        "# Create the base model from the pre-trained model Xception\n",
        "baseModel = tf.keras.applications.Xception(include_top=False,weights='imagenet',input_tensor=Input(shape=(224, 224, 3)))\n",
        "headModel = baseModel.output\n",
        "headModel = AveragePooling2D(pool_size=(4, 4))(headModel)\n",
        "headModel = Dropout(0.5)(headModel)\n",
        "headModel = Flatten(name=\"flatten\")(headModel)\n",
        "headModel = Dense(64, activation=\"relu\")(headModel)\n",
        "headModel = Dropout(0.5)(headModel)\n",
        "headModel = Dense(2, activation=\"softmax\")(headModel)\n",
        "\n",
        "\n",
        "Xception_model= Model(inputs=baseModel.input, outputs=headModel)\n",
        "\n",
        "for layer in baseModel.layers:\n",
        "    layer.trainable = False"
      ],
      "execution_count": 73,
      "outputs": [
        {
          "output_type": "stream",
          "text": [
            "Downloading data from https://storage.googleapis.com/tensorflow/keras-applications/xception/xception_weights_tf_dim_ordering_tf_kernels_notop.h5\n",
            "83689472/83683744 [==============================] - 1s 0us/step\n"
          ],
          "name": "stdout"
        }
      ]
    },
    {
      "cell_type": "code",
      "metadata": {
        "id": "S0opaGD06Sk9",
        "colab_type": "code",
        "colab": {
          "base_uri": "https://localhost:8080/",
          "height": 962
        },
        "outputId": "cd508157-1eb1-4097-d08b-723cc6f996da"
      },
      "source": [
        "model_chkpt = ModelCheckpoint('best_mod.h5', save_best_only=True, monitor='accuracy')\n",
        "early_stopping = EarlyStopping(monitor='loss', restore_best_weights=False, patience=10)\n",
        "\n",
        "# initialize the initial learning rate, number of epochs to train for,\n",
        "# and batch size\n",
        "INIT_LR = 3e-4\n",
        "EPOCHS = 25\n",
        "BS = 8\n",
        "# compile our model\n",
        "print(\"[INFO] compiling model...\")\n",
        "opt = Adam(lr=INIT_LR, decay=INIT_LR / EPOCHS)\n",
        "Xception_model.compile(loss=\"binary_crossentropy\", optimizer=opt,\n",
        "\tmetrics=[\"accuracy\"])\n",
        "# train the head of the network\n",
        "print(\"[INFO] training head...\")\n",
        "H = Xception_model.fit_generator(\n",
        "\ttrainAug.flow(trainX, trainY, batch_size=BS),\n",
        "\tsteps_per_epoch=len(trainX) // BS,\n",
        "\tvalidation_data=(testX, testY),\n",
        "\tvalidation_steps=len(testX) // BS,\n",
        "\tepochs=EPOCHS,callbacks=[early_stopping,model_chkpt])"
      ],
      "execution_count": 74,
      "outputs": [
        {
          "output_type": "stream",
          "text": [
            "[INFO] compiling model...\n",
            "[INFO] training head...\n",
            "Epoch 1/25\n",
            "28/28 [==============================] - 55s 2s/step - loss: 0.5705 - accuracy: 0.6881 - val_loss: 0.3315 - val_accuracy: 0.8772\n",
            "Epoch 2/25\n",
            "28/28 [==============================] - 55s 2s/step - loss: 0.2450 - accuracy: 0.9358 - val_loss: 0.2258 - val_accuracy: 0.8772\n",
            "Epoch 3/25\n",
            "28/28 [==============================] - 54s 2s/step - loss: 0.2423 - accuracy: 0.9037 - val_loss: 0.1922 - val_accuracy: 0.9123\n",
            "Epoch 4/25\n",
            "28/28 [==============================] - 54s 2s/step - loss: 0.1721 - accuracy: 0.9312 - val_loss: 0.1742 - val_accuracy: 0.9298\n",
            "Epoch 5/25\n",
            "28/28 [==============================] - 56s 2s/step - loss: 0.1373 - accuracy: 0.9495 - val_loss: 0.1526 - val_accuracy: 0.9474\n",
            "Epoch 6/25\n",
            "28/28 [==============================] - 54s 2s/step - loss: 0.1353 - accuracy: 0.9495 - val_loss: 0.1528 - val_accuracy: 0.9474\n",
            "Epoch 7/25\n",
            "28/28 [==============================] - 54s 2s/step - loss: 0.1442 - accuracy: 0.9495 - val_loss: 0.1302 - val_accuracy: 0.9649\n",
            "Epoch 8/25\n",
            "28/28 [==============================] - 54s 2s/step - loss: 0.1414 - accuracy: 0.9404 - val_loss: 0.1378 - val_accuracy: 0.9474\n",
            "Epoch 9/25\n",
            "28/28 [==============================] - 55s 2s/step - loss: 0.1135 - accuracy: 0.9450 - val_loss: 0.1313 - val_accuracy: 0.9474\n",
            "Epoch 10/25\n",
            "28/28 [==============================] - 55s 2s/step - loss: 0.1394 - accuracy: 0.9633 - val_loss: 0.1065 - val_accuracy: 0.9825\n",
            "Epoch 11/25\n",
            "28/28 [==============================] - 54s 2s/step - loss: 0.0849 - accuracy: 0.9633 - val_loss: 0.0973 - val_accuracy: 0.9825\n",
            "Epoch 12/25\n",
            "28/28 [==============================] - 55s 2s/step - loss: 0.1172 - accuracy: 0.9495 - val_loss: 0.0946 - val_accuracy: 0.9825\n",
            "Epoch 13/25\n",
            "28/28 [==============================] - 56s 2s/step - loss: 0.0819 - accuracy: 0.9732 - val_loss: 0.1015 - val_accuracy: 0.9825\n",
            "Epoch 14/25\n",
            "28/28 [==============================] - 55s 2s/step - loss: 0.0748 - accuracy: 0.9862 - val_loss: 0.1002 - val_accuracy: 0.9825\n",
            "Epoch 15/25\n",
            "28/28 [==============================] - 55s 2s/step - loss: 0.0795 - accuracy: 0.9725 - val_loss: 0.0927 - val_accuracy: 0.9825\n",
            "Epoch 16/25\n",
            "28/28 [==============================] - 56s 2s/step - loss: 0.0773 - accuracy: 0.9725 - val_loss: 0.0995 - val_accuracy: 0.9825\n",
            "Epoch 17/25\n",
            "28/28 [==============================] - 55s 2s/step - loss: 0.0575 - accuracy: 0.9725 - val_loss: 0.1172 - val_accuracy: 0.9825\n",
            "Epoch 18/25\n",
            "28/28 [==============================] - 55s 2s/step - loss: 0.1058 - accuracy: 0.9633 - val_loss: 0.1192 - val_accuracy: 0.9825\n",
            "Epoch 19/25\n",
            "28/28 [==============================] - 55s 2s/step - loss: 0.1024 - accuracy: 0.9587 - val_loss: 0.1027 - val_accuracy: 0.9825\n",
            "Epoch 20/25\n",
            "28/28 [==============================] - 55s 2s/step - loss: 0.1318 - accuracy: 0.9450 - val_loss: 0.1600 - val_accuracy: 0.9298\n",
            "Epoch 21/25\n",
            "28/28 [==============================] - 55s 2s/step - loss: 0.0883 - accuracy: 0.9679 - val_loss: 0.1015 - val_accuracy: 0.9825\n",
            "Epoch 22/25\n",
            "28/28 [==============================] - 55s 2s/step - loss: 0.0551 - accuracy: 0.9725 - val_loss: 0.1289 - val_accuracy: 0.9649\n",
            "Epoch 23/25\n",
            "28/28 [==============================] - 56s 2s/step - loss: 0.1254 - accuracy: 0.9509 - val_loss: 0.0912 - val_accuracy: 0.9825\n",
            "Epoch 24/25\n",
            "28/28 [==============================] - 55s 2s/step - loss: 0.0886 - accuracy: 0.9771 - val_loss: 0.0690 - val_accuracy: 0.9825\n",
            "Epoch 25/25\n",
            "28/28 [==============================] - 55s 2s/step - loss: 0.0756 - accuracy: 0.9908 - val_loss: 0.0839 - val_accuracy: 0.9825\n"
          ],
          "name": "stdout"
        }
      ]
    },
    {
      "cell_type": "code",
      "metadata": {
        "id": "I2ZsvGQ06npv",
        "colab_type": "code",
        "colab": {
          "base_uri": "https://localhost:8080/",
          "height": 199
        },
        "outputId": "0186cc2f-2d48-47e4-fea6-635e0888edc1"
      },
      "source": [
        "# make predictions on the testing set\n",
        "print(\"[INFO] evaluating network...\")\n",
        "predIdxs = model.predict(testX, batch_size=BS)\n",
        "# for each image in the testing set we need to find the index of the\n",
        "# label with corresponding largest predicted probability\n",
        "predIdxs = np.argmax(predIdxs, axis=1)\n",
        "# show a nicely formatted classification report\n",
        "print(classification_report(testY.argmax(axis=1), predIdxs,\n",
        "\ttarget_names=lb.classes_))"
      ],
      "execution_count": 75,
      "outputs": [
        {
          "output_type": "stream",
          "text": [
            "[INFO] evaluating network...\n",
            "              precision    recall  f1-score   support\n",
            "\n",
            "    infected       0.95      0.83      0.88        23\n",
            "      normal       0.89      0.97      0.93        34\n",
            "\n",
            "    accuracy                           0.91        57\n",
            "   macro avg       0.92      0.90      0.91        57\n",
            "weighted avg       0.92      0.91      0.91        57\n",
            "\n"
          ],
          "name": "stdout"
        }
      ]
    },
    {
      "cell_type": "code",
      "metadata": {
        "id": "HAtQ5FFm7Kv1",
        "colab_type": "code",
        "colab": {
          "base_uri": "https://localhost:8080/",
          "height": 108
        },
        "outputId": "34054e63-a8c0-4768-994c-10b263581d6f"
      },
      "source": [
        "# compute the confusion matrix and and use it to derive the raw\n",
        "# accuracy, sensitivity, and specificity\n",
        "cm = confusion_matrix(testY.argmax(axis=1), predIdxs)\n",
        "total = sum(sum(cm))\n",
        "acc = (cm[0, 0] + cm[1, 1]) / total\n",
        "sensitivity = cm[0, 0] / (cm[0, 0] + cm[0, 1])\n",
        "specificity = cm[1, 1] / (cm[1, 0] + cm[1, 1])\n",
        "# show the confusion matrix, accuracy, sensitivity, and specificity\n",
        "print(cm)\n",
        "print(\"acc: {:.4f}\".format(acc))\n",
        "print(\"sensitivity: {:.4f}\".format(sensitivity))\n",
        "print(\"specificity: {:.4f}\".format(specificity))"
      ],
      "execution_count": 76,
      "outputs": [
        {
          "output_type": "stream",
          "text": [
            "[[19  4]\n",
            " [ 1 33]]\n",
            "acc: 0.9123\n",
            "sensitivity: 0.8261\n",
            "specificity: 0.9706\n"
          ],
          "name": "stdout"
        }
      ]
    },
    {
      "cell_type": "code",
      "metadata": {
        "id": "c68c4AfR7QRJ",
        "colab_type": "code",
        "colab": {
          "base_uri": "https://localhost:8080/",
          "height": 317
        },
        "outputId": "0a5ad7bb-06fb-4434-fc3a-44d663caf925"
      },
      "source": [
        "# plot the training loss and accuracy\n",
        "N = EPOCHS\n",
        "plt.style.use(\"ggplot\")\n",
        "plt.figure()\n",
        "plt.plot(np.arange(0, EPOCHS), H.history[\"loss\"], label=\"train_loss\")\n",
        "plt.plot(np.arange(0, EPOCHS), H.history[\"val_loss\"], label=\"val_loss\")\n",
        "plt.plot(np.arange(0, EPOCHS), H.history[\"accuracy\"], label=\"train_acc\")\n",
        "plt.plot(np.arange(0, EPOCHS), H.history[\"val_accuracy\"], label=\"val_acc\")\n",
        "plt.title(\"Training Loss and Accuracy on COVID-19 Dataset\")\n",
        "plt.xlabel(\"Epoch #\")\n",
        "plt.ylabel(\"Loss/Accuracy\")\n",
        "plt.legend(loc=\"lower left\")\n",
        "#plt.savefig(args[\"plot\"])"
      ],
      "execution_count": 77,
      "outputs": [
        {
          "output_type": "execute_result",
          "data": {
            "text/plain": [
              "<matplotlib.legend.Legend at 0x7fc4a1b2d048>"
            ]
          },
          "metadata": {
            "tags": []
          },
          "execution_count": 77
        },
        {
          "output_type": "display_data",
          "data": {
            "image/png": "[encoded data removed]",
            "text/plain": [
              "<Figure size 432x288 with 1 Axes>"
            ]
          },
          "metadata": {
            "tags": []
          }
        }
      ]
    },
    {
      "cell_type": "markdown",
      "metadata": {
        "id": "W-0YKijE7Zdm",
        "colab_type": "text"
      },
      "source": [
        "**InceptionResNet- V2**"
      ]
    },
    {
      "cell_type": "code",
      "metadata": {
        "id": "anmxBo8J7gG1",
        "colab_type": "code",
        "colab": {}
      },
      "source": [
        "from tensorflow.keras.preprocessing.image import ImageDataGenerator\n",
        "from tensorflow.keras.applications import VGG16,InceptionResNetV2\n",
        "from tensorflow.keras.layers import AveragePooling2D\n",
        "from tensorflow.keras.layers import Dropout\n",
        "from tensorflow.keras.layers import Flatten\n",
        "from tensorflow.keras.layers import Dense\n",
        "from tensorflow.keras.layers import Input\n",
        "from tensorflow.keras.models import Model\n",
        "from tensorflow.keras.optimizers import Adam\n",
        "from tensorflow.keras.utils import to_categorical\n",
        "from sklearn.preprocessing import LabelBinarizer\n",
        "from sklearn.model_selection import train_test_split"
      ],
      "execution_count": 0,
      "outputs": []
    },
    {
      "cell_type": "code",
      "metadata": {
        "id": "ziR1m2RL8zdx",
        "colab_type": "code",
        "colab": {
          "base_uri": "https://localhost:8080/",
          "height": 53
        },
        "outputId": "8d3797e3-c22b-4a36-8975-b67335a09ac3"
      },
      "source": [
        "baseModel = InceptionResNetV2(weights=\"imagenet\", include_top=False, input_tensor=Input(shape=(224, 224, 3)))\n",
        "#construct the head of the model that will be placed on top of the\n",
        "#the base model\n",
        "\n",
        "headModel = baseModel.output\n",
        "headModel = AveragePooling2D(pool_size=(4, 4))(headModel)\n",
        "headModel = Dropout(0.5)(headModel)\n",
        "headModel = Flatten(name=\"flatten\")(headModel)\n",
        "headModel = Dense(64, activation=\"relu\")(headModel)\n",
        "headModel = Dropout(0.5)(headModel)\n",
        "headModel = Dense(2, activation=\"softmax\")(headModel)\n",
        "\n",
        "\n",
        "model= Model(inputs=baseModel.input, outputs=headModel)\n",
        "\n",
        "for layer in baseModel.layers:\n",
        "    layer.trainable = False"
      ],
      "execution_count": 79,
      "outputs": [
        {
          "output_type": "stream",
          "text": [
            "Downloading data from https://storage.googleapis.com/tensorflow/keras-applications/inception_resnet_v2/inception_resnet_v2_weights_tf_dim_ordering_tf_kernels_notop.h5\n",
            "219062272/219055592 [==============================] - 2s 0us/step\n"
          ],
          "name": "stdout"
        }
      ]
    },
    {
      "cell_type": "code",
      "metadata": {
        "id": "ezH1q_0v886s",
        "colab_type": "code",
        "colab": {}
      },
      "source": [
        "model_chkpt = ModelCheckpoint('best_mod.h5', save_best_only=True, monitor='accuracy')\n",
        "early_stopping = EarlyStopping(monitor='loss', restore_best_weights=False, patience=10)"
      ],
      "execution_count": 0,
      "outputs": []
    },
    {
      "cell_type": "code",
      "metadata": {
        "id": "-hkPAFc88_sB",
        "colab_type": "code",
        "colab": {
          "base_uri": "https://localhost:8080/",
          "height": 962
        },
        "outputId": "631debc8-c391-4d61-ead4-9d4464174826"
      },
      "source": [
        "# initialize the initial learning rate, number of epochs to train for,\n",
        "# and batch size\n",
        "INIT_LR = 3e-4\n",
        "EPOCHS = 25\n",
        "BS = 8\n",
        "# compile our model\n",
        "print(\"[INFO] compiling model...\")\n",
        "opt = Adam(lr=INIT_LR, decay=INIT_LR / EPOCHS)\n",
        "model.compile(loss=\"binary_crossentropy\", optimizer=opt,\n",
        "\tmetrics=[\"accuracy\"])\n",
        "# train the head of the network\n",
        "print(\"[INFO] training head...\")\n",
        "H = model.fit_generator(\n",
        "\ttrainAug.flow(trainX, trainY, batch_size=BS),\n",
        "\tsteps_per_epoch=len(trainX) // BS,\n",
        "\tvalidation_data=(testX, testY),\n",
        "\tvalidation_steps=len(testX) // BS,\n",
        "\tepochs=EPOCHS,callbacks=[early_stopping,model_chkpt])"
      ],
      "execution_count": 81,
      "outputs": [
        {
          "output_type": "stream",
          "text": [
            "[INFO] compiling model...\n",
            "[INFO] training head...\n",
            "Epoch 1/25\n",
            "28/28 [==============================] - 70s 2s/step - loss: 1.0732 - accuracy: 0.5780 - val_loss: 0.2652 - val_accuracy: 0.9474\n",
            "Epoch 2/25\n",
            "28/28 [==============================] - 65s 2s/step - loss: 0.4942 - accuracy: 0.7706 - val_loss: 0.2731 - val_accuracy: 0.8772\n",
            "Epoch 3/25\n",
            "28/28 [==============================] - 66s 2s/step - loss: 0.3898 - accuracy: 0.8119 - val_loss: 0.2191 - val_accuracy: 0.9298\n",
            "Epoch 4/25\n",
            "28/28 [==============================] - 65s 2s/step - loss: 0.3529 - accuracy: 0.8578 - val_loss: 0.2783 - val_accuracy: 0.8772\n",
            "Epoch 5/25\n",
            "28/28 [==============================] - 65s 2s/step - loss: 0.3555 - accuracy: 0.8670 - val_loss: 0.2123 - val_accuracy: 0.9298\n",
            "Epoch 6/25\n",
            "28/28 [==============================] - 64s 2s/step - loss: 0.3291 - accuracy: 0.8624 - val_loss: 0.2445 - val_accuracy: 0.9123\n",
            "Epoch 7/25\n",
            "28/28 [==============================] - 65s 2s/step - loss: 0.3171 - accuracy: 0.8807 - val_loss: 0.2023 - val_accuracy: 0.9123\n",
            "Epoch 8/25\n",
            "28/28 [==============================] - 64s 2s/step - loss: 0.3632 - accuracy: 0.8624 - val_loss: 0.1897 - val_accuracy: 0.9123\n",
            "Epoch 9/25\n",
            "28/28 [==============================] - 65s 2s/step - loss: 0.2130 - accuracy: 0.9358 - val_loss: 0.1788 - val_accuracy: 0.9123\n",
            "Epoch 10/25\n",
            "28/28 [==============================] - 64s 2s/step - loss: 0.2476 - accuracy: 0.9037 - val_loss: 0.2019 - val_accuracy: 0.9123\n",
            "Epoch 11/25\n",
            "28/28 [==============================] - 64s 2s/step - loss: 0.2112 - accuracy: 0.9128 - val_loss: 0.1818 - val_accuracy: 0.9123\n",
            "Epoch 12/25\n",
            "28/28 [==============================] - 64s 2s/step - loss: 0.2810 - accuracy: 0.8991 - val_loss: 0.2412 - val_accuracy: 0.8947\n",
            "Epoch 13/25\n",
            "28/28 [==============================] - 64s 2s/step - loss: 0.1962 - accuracy: 0.9083 - val_loss: 0.1755 - val_accuracy: 0.9298\n",
            "Epoch 14/25\n",
            "28/28 [==============================] - 64s 2s/step - loss: 0.2270 - accuracy: 0.9128 - val_loss: 0.1824 - val_accuracy: 0.9298\n",
            "Epoch 15/25\n",
            "28/28 [==============================] - 64s 2s/step - loss: 0.2330 - accuracy: 0.9083 - val_loss: 0.1405 - val_accuracy: 0.9298\n",
            "Epoch 16/25\n",
            "28/28 [==============================] - 64s 2s/step - loss: 0.1557 - accuracy: 0.9312 - val_loss: 0.1348 - val_accuracy: 0.9298\n",
            "Epoch 17/25\n",
            "28/28 [==============================] - 64s 2s/step - loss: 0.2190 - accuracy: 0.9312 - val_loss: 0.2038 - val_accuracy: 0.8947\n",
            "Epoch 18/25\n",
            "28/28 [==============================] - 65s 2s/step - loss: 0.1433 - accuracy: 0.9450 - val_loss: 0.1521 - val_accuracy: 0.9474\n",
            "Epoch 19/25\n",
            "28/28 [==============================] - 64s 2s/step - loss: 0.1639 - accuracy: 0.9404 - val_loss: 0.1527 - val_accuracy: 0.9298\n",
            "Epoch 20/25\n",
            "28/28 [==============================] - 64s 2s/step - loss: 0.2499 - accuracy: 0.9312 - val_loss: 0.1770 - val_accuracy: 0.9298\n",
            "Epoch 21/25\n",
            "28/28 [==============================] - 64s 2s/step - loss: 0.1686 - accuracy: 0.9220 - val_loss: 0.1717 - val_accuracy: 0.9298\n",
            "Epoch 22/25\n",
            "28/28 [==============================] - 66s 2s/step - loss: 0.1056 - accuracy: 0.9598 - val_loss: 0.1058 - val_accuracy: 0.9474\n",
            "Epoch 23/25\n",
            "28/28 [==============================] - 65s 2s/step - loss: 0.1845 - accuracy: 0.9375 - val_loss: 0.1939 - val_accuracy: 0.9123\n",
            "Epoch 24/25\n",
            "28/28 [==============================] - 64s 2s/step - loss: 0.1763 - accuracy: 0.9358 - val_loss: 0.0986 - val_accuracy: 0.9474\n",
            "Epoch 25/25\n",
            "28/28 [==============================] - 64s 2s/step - loss: 0.1811 - accuracy: 0.9083 - val_loss: 0.1941 - val_accuracy: 0.9123\n"
          ],
          "name": "stdout"
        }
      ]
    },
    {
      "cell_type": "code",
      "metadata": {
        "id": "WmSavf7d9EZ0",
        "colab_type": "code",
        "colab": {
          "base_uri": "https://localhost:8080/",
          "height": 199
        },
        "outputId": "1932ba97-cc5b-43dc-83f8-c372a52fffe4"
      },
      "source": [
        "# make predictions on the testing set\n",
        "print(\"[INFO] evaluating network...\")\n",
        "predIdxs = model.predict(testX, batch_size=BS)\n",
        "# for each image in the testing set we need to find the index of the\n",
        "# label with corresponding largest predicted probability\n",
        "predIdxs = np.argmax(predIdxs, axis=1)\n",
        "# show a nicely formatted classification report\n",
        "print(classification_report(testY.argmax(axis=1), predIdxs,\n",
        "\ttarget_names=lb.classes_))"
      ],
      "execution_count": 82,
      "outputs": [
        {
          "output_type": "stream",
          "text": [
            "[INFO] evaluating network...\n",
            "              precision    recall  f1-score   support\n",
            "\n",
            "    infected       1.00      0.78      0.88        23\n",
            "      normal       0.87      1.00      0.93        34\n",
            "\n",
            "    accuracy                           0.91        57\n",
            "   macro avg       0.94      0.89      0.90        57\n",
            "weighted avg       0.92      0.91      0.91        57\n",
            "\n"
          ],
          "name": "stdout"
        }
      ]
    },
    {
      "cell_type": "code",
      "metadata": {
        "id": "SMd7ASdPCt-1",
        "colab_type": "code",
        "colab": {
          "base_uri": "https://localhost:8080/",
          "height": 108
        },
        "outputId": "17719f63-4e4e-4bf8-848d-bdbbf5f3728c"
      },
      "source": [
        "# compute the confusion matrix and and use it to derive the raw\n",
        "# accuracy, sensitivity, and specificity\n",
        "cm = confusion_matrix(testY.argmax(axis=1), predIdxs)\n",
        "total = sum(sum(cm))\n",
        "acc = (cm[0, 0] + cm[1, 1]) / total\n",
        "sensitivity = cm[0, 0] / (cm[0, 0] + cm[0, 1])\n",
        "specificity = cm[1, 1] / (cm[1, 0] + cm[1, 1])\n",
        "# show the confusion matrix, accuracy, sensitivity, and specificity\n",
        "print(cm)\n",
        "print(\"acc: {:.4f}\".format(acc))\n",
        "print(\"sensitivity: {:.4f}\".format(sensitivity))\n",
        "print(\"specificity: {:.4f}\".format(specificity))"
      ],
      "execution_count": 83,
      "outputs": [
        {
          "output_type": "stream",
          "text": [
            "[[18  5]\n",
            " [ 0 34]]\n",
            "acc: 0.9123\n",
            "sensitivity: 0.7826\n",
            "specificity: 1.0000\n"
          ],
          "name": "stdout"
        }
      ]
    },
    {
      "cell_type": "code",
      "metadata": {
        "id": "m2ZyauljCyyR",
        "colab_type": "code",
        "colab": {
          "base_uri": "https://localhost:8080/",
          "height": 317
        },
        "outputId": "67db9423-1fa8-4793-83b3-e82090e572f1"
      },
      "source": [
        "# plot the training loss and accuracy\n",
        "N = EPOCHS\n",
        "plt.style.use(\"ggplot\")\n",
        "plt.figure()\n",
        "plt.plot(np.arange(0, EPOCHS), H.history[\"loss\"], label=\"train_loss\")\n",
        "plt.plot(np.arange(0, EPOCHS), H.history[\"val_loss\"], label=\"val_loss\")\n",
        "plt.plot(np.arange(0, EPOCHS), H.history[\"accuracy\"], label=\"train_acc\")\n",
        "plt.plot(np.arange(0, EPOCHS), H.history[\"val_accuracy\"], label=\"val_acc\")\n",
        "plt.title(\"Training Loss and Accuracy on COVID-19 Dataset\")\n",
        "plt.xlabel(\"Epoch #\")\n",
        "plt.ylabel(\"Loss/Accuracy\")\n",
        "plt.legend(loc=\"lower left\")\n",
        "#plt.savefig(args[\"plot\"])"
      ],
      "execution_count": 84,
      "outputs": [
        {
          "output_type": "execute_result",
          "data": {
            "text/plain": [
              "<matplotlib.legend.Legend at 0x7fc4a1e62400>"
            ]
          },
          "metadata": {
            "tags": []
          },
          "execution_count": 84
        },
        {
          "output_type": "display_data",
          "data": {
            "image/png": "[encoded data removed]",
            "text/plain": [
              "<Figure size 432x288 with 1 Axes>"
            ]
          },
          "metadata": {
            "tags": []
          }
        }
      ]
    },
    {
      "cell_type": "markdown",
      "metadata": {
        "id": "Xu1_G0RXC3wx",
        "colab_type": "text"
      },
      "source": [
        "**NasNetLarge**"
      ]
    },
    {
      "cell_type": "code",
      "metadata": {
        "id": "F04WNA_8J9KV",
        "colab_type": "code",
        "colab": {}
      },
      "source": [
        "from tensorflow.keras.applications.nasnet import NASNetLarge"
      ],
      "execution_count": 0,
      "outputs": []
    },
    {
      "cell_type": "code",
      "metadata": {
        "id": "GKHMsUlIJ9zL",
        "colab_type": "code",
        "colab": {
          "base_uri": "https://localhost:8080/",
          "height": 53
        },
        "outputId": "ccab8488-d429-4cae-ff75-31b92aaca794"
      },
      "source": [
        "IMG_SHAPE = (224,224,3)\n",
        "\n",
        "# Create the base model from the pre-trained model MobileNet V2\n",
        "baseModel = tf.keras.applications.NASNetLarge(include_top=False,weights='imagenet',input_tensor=Input(shape=(224, 224, 3)))\n",
        "headModel = baseModel.output\n",
        "headModel = AveragePooling2D(pool_size=(4, 4))(headModel)\n",
        "headModel = Dropout(0.5)(headModel)\n",
        "headModel = Flatten(name=\"flatten\")(headModel)\n",
        "headModel = Dense(64, activation=\"relu\")(headModel)\n",
        "headModel = Dropout(0.5)(headModel)\n",
        "headModel = Dense(2, activation=\"softmax\")(headModel)\n",
        "\n",
        "\n",
        "model= Model(inputs=baseModel.input, outputs=headModel)\n",
        "\n",
        "for layer in baseModel.layers:\n",
        "    layer.trainable = False"
      ],
      "execution_count": 86,
      "outputs": [
        {
          "output_type": "stream",
          "text": [
            "Downloading data from https://storage.googleapis.com/tensorflow/keras-applications/nasnet/NASNet-large-no-top.h5\n",
            "343613440/343610240 [==============================] - 3s 0us/step\n"
          ],
          "name": "stdout"
        }
      ]
    },
    {
      "cell_type": "code",
      "metadata": {
        "id": "m-0k4YnEJ_-I",
        "colab_type": "code",
        "colab": {
          "base_uri": "https://localhost:8080/",
          "height": 889
        },
        "outputId": "b2756864-01ef-4725-b266-7c84fdedb002"
      },
      "source": [
        "model_chkpt = ModelCheckpoint('best_mod.h5', save_best_only=True, monitor='accuracy')\n",
        "early_stopping = EarlyStopping(monitor='loss', restore_best_weights=False, patience=10)\n",
        "\n",
        "# initialize the initial learning rate, number of epochs to train for,\n",
        "# and batch size\n",
        "INIT_LR = 3e-4\n",
        "EPOCHS = 25\n",
        "BS = 8\n",
        "# compile our model\n",
        "print(\"[INFO] compiling model...\")\n",
        "opt = Adam(lr=INIT_LR, decay=INIT_LR / EPOCHS)\n",
        "model.compile(loss=\"binary_crossentropy\", optimizer=opt,\n",
        "\tmetrics=[\"accuracy\"])\n",
        "# train the head of the network\n",
        "print(\"[INFO] training head...\")\n",
        "H = model.fit_generator(\n",
        "\ttrainAug.flow(trainX, trainY, batch_size=BS),\n",
        "\tsteps_per_epoch=len(trainX) // BS,\n",
        "\tvalidation_data=(testX, testY),\n",
        "\tvalidation_steps=len(testX) // BS,\n",
        "\tepochs=EPOCHS,callbacks=[early_stopping,model_chkpt])"
      ],
      "execution_count": 87,
      "outputs": [
        {
          "output_type": "stream",
          "text": [
            "[INFO] compiling model...\n",
            "[INFO] training head...\n",
            "Epoch 1/25\n",
            "28/28 [==============================] - 164s 6s/step - loss: 0.5710 - accuracy: 0.7523 - val_loss: 0.2878 - val_accuracy: 0.8596\n",
            "Epoch 2/25\n",
            "28/28 [==============================] - 157s 6s/step - loss: 0.2370 - accuracy: 0.9266 - val_loss: 0.1984 - val_accuracy: 0.9298\n",
            "Epoch 3/25\n",
            "28/28 [==============================] - 155s 6s/step - loss: 0.2823 - accuracy: 0.8899 - val_loss: 0.1362 - val_accuracy: 0.9649\n",
            "Epoch 4/25\n",
            "28/28 [==============================] - 155s 6s/step - loss: 0.2743 - accuracy: 0.9037 - val_loss: 0.1323 - val_accuracy: 0.9649\n",
            "Epoch 5/25\n",
            "28/28 [==============================] - 154s 6s/step - loss: 0.2165 - accuracy: 0.9128 - val_loss: 0.1444 - val_accuracy: 0.9649\n",
            "Epoch 6/25\n",
            "28/28 [==============================] - 154s 6s/step - loss: 0.2066 - accuracy: 0.9174 - val_loss: 0.1108 - val_accuracy: 0.9825\n",
            "Epoch 7/25\n",
            "28/28 [==============================] - 157s 6s/step - loss: 0.1675 - accuracy: 0.9358 - val_loss: 0.0982 - val_accuracy: 0.9825\n",
            "Epoch 8/25\n",
            "28/28 [==============================] - 155s 6s/step - loss: 0.1645 - accuracy: 0.9358 - val_loss: 0.0942 - val_accuracy: 0.9825\n",
            "Epoch 9/25\n",
            "28/28 [==============================] - 160s 6s/step - loss: 0.1590 - accuracy: 0.9464 - val_loss: 0.0643 - val_accuracy: 0.9825\n",
            "Epoch 10/25\n",
            "28/28 [==============================] - 156s 6s/step - loss: 0.1171 - accuracy: 0.9541 - val_loss: 0.0556 - val_accuracy: 0.9825\n",
            "Epoch 11/25\n",
            "28/28 [==============================] - 154s 5s/step - loss: 0.0978 - accuracy: 0.9495 - val_loss: 0.0614 - val_accuracy: 0.9825\n",
            "Epoch 12/25\n",
            "28/28 [==============================] - 155s 6s/step - loss: 0.1882 - accuracy: 0.9266 - val_loss: 0.0608 - val_accuracy: 0.9825\n",
            "Epoch 13/25\n",
            "28/28 [==============================] - 156s 6s/step - loss: 0.0496 - accuracy: 0.9908 - val_loss: 0.0624 - val_accuracy: 0.9825\n",
            "Epoch 14/25\n",
            "28/28 [==============================] - 154s 5s/step - loss: 0.1313 - accuracy: 0.9633 - val_loss: 0.0482 - val_accuracy: 0.9825\n",
            "Epoch 15/25\n",
            "28/28 [==============================] - 154s 6s/step - loss: 0.0973 - accuracy: 0.9541 - val_loss: 0.0703 - val_accuracy: 0.9649\n",
            "Epoch 16/25\n",
            "28/28 [==============================] - 154s 5s/step - loss: 0.0601 - accuracy: 0.9771 - val_loss: 0.0679 - val_accuracy: 0.9825\n",
            "Epoch 17/25\n",
            "28/28 [==============================] - 156s 6s/step - loss: 0.0783 - accuracy: 0.9771 - val_loss: 0.0347 - val_accuracy: 0.9825\n",
            "Epoch 18/25\n",
            "28/28 [==============================] - 153s 5s/step - loss: 0.1256 - accuracy: 0.9404 - val_loss: 0.0919 - val_accuracy: 0.9825\n",
            "Epoch 19/25\n",
            "28/28 [==============================] - 153s 5s/step - loss: 0.1264 - accuracy: 0.9633 - val_loss: 0.1100 - val_accuracy: 0.9825\n",
            "Epoch 20/25\n",
            "28/28 [==============================] - 154s 6s/step - loss: 0.1286 - accuracy: 0.9495 - val_loss: 0.1038 - val_accuracy: 0.9825\n",
            "Epoch 21/25\n",
            "28/28 [==============================] - 153s 5s/step - loss: 0.0556 - accuracy: 0.9817 - val_loss: 0.0728 - val_accuracy: 0.9825\n",
            "Epoch 22/25\n",
            "28/28 [==============================] - 155s 6s/step - loss: 0.1014 - accuracy: 0.9633 - val_loss: 0.0551 - val_accuracy: 0.9825\n",
            "Epoch 23/25\n",
            "28/28 [==============================] - 154s 5s/step - loss: 0.0711 - accuracy: 0.9679 - val_loss: 0.0744 - val_accuracy: 0.9825\n"
          ],
          "name": "stdout"
        }
      ]
    },
    {
      "cell_type": "code",
      "metadata": {
        "id": "z8t8mgFaKHR4",
        "colab_type": "code",
        "colab": {
          "base_uri": "https://localhost:8080/",
          "height": 199
        },
        "outputId": "69e38c70-c7dc-4d2a-cd6d-99cd61b71085"
      },
      "source": [
        "# make predictions on the testing set\n",
        "print(\"[INFO] evaluating network...\")\n",
        "predIdxs = model.predict(testX, batch_size=BS)\n",
        "# for each image in the testing set we need to find the index of the\n",
        "# label with corresponding largest predicted probability\n",
        "predIdxs = np.argmax(predIdxs, axis=1)\n",
        "# show a nicely formatted classification report\n",
        "print(classification_report(testY.argmax(axis=1), predIdxs,\n",
        "\ttarget_names=lb.classes_))\n"
      ],
      "execution_count": 88,
      "outputs": [
        {
          "output_type": "stream",
          "text": [
            "[INFO] evaluating network...\n",
            "              precision    recall  f1-score   support\n",
            "\n",
            "    infected       1.00      0.96      0.98        23\n",
            "      normal       0.97      1.00      0.99        34\n",
            "\n",
            "    accuracy                           0.98        57\n",
            "   macro avg       0.99      0.98      0.98        57\n",
            "weighted avg       0.98      0.98      0.98        57\n",
            "\n"
          ],
          "name": "stdout"
        }
      ]
    },
    {
      "cell_type": "code",
      "metadata": {
        "id": "NK3eDHkiKPU9",
        "colab_type": "code",
        "colab": {
          "base_uri": "https://localhost:8080/",
          "height": 317
        },
        "outputId": "4766bc1a-4d64-495b-bd50-b6ce3f7b9ad9"
      },
      "source": [
        "# plot the training loss and accuracy\n",
        "N = EPOCHS\n",
        "plt.style.use(\"ggplot\")\n",
        "plt.figure()\n",
        "plt.plot(np.arange(0, EPOCHS), H.history[\"loss\"], label=\"train_loss\")\n",
        "plt.plot(np.arange(0, EPOCHS), H.history[\"val_loss\"], label=\"val_loss\")\n",
        "plt.plot(np.arange(0, EPOCHS), H.history[\"accuracy\"], label=\"train_acc\")\n",
        "plt.plot(np.arange(0, EPOCHS), H.history[\"val_accuracy\"], label=\"val_acc\")\n",
        "plt.title(\"Training Loss and Accuracy on COVID-19 Dataset\")\n",
        "plt.xlabel(\"Epoch #\")\n",
        "plt.ylabel(\"Loss/Accuracy\")\n",
        "plt.legend(loc=\"lower left\")\n",
        "#plt.savefig(args[\"plot\"])"
      ],
      "execution_count": 99,
      "outputs": [
        {
          "output_type": "execute_result",
          "data": {
            "text/plain": [
              "<matplotlib.legend.Legend at 0x7fc4a69b4630>"
            ]
          },
          "metadata": {
            "tags": []
          },
          "execution_count": 99
        },
        {
          "output_type": "display_data",
          "data": {
            "image/png": "[encoded data removed]",
            "text/plain": [
              "<Figure size 432x288 with 1 Axes>"
            ]
          },
          "metadata": {
            "tags": []
          }
        }
      ]
    },
    {
      "cell_type": "markdown",
      "metadata": {
        "id": "W0ngCk6qOkpL",
        "colab_type": "text"
      },
      "source": [
        "**MobileNet-V2**"
      ]
    },
    {
      "cell_type": "code",
      "metadata": {
        "id": "03T366FqO4-H",
        "colab_type": "code",
        "colab": {}
      },
      "source": [
        "import tensorflow as tf\n"
      ],
      "execution_count": 0,
      "outputs": []
    },
    {
      "cell_type": "code",
      "metadata": {
        "id": "E3b3NGa4QMEr",
        "colab_type": "code",
        "colab": {
          "base_uri": "https://localhost:8080/",
          "height": 53
        },
        "outputId": "00005bfd-b5a9-43ac-bedd-eab806662ecc"
      },
      "source": [
        "IMG_SHAPE = (224,224,3)\n",
        "\n",
        "# Create the base model from the pre-trained model MobileNet V2\n",
        "baseModel = tf.keras.applications.MobileNetV2(input_shape=IMG_SHAPE,\n",
        "                                               include_top=False,\n",
        "                                               weights='imagenet')\n",
        "headModel = baseModel.output\n",
        "headModel = AveragePooling2D(pool_size=(4, 4))(headModel)\n",
        "headModel = Dropout(0.5)(headModel)\n",
        "headModel = Flatten(name=\"flatten\")(headModel)\n",
        "headModel = Dense(64, activation=\"relu\")(headModel)\n",
        "headModel = Dropout(0.5)(headModel)\n",
        "headModel = Dense(2, activation=\"softmax\")(headModel)\n",
        "\n",
        "\n",
        "model= Model(inputs=baseModel.input, outputs=headModel)\n",
        "\n",
        "for layer in baseModel.layers:\n",
        "    layer.trainable = False"
      ],
      "execution_count": 93,
      "outputs": [
        {
          "output_type": "stream",
          "text": [
            "Downloading data from https://storage.googleapis.com/tensorflow/keras-applications/mobilenet_v2/mobilenet_v2_weights_tf_dim_ordering_tf_kernels_1.0_224_no_top.h5\n",
            "9412608/9406464 [==============================] - 0s 0us/step\n"
          ],
          "name": "stdout"
        }
      ]
    },
    {
      "cell_type": "code",
      "metadata": {
        "id": "AOcB_b0GQO1H",
        "colab_type": "code",
        "colab": {}
      },
      "source": [
        "model_chkpt = ModelCheckpoint('best_mod.h5', save_best_only=True, monitor='accuracy')\n",
        "early_stopping = EarlyStopping(monitor='loss', restore_best_weights=False, patience=10)"
      ],
      "execution_count": 0,
      "outputs": []
    },
    {
      "cell_type": "code",
      "metadata": {
        "id": "yDvq9zQbQRcw",
        "colab_type": "code",
        "colab": {
          "base_uri": "https://localhost:8080/",
          "height": 962
        },
        "outputId": "82f06e1d-ff15-4dba-d20f-740648e3e7ad"
      },
      "source": [
        "# initialize the initial learning rate, number of epochs to train for,\n",
        "# and batch size\n",
        "INIT_LR = 3e-4\n",
        "EPOCHS = 25\n",
        "BS = 8\n",
        "# compile our model\n",
        "print(\"[INFO] compiling model...\")\n",
        "opt = Adam(lr=INIT_LR, decay=INIT_LR / EPOCHS)\n",
        "model.compile(loss=\"binary_crossentropy\", optimizer=opt,\n",
        "\tmetrics=[\"accuracy\"])\n",
        "# train the head of the network\n",
        "print(\"[INFO] training head...\")\n",
        "H = model.fit_generator(\n",
        "\ttrainAug.flow(trainX, trainY, batch_size=BS),\n",
        "\tsteps_per_epoch=len(trainX) // BS,\n",
        "\tvalidation_data=(testX, testY),\n",
        "\tvalidation_steps=len(testX) // BS,\n",
        "\tepochs=EPOCHS,callbacks=[early_stopping,model_chkpt])"
      ],
      "execution_count": 95,
      "outputs": [
        {
          "output_type": "stream",
          "text": [
            "[INFO] compiling model...\n",
            "[INFO] training head...\n",
            "Epoch 1/25\n",
            "28/28 [==============================] - 12s 428ms/step - loss: 1.0813 - accuracy: 0.6009 - val_loss: 0.3787 - val_accuracy: 0.8246\n",
            "Epoch 2/25\n",
            "28/28 [==============================] - 11s 407ms/step - loss: 0.6051 - accuracy: 0.7706 - val_loss: 0.2393 - val_accuracy: 0.9123\n",
            "Epoch 3/25\n",
            "28/28 [==============================] - 12s 415ms/step - loss: 0.5058 - accuracy: 0.7768 - val_loss: 0.2601 - val_accuracy: 0.8772\n",
            "Epoch 4/25\n",
            "28/28 [==============================] - 11s 407ms/step - loss: 0.3518 - accuracy: 0.8670 - val_loss: 0.2104 - val_accuracy: 0.9123\n",
            "Epoch 5/25\n",
            "28/28 [==============================] - 11s 398ms/step - loss: 0.3587 - accuracy: 0.8578 - val_loss: 0.2526 - val_accuracy: 0.8772\n",
            "Epoch 6/25\n",
            "28/28 [==============================] - 11s 396ms/step - loss: 0.3111 - accuracy: 0.8670 - val_loss: 0.1925 - val_accuracy: 0.9123\n",
            "Epoch 7/25\n",
            "28/28 [==============================] - 11s 407ms/step - loss: 0.2654 - accuracy: 0.8807 - val_loss: 0.2193 - val_accuracy: 0.8947\n",
            "Epoch 8/25\n",
            "28/28 [==============================] - 11s 399ms/step - loss: 0.3729 - accuracy: 0.8486 - val_loss: 0.1980 - val_accuracy: 0.8947\n",
            "Epoch 9/25\n",
            "28/28 [==============================] - 11s 409ms/step - loss: 0.2441 - accuracy: 0.8853 - val_loss: 0.1568 - val_accuracy: 0.9474\n",
            "Epoch 10/25\n",
            "28/28 [==============================] - 12s 416ms/step - loss: 0.2725 - accuracy: 0.9220 - val_loss: 0.1622 - val_accuracy: 0.9474\n",
            "Epoch 11/25\n",
            "28/28 [==============================] - 11s 401ms/step - loss: 0.2746 - accuracy: 0.8991 - val_loss: 0.1446 - val_accuracy: 0.9474\n",
            "Epoch 12/25\n",
            "28/28 [==============================] - 11s 401ms/step - loss: 0.2784 - accuracy: 0.9083 - val_loss: 0.1501 - val_accuracy: 0.9298\n",
            "Epoch 13/25\n",
            "28/28 [==============================] - 12s 419ms/step - loss: 0.1938 - accuracy: 0.9266 - val_loss: 0.1563 - val_accuracy: 0.9298\n",
            "Epoch 14/25\n",
            "28/28 [==============================] - 12s 414ms/step - loss: 0.1760 - accuracy: 0.9464 - val_loss: 0.1532 - val_accuracy: 0.9298\n",
            "Epoch 15/25\n",
            "28/28 [==============================] - 11s 399ms/step - loss: 0.1935 - accuracy: 0.9174 - val_loss: 0.1534 - val_accuracy: 0.9298\n",
            "Epoch 16/25\n",
            "28/28 [==============================] - 12s 411ms/step - loss: 0.1712 - accuracy: 0.9404 - val_loss: 0.1415 - val_accuracy: 0.9474\n",
            "Epoch 17/25\n",
            "28/28 [==============================] - 11s 402ms/step - loss: 0.2771 - accuracy: 0.8899 - val_loss: 0.1226 - val_accuracy: 0.9474\n",
            "Epoch 18/25\n",
            "28/28 [==============================] - 11s 404ms/step - loss: 0.1826 - accuracy: 0.9220 - val_loss: 0.1155 - val_accuracy: 0.9474\n",
            "Epoch 19/25\n",
            "28/28 [==============================] - 11s 398ms/step - loss: 0.1744 - accuracy: 0.9312 - val_loss: 0.1134 - val_accuracy: 0.9474\n",
            "Epoch 20/25\n",
            "28/28 [==============================] - 11s 400ms/step - loss: 0.1754 - accuracy: 0.9404 - val_loss: 0.1217 - val_accuracy: 0.9474\n",
            "Epoch 21/25\n",
            "28/28 [==============================] - 11s 406ms/step - loss: 0.1182 - accuracy: 0.9587 - val_loss: 0.1342 - val_accuracy: 0.9474\n",
            "Epoch 22/25\n",
            "28/28 [==============================] - 11s 402ms/step - loss: 0.1756 - accuracy: 0.9358 - val_loss: 0.1116 - val_accuracy: 0.9474\n",
            "Epoch 23/25\n",
            "28/28 [==============================] - 11s 400ms/step - loss: 0.1710 - accuracy: 0.9266 - val_loss: 0.1060 - val_accuracy: 0.9474\n",
            "Epoch 24/25\n",
            "28/28 [==============================] - 11s 397ms/step - loss: 0.1705 - accuracy: 0.9266 - val_loss: 0.1165 - val_accuracy: 0.9474\n",
            "Epoch 25/25\n",
            "28/28 [==============================] - 11s 405ms/step - loss: 0.1578 - accuracy: 0.9128 - val_loss: 0.1273 - val_accuracy: 0.9474\n"
          ],
          "name": "stdout"
        }
      ]
    },
    {
      "cell_type": "code",
      "metadata": {
        "id": "xqVy5MxJQlAN",
        "colab_type": "code",
        "colab": {
          "base_uri": "https://localhost:8080/",
          "height": 199
        },
        "outputId": "9510763c-9fd9-4d29-f260-0eb519720219"
      },
      "source": [
        "# make predictions on the testing set\n",
        "print(\"[INFO] evaluating network...\")\n",
        "predIdxs = model.predict(testX, batch_size=BS)\n",
        "# for each image in the testing set we need to find the index of the\n",
        "# label with corresponding largest predicted probability\n",
        "predIdxs = np.argmax(predIdxs, axis=1)\n",
        "# show a nicely formatted classification report\n",
        "print(classification_report(testY.argmax(axis=1), predIdxs,\n",
        "\ttarget_names=lb.classes_))\n"
      ],
      "execution_count": 96,
      "outputs": [
        {
          "output_type": "stream",
          "text": [
            "[INFO] evaluating network...\n",
            "              precision    recall  f1-score   support\n",
            "\n",
            "    infected       0.95      0.91      0.93        23\n",
            "      normal       0.94      0.97      0.96        34\n",
            "\n",
            "    accuracy                           0.95        57\n",
            "   macro avg       0.95      0.94      0.94        57\n",
            "weighted avg       0.95      0.95      0.95        57\n",
            "\n"
          ],
          "name": "stdout"
        }
      ]
    },
    {
      "cell_type": "code",
      "metadata": {
        "id": "ObzTEcNPQ0qu",
        "colab_type": "code",
        "colab": {
          "base_uri": "https://localhost:8080/",
          "height": 108
        },
        "outputId": "16ef0f46-62f9-4019-806a-80011056fe83"
      },
      "source": [
        "# compute the confusion matrix and and use it to derive the raw\n",
        "# accuracy, sensitivity, and specificity\n",
        "cm = confusion_matrix(testY.argmax(axis=1), predIdxs)\n",
        "total = sum(sum(cm))\n",
        "acc = (cm[0, 0] + cm[1, 1]) / total\n",
        "sensitivity = cm[0, 0] / (cm[0, 0] + cm[0, 1])\n",
        "specificity = cm[1, 1] / (cm[1, 0] + cm[1, 1])\n",
        "# show the confusion matrix, accuracy, sensitivity, and specificity\n",
        "print(cm)\n",
        "print(\"acc: {:.4f}\".format(acc))\n",
        "print(\"sensitivity: {:.4f}\".format(sensitivity))\n",
        "print(\"specificity: {:.4f}\".format(specificity))\n"
      ],
      "execution_count": 97,
      "outputs": [
        {
          "output_type": "stream",
          "text": [
            "[[21  2]\n",
            " [ 1 33]]\n",
            "acc: 0.9474\n",
            "sensitivity: 0.9130\n",
            "specificity: 0.9706\n"
          ],
          "name": "stdout"
        }
      ]
    },
    {
      "cell_type": "code",
      "metadata": {
        "id": "lm8lwgKNQ8vQ",
        "colab_type": "code",
        "colab": {
          "base_uri": "https://localhost:8080/",
          "height": 317
        },
        "outputId": "152a4bfe-dc81-40b8-e632-37ba3c632a3f"
      },
      "source": [
        "# plot the training loss and accuracy\n",
        "N = EPOCHS\n",
        "plt.style.use(\"ggplot\")\n",
        "plt.figure()\n",
        "plt.plot(np.arange(0, EPOCHS), H.history[\"loss\"], label=\"train_loss\")\n",
        "plt.plot(np.arange(0, EPOCHS), H.history[\"val_loss\"], label=\"val_loss\")\n",
        "plt.plot(np.arange(0, EPOCHS), H.history[\"accuracy\"], label=\"train_acc\")\n",
        "plt.plot(np.arange(0, EPOCHS), H.history[\"val_accuracy\"], label=\"val_acc\")\n",
        "plt.title(\"Training Loss and Accuracy on COVID-19 Dataset\")\n",
        "plt.xlabel(\"Epoch #\")\n",
        "plt.ylabel(\"Loss/Accuracy\")\n",
        "plt.legend(loc=\"lower left\")\n",
        "#plt.savefig(args[\"plot\"])"
      ],
      "execution_count": 98,
      "outputs": [
        {
          "output_type": "execute_result",
          "data": {
            "text/plain": [
              "<matplotlib.legend.Legend at 0x7fc4a69cdb70>"
            ]
          },
          "metadata": {
            "tags": []
          },
          "execution_count": 98
        },
        {
          "output_type": "display_data",
          "data": {
            "image/png": "[encoded data removed]",
            "text/plain": [
              "<Figure size 432x288 with 1 Axes>"
            ]
          },
          "metadata": {
            "tags": []
          }
        }
      ]
    },
    {
      "cell_type": "markdown",
      "metadata": {
        "id": "ZqzmuR4-REX2",
        "colab_type": "text"
      },
      "source": [
        "**DenseNet201**"
      ]
    },
    {
      "cell_type": "code",
      "metadata": {
        "id": "DRRK47tQTtwF",
        "colab_type": "code",
        "colab": {}
      },
      "source": [
        "from tensorflow.keras.applications import DenseNet201"
      ],
      "execution_count": 0,
      "outputs": []
    },
    {
      "cell_type": "code",
      "metadata": {
        "id": "WGGesatPTxBp",
        "colab_type": "code",
        "colab": {
          "base_uri": "https://localhost:8080/",
          "height": 53
        },
        "outputId": "20327145-a1f8-4c09-c0da-197a2520e530"
      },
      "source": [
        "IMG_SHAPE = (224,224,3)\n",
        "\n",
        "\n",
        "baseModel = tf.keras.applications.DenseNet201(include_top=False,weights='imagenet',input_tensor=Input(shape=(224, 224, 3)))\n",
        "headModel = baseModel.output\n",
        "headModel = AveragePooling2D(pool_size=(4, 4))(headModel)\n",
        "headModel = Dropout(0.5)(headModel)\n",
        "headModel = Flatten(name=\"flatten\")(headModel)\n",
        "headModel = Dense(64, activation=\"relu\")(headModel)\n",
        "headModel = Dropout(0.5)(headModel)\n",
        "headModel = Dense(2, activation=\"softmax\")(headModel)\n",
        "\n",
        "\n",
        "DenseNet201_model= Model(inputs=baseModel.input, outputs=headModel)\n",
        "\n",
        "for layer in baseModel.layers:\n",
        "    layer.trainable = False"
      ],
      "execution_count": 101,
      "outputs": [
        {
          "output_type": "stream",
          "text": [
            "Downloading data from https://storage.googleapis.com/tensorflow/keras-applications/densenet/densenet201_weights_tf_dim_ordering_tf_kernels_notop.h5\n",
            "74842112/74836368 [==============================] - 1s 0us/step\n"
          ],
          "name": "stdout"
        }
      ]
    },
    {
      "cell_type": "code",
      "metadata": {
        "id": "yHQyxlVIacnW",
        "colab_type": "code",
        "colab": {
          "base_uri": "https://localhost:8080/",
          "height": 962
        },
        "outputId": "f50f0752-1483-49ee-9aa9-93b5a5906bb4"
      },
      "source": [
        "model_chkpt = ModelCheckpoint('best_mod.h5', save_best_only=True, monitor='accuracy')\n",
        "early_stopping = EarlyStopping(monitor='loss', restore_best_weights=False, patience=10)\n",
        "\n",
        "# initialize the initial learning rate, number of epochs to train for,\n",
        "# and batch size\n",
        "INIT_LR = 3e-4\n",
        "EPOCHS = 25\n",
        "BS = 8\n",
        "# compile our model\n",
        "print(\"[INFO] compiling model...\")\n",
        "opt = Adam(lr=INIT_LR, decay=INIT_LR / EPOCHS)\n",
        "DenseNet201_model.compile(loss=\"binary_crossentropy\", optimizer=opt,\n",
        "\tmetrics=[\"accuracy\"])\n",
        "# train the head of the network\n",
        "print(\"[INFO] training head...\")\n",
        "H = DenseNet201_model.fit_generator(\n",
        "\ttrainAug.flow(trainX, trainY, batch_size=BS),\n",
        "\tsteps_per_epoch=len(trainX) // BS,\n",
        "\tvalidation_data=(testX, testY),\n",
        "\tvalidation_steps=len(testX) // BS,\n",
        "\tepochs=EPOCHS,callbacks=[early_stopping,model_chkpt])\n",
        "\n"
      ],
      "execution_count": 106,
      "outputs": [
        {
          "output_type": "stream",
          "text": [
            "[INFO] compiling model...\n",
            "[INFO] training head...\n",
            "Epoch 1/25\n",
            "28/28 [==============================] - 60s 2s/step - loss: 0.8742 - accuracy: 0.6101 - val_loss: 0.4089 - val_accuracy: 0.8596\n",
            "Epoch 2/25\n",
            "28/28 [==============================] - 57s 2s/step - loss: 0.5365 - accuracy: 0.7523 - val_loss: 0.3098 - val_accuracy: 0.8947\n",
            "Epoch 3/25\n",
            "28/28 [==============================] - 57s 2s/step - loss: 0.4298 - accuracy: 0.8073 - val_loss: 0.2463 - val_accuracy: 0.8947\n",
            "Epoch 4/25\n",
            "28/28 [==============================] - 58s 2s/step - loss: 0.3859 - accuracy: 0.8440 - val_loss: 0.2214 - val_accuracy: 0.8947\n",
            "Epoch 5/25\n",
            "28/28 [==============================] - 58s 2s/step - loss: 0.2878 - accuracy: 0.8991 - val_loss: 0.2034 - val_accuracy: 0.8947\n",
            "Epoch 6/25\n",
            "28/28 [==============================] - 57s 2s/step - loss: 0.2877 - accuracy: 0.8807 - val_loss: 0.1970 - val_accuracy: 0.8947\n",
            "Epoch 7/25\n",
            "28/28 [==============================] - 58s 2s/step - loss: 0.2454 - accuracy: 0.8899 - val_loss: 0.1960 - val_accuracy: 0.9123\n",
            "Epoch 8/25\n",
            "28/28 [==============================] - 58s 2s/step - loss: 0.2558 - accuracy: 0.9037 - val_loss: 0.1736 - val_accuracy: 0.9298\n",
            "Epoch 9/25\n",
            "28/28 [==============================] - 57s 2s/step - loss: 0.2403 - accuracy: 0.8945 - val_loss: 0.1709 - val_accuracy: 0.9123\n",
            "Epoch 10/25\n",
            "28/28 [==============================] - 57s 2s/step - loss: 0.1486 - accuracy: 0.9495 - val_loss: 0.1693 - val_accuracy: 0.9123\n",
            "Epoch 11/25\n",
            "28/28 [==============================] - 56s 2s/step - loss: 0.1988 - accuracy: 0.9174 - val_loss: 0.1743 - val_accuracy: 0.9298\n",
            "Epoch 12/25\n",
            "28/28 [==============================] - 56s 2s/step - loss: 0.1594 - accuracy: 0.9312 - val_loss: 0.1504 - val_accuracy: 0.9474\n",
            "Epoch 13/25\n",
            "28/28 [==============================] - 56s 2s/step - loss: 0.1904 - accuracy: 0.9220 - val_loss: 0.1517 - val_accuracy: 0.9474\n",
            "Epoch 14/25\n",
            "28/28 [==============================] - 56s 2s/step - loss: 0.2271 - accuracy: 0.8991 - val_loss: 0.1449 - val_accuracy: 0.9649\n",
            "Epoch 15/25\n",
            "28/28 [==============================] - 56s 2s/step - loss: 0.1868 - accuracy: 0.9312 - val_loss: 0.1558 - val_accuracy: 0.9474\n",
            "Epoch 16/25\n",
            "28/28 [==============================] - 57s 2s/step - loss: 0.1102 - accuracy: 0.9679 - val_loss: 0.1497 - val_accuracy: 0.9474\n",
            "Epoch 17/25\n",
            "28/28 [==============================] - 56s 2s/step - loss: 0.1636 - accuracy: 0.9404 - val_loss: 0.1595 - val_accuracy: 0.9474\n",
            "Epoch 18/25\n",
            "28/28 [==============================] - 57s 2s/step - loss: 0.1509 - accuracy: 0.9587 - val_loss: 0.1534 - val_accuracy: 0.9474\n",
            "Epoch 19/25\n",
            "28/28 [==============================] - 56s 2s/step - loss: 0.1343 - accuracy: 0.9358 - val_loss: 0.1609 - val_accuracy: 0.9474\n",
            "Epoch 20/25\n",
            "28/28 [==============================] - 57s 2s/step - loss: 0.1140 - accuracy: 0.9633 - val_loss: 0.1719 - val_accuracy: 0.9474\n",
            "Epoch 21/25\n",
            "28/28 [==============================] - 56s 2s/step - loss: 0.1137 - accuracy: 0.9587 - val_loss: 0.1615 - val_accuracy: 0.9474\n",
            "Epoch 22/25\n",
            "28/28 [==============================] - 56s 2s/step - loss: 0.1131 - accuracy: 0.9679 - val_loss: 0.1705 - val_accuracy: 0.9474\n",
            "Epoch 23/25\n",
            "28/28 [==============================] - 56s 2s/step - loss: 0.0928 - accuracy: 0.9679 - val_loss: 0.1671 - val_accuracy: 0.9474\n",
            "Epoch 24/25\n",
            "28/28 [==============================] - 56s 2s/step - loss: 0.1074 - accuracy: 0.9587 - val_loss: 0.1744 - val_accuracy: 0.9474\n",
            "Epoch 25/25\n",
            "28/28 [==============================] - 56s 2s/step - loss: 0.1579 - accuracy: 0.9450 - val_loss: 0.1876 - val_accuracy: 0.9298\n"
          ],
          "name": "stdout"
        }
      ]
    },
    {
      "cell_type": "code",
      "metadata": {
        "id": "anOkpoYNUb5R",
        "colab_type": "code",
        "colab": {
          "base_uri": "https://localhost:8080/",
          "height": 199
        },
        "outputId": "f369af0a-71c7-4a26-e2bd-75d2b736cf3f"
      },
      "source": [
        "# make predictions on the testing set\n",
        "print(\"[INFO] evaluating network...\")\n",
        "predIdxs = DenseNet201_model.predict(testX, batch_size=BS)\n",
        "# for each image in the testing set we need to find the index of the\n",
        "# label with corresponding largest predicted probability\n",
        "predIdxs = np.argmax(predIdxs, axis=1)\n",
        "# show a nicely formatted classification report\n",
        "print(classification_report(testY.argmax(axis=1), predIdxs,\n",
        "\ttarget_names=lb.classes_))\n",
        "\n",
        "\n"
      ],
      "execution_count": 107,
      "outputs": [
        {
          "output_type": "stream",
          "text": [
            "[INFO] evaluating network...\n",
            "              precision    recall  f1-score   support\n",
            "\n",
            "    infected       0.95      0.87      0.91        23\n",
            "      normal       0.92      0.97      0.94        34\n",
            "\n",
            "    accuracy                           0.93        57\n",
            "   macro avg       0.93      0.92      0.93        57\n",
            "weighted avg       0.93      0.93      0.93        57\n",
            "\n"
          ],
          "name": "stdout"
        }
      ]
    },
    {
      "cell_type": "code",
      "metadata": {
        "id": "bFZ7it1XUkab",
        "colab_type": "code",
        "colab": {
          "base_uri": "https://localhost:8080/",
          "height": 108
        },
        "outputId": "f269cf5e-d323-4de1-bec2-ccf19246133f"
      },
      "source": [
        "# compute the confusion matrix and and use it to derive the raw\n",
        "# accuracy, sensitivity, and specificity\n",
        "cm = confusion_matrix(testY.argmax(axis=1), predIdxs)\n",
        "total = sum(sum(cm))\n",
        "acc = (cm[0, 0] + cm[1, 1]) / total\n",
        "sensitivity = cm[0, 0] / (cm[0, 0] + cm[0, 1])\n",
        "specificity = cm[1, 1] / (cm[1, 0] + cm[1, 1])\n",
        "# show the confusion matrix, accuracy, sensitivity, and specificity\n",
        "print(cm)\n",
        "print(\"acc: {:.4f}\".format(acc))\n",
        "print(\"sensitivity: {:.4f}\".format(sensitivity))\n",
        "print(\"specificity: {:.4f}\".format(specificity))\n"
      ],
      "execution_count": 108,
      "outputs": [
        {
          "output_type": "stream",
          "text": [
            "[[20  3]\n",
            " [ 1 33]]\n",
            "acc: 0.9298\n",
            "sensitivity: 0.8696\n",
            "specificity: 0.9706\n"
          ],
          "name": "stdout"
        }
      ]
    },
    {
      "cell_type": "code",
      "metadata": {
        "id": "9d9lPgM1Unbp",
        "colab_type": "code",
        "colab": {
          "base_uri": "https://localhost:8080/",
          "height": 317
        },
        "outputId": "33610aff-ab5e-47bc-b0bc-9aea3216d290"
      },
      "source": [
        "# plot the training loss and accuracy\n",
        "N = EPOCHS\n",
        "plt.style.use(\"ggplot\")\n",
        "plt.figure()\n",
        "plt.plot(np.arange(0, EPOCHS), H.history[\"loss\"], label=\"train_loss\")\n",
        "plt.plot(np.arange(0, EPOCHS), H.history[\"val_loss\"], label=\"val_loss\")\n",
        "plt.plot(np.arange(0, EPOCHS), H.history[\"accuracy\"], label=\"train_acc\")\n",
        "plt.plot(np.arange(0, EPOCHS), H.history[\"val_accuracy\"], label=\"val_acc\")\n",
        "plt.title(\"Training Loss and Accuracy on COVID-19 Dataset\")\n",
        "plt.xlabel(\"Epoch #\")\n",
        "plt.ylabel(\"Loss/Accuracy\")\n",
        "plt.legend(loc=\"lower left\")\n",
        "#plt.savefig(args[\"plot\"])"
      ],
      "execution_count": 109,
      "outputs": [
        {
          "output_type": "execute_result",
          "data": {
            "text/plain": [
              "<matplotlib.legend.Legend at 0x7fc49c00f048>"
            ]
          },
          "metadata": {
            "tags": []
          },
          "execution_count": 109
        },
        {
          "output_type": "display_data",
          "data": {
            "image/png": "[encoded data removed]",
            "text/plain": [
              "<Figure size 432x288 with 1 Axes>"
            ]
          },
          "metadata": {
            "tags": []
          }
        }
      ]
    },
    {
      "cell_type": "markdown",
      "metadata": {
        "id": "KFWPGaDUZeYv",
        "colab_type": "text"
      },
      "source": [
        "**ResNet152-V2**"
      ]
    },
    {
      "cell_type": "code",
      "metadata": {
        "id": "3mvwa8uaiHks",
        "colab_type": "code",
        "colab": {}
      },
      "source": [
        "from tensorflow.keras.preprocessing.image import ImageDataGenerator\n",
        "from tensorflow.keras.applications import VGG16,ResNet152V2\n",
        "from tensorflow.keras.layers import AveragePooling2D\n",
        "from tensorflow.keras.layers import Dropout\n",
        "from tensorflow.keras.layers import Flatten\n",
        "from tensorflow.keras.layers import Dense\n",
        "from tensorflow.keras.layers import Input\n",
        "from tensorflow.keras.models import Model\n",
        "from tensorflow.keras.optimizers import Adam\n",
        "from tensorflow.keras.utils import to_categorical\n",
        "from sklearn.preprocessing import LabelBinarizer\n",
        "from sklearn.model_selection import train_test_split"
      ],
      "execution_count": 0,
      "outputs": []
    },
    {
      "cell_type": "code",
      "metadata": {
        "id": "Q5SIXD0Lftbz",
        "colab_type": "code",
        "colab": {
          "base_uri": "https://localhost:8080/",
          "height": 53
        },
        "outputId": "d78b7949-8146-4936-9794-5c2d0c365683"
      },
      "source": [
        "res =ResNet152V2(weights=\"imagenet\", include_top=False, input_tensor=Input(shape=(224, 224, 3)))\n",
        "outputs = res.output\n",
        "outputs = Flatten(name=\"flatten\")(outputs)\n",
        "outputs = Dropout(0.5)(outputs)\n",
        "outputs = Dense(2, activation=\"softmax\")(outputs)\n",
        "model = Model(inputs=res.input, outputs=outputs)\n",
        "for layer in res.layers:\n",
        "  layer.trainable = False"
      ],
      "execution_count": 113,
      "outputs": [
        {
          "output_type": "stream",
          "text": [
            "Downloading data from https://storage.googleapis.com/tensorflow/keras-applications/resnet/resnet152v2_weights_tf_dim_ordering_tf_kernels_notop.h5\n",
            "234553344/234545216 [==============================] - 2s 0us/step\n"
          ],
          "name": "stdout"
        }
      ]
    },
    {
      "cell_type": "code",
      "metadata": {
        "id": "6o52W0CVf4KK",
        "colab_type": "code",
        "colab": {
          "base_uri": "https://localhost:8080/",
          "height": 853
        },
        "outputId": "b3ac7900-1359-4742-e992-1bc2a0e5913d"
      },
      "source": [
        "# initialize the initial learning rate, number of epochs to train for,\n",
        "# and batch size\n",
        "INIT_LR = 3e-4\n",
        "EPOCHS = 25\n",
        "BS = 8\n",
        "# compile our model\n",
        "print(\"[INFO] compiling model...\")\n",
        "opt = Adam(lr=INIT_LR, decay=INIT_LR / EPOCHS)\n",
        "model.compile(loss=\"binary_crossentropy\", optimizer=opt,\n",
        "\tmetrics=[\"accuracy\"])\n",
        "# train the head of the network\n",
        "print(\"[INFO] training head...\")\n",
        "H = model.fit_generator(\n",
        "\ttrainAug.flow(trainX, trainY, batch_size=BS),\n",
        "\tsteps_per_epoch=len(trainX) // BS,\n",
        "\tvalidation_data=(testX, testY),\n",
        "\tvalidation_steps=len(testX) // BS,\n",
        "\tepochs=EPOCHS,callbacks=[early_stopping,model_chkpt])"
      ],
      "execution_count": 114,
      "outputs": [
        {
          "output_type": "stream",
          "text": [
            "[INFO] compiling model...\n",
            "[INFO] training head...\n",
            "Epoch 1/25\n",
            "28/28 [==============================] - 108s 4s/step - loss: 0.6396 - accuracy: 0.8761 - val_loss: 0.2669 - val_accuracy: 0.9649\n",
            "Epoch 2/25\n",
            "28/28 [==============================] - 106s 4s/step - loss: 0.1907 - accuracy: 0.9495 - val_loss: 0.3475 - val_accuracy: 0.9474\n",
            "Epoch 3/25\n",
            "28/28 [==============================] - 108s 4s/step - loss: 0.1270 - accuracy: 0.9725 - val_loss: 0.6050 - val_accuracy: 0.9123\n",
            "Epoch 4/25\n",
            "28/28 [==============================] - 107s 4s/step - loss: 0.1704 - accuracy: 0.9725 - val_loss: 0.4952 - val_accuracy: 0.9298\n",
            "Epoch 5/25\n",
            "28/28 [==============================] - 108s 4s/step - loss: 0.0787 - accuracy: 0.9908 - val_loss: 0.1953 - val_accuracy: 0.9474\n",
            "Epoch 6/25\n",
            "28/28 [==============================] - 107s 4s/step - loss: 0.0218 - accuracy: 0.9908 - val_loss: 0.2955 - val_accuracy: 0.9474\n",
            "Epoch 7/25\n",
            "28/28 [==============================] - 107s 4s/step - loss: 0.1732 - accuracy: 0.9817 - val_loss: 0.3115 - val_accuracy: 0.9474\n",
            "Epoch 8/25\n",
            "28/28 [==============================] - 107s 4s/step - loss: 0.0924 - accuracy: 0.9862 - val_loss: 0.0501 - val_accuracy: 0.9825\n",
            "Epoch 9/25\n",
            "28/28 [==============================] - 107s 4s/step - loss: 0.1760 - accuracy: 0.9587 - val_loss: 0.5031 - val_accuracy: 0.9298\n",
            "Epoch 10/25\n",
            "28/28 [==============================] - 107s 4s/step - loss: 0.0804 - accuracy: 0.9817 - val_loss: 0.5218 - val_accuracy: 0.9298\n",
            "Epoch 11/25\n",
            "28/28 [==============================] - 107s 4s/step - loss: 0.0788 - accuracy: 0.9771 - val_loss: 0.3971 - val_accuracy: 0.9298\n",
            "Epoch 12/25\n",
            "28/28 [==============================] - 108s 4s/step - loss: 6.7930e-04 - accuracy: 1.0000 - val_loss: 0.3885 - val_accuracy: 0.9298\n",
            "Epoch 13/25\n",
            "28/28 [==============================] - 107s 4s/step - loss: 0.0860 - accuracy: 0.9908 - val_loss: 0.7952 - val_accuracy: 0.9298\n",
            "Epoch 14/25\n",
            "28/28 [==============================] - 107s 4s/step - loss: 0.0703 - accuracy: 0.9862 - val_loss: 0.3446 - val_accuracy: 0.9123\n",
            "Epoch 15/25\n",
            "28/28 [==============================] - 107s 4s/step - loss: 0.0359 - accuracy: 0.9954 - val_loss: 0.7054 - val_accuracy: 0.9298\n",
            "Epoch 16/25\n",
            "28/28 [==============================] - 108s 4s/step - loss: 0.0453 - accuracy: 0.9862 - val_loss: 0.6672 - val_accuracy: 0.9474\n",
            "Epoch 17/25\n",
            "28/28 [==============================] - 108s 4s/step - loss: 0.1283 - accuracy: 0.9771 - val_loss: 0.1164 - val_accuracy: 0.9649\n",
            "Epoch 18/25\n",
            "28/28 [==============================] - 108s 4s/step - loss: 0.0974 - accuracy: 0.9862 - val_loss: 0.2509 - val_accuracy: 0.9474\n",
            "Epoch 19/25\n",
            "28/28 [==============================] - 108s 4s/step - loss: 0.0016 - accuracy: 1.0000 - val_loss: 0.8965 - val_accuracy: 0.9298\n",
            "Epoch 20/25\n",
            "28/28 [==============================] - 108s 4s/step - loss: 0.0814 - accuracy: 0.9908 - val_loss: 0.9630 - val_accuracy: 0.9298\n",
            "Epoch 21/25\n",
            "28/28 [==============================] - 108s 4s/step - loss: 0.0041 - accuracy: 1.0000 - val_loss: 0.5864 - val_accuracy: 0.9298\n",
            "Epoch 22/25\n",
            "28/28 [==============================] - 108s 4s/step - loss: 0.0426 - accuracy: 0.9908 - val_loss: 0.3698 - val_accuracy: 0.9649\n"
          ],
          "name": "stdout"
        }
      ]
    },
    {
      "cell_type": "code",
      "metadata": {
        "id": "88MEng2jf-N9",
        "colab_type": "code",
        "colab": {
          "base_uri": "https://localhost:8080/",
          "height": 199
        },
        "outputId": "c43ca318-72f9-4ddd-f8c8-8e30600ea38c"
      },
      "source": [
        "# make predictions on the testing set\n",
        "print(\"[INFO] evaluating network...\")\n",
        "predIdxs = DenseNet201_model.predict(testX, batch_size=BS)\n",
        "# for each image in the testing set we need to find the index of the\n",
        "# label with corresponding largest predicted probability\n",
        "predIdxs = np.argmax(predIdxs, axis=1)\n",
        "# show a nicely formatted classification report\n",
        "print(classification_report(testY.argmax(axis=1), predIdxs,\n",
        "\ttarget_names=lb.classes_))\n",
        "\n",
        "\n"
      ],
      "execution_count": 115,
      "outputs": [
        {
          "output_type": "stream",
          "text": [
            "[INFO] evaluating network...\n",
            "              precision    recall  f1-score   support\n",
            "\n",
            "    infected       0.95      0.87      0.91        23\n",
            "      normal       0.92      0.97      0.94        34\n",
            "\n",
            "    accuracy                           0.93        57\n",
            "   macro avg       0.93      0.92      0.93        57\n",
            "weighted avg       0.93      0.93      0.93        57\n",
            "\n"
          ],
          "name": "stdout"
        }
      ]
    },
    {
      "cell_type": "code",
      "metadata": {
        "id": "2CCaqhrtiYK6",
        "colab_type": "code",
        "colab": {
          "base_uri": "https://localhost:8080/",
          "height": 108
        },
        "outputId": "00c520ef-0c6a-4c5f-cf9c-1f83150ac387"
      },
      "source": [
        "# compute the confusion matrix and and use it to derive the raw\n",
        "# accuracy, sensitivity, and specificity\n",
        "cm = confusion_matrix(testY.argmax(axis=1), predIdxs)\n",
        "total = sum(sum(cm))\n",
        "acc = (cm[0, 0] + cm[1, 1]) / total\n",
        "sensitivity = cm[0, 0] / (cm[0, 0] + cm[0, 1])\n",
        "specificity = cm[1, 1] / (cm[1, 0] + cm[1, 1])\n",
        "# show the confusion matrix, accuracy, sensitivity, and specificity\n",
        "print(cm)\n",
        "print(\"acc: {:.4f}\".format(acc))\n",
        "print(\"sensitivity: {:.4f}\".format(sensitivity))\n",
        "print(\"specificity: {:.4f}\".format(specificity))"
      ],
      "execution_count": 116,
      "outputs": [
        {
          "output_type": "stream",
          "text": [
            "[[20  3]\n",
            " [ 1 33]]\n",
            "acc: 0.9298\n",
            "sensitivity: 0.8696\n",
            "specificity: 0.9706\n"
          ],
          "name": "stdout"
        }
      ]
    },
    {
      "cell_type": "code",
      "metadata": {
        "id": "5Gmjydunic5C",
        "colab_type": "code",
        "colab": {
          "base_uri": "https://localhost:8080/",
          "height": 647
        },
        "outputId": "59cbefb6-004e-47ca-fd27-77cbc27bcb8f"
      },
      "source": [
        "# plot the training loss and accuracy\n",
        "N = EPOCHS\n",
        "plt.style.use(\"ggplot\")\n",
        "plt.figure()\n",
        "plt.plot(np.arange(0, EPOCHS), H.history[\"loss\"], label=\"train_loss\")\n",
        "plt.plot(np.arange(0, EPOCHS), H.history[\"val_loss\"], label=\"val_loss\")\n",
        "plt.plot(np.arange(0, EPOCHS), H.history[\"accuracy\"], label=\"train_acc\")\n",
        "plt.plot(np.arange(0, EPOCHS), H.history[\"val_accuracy\"], label=\"val_acc\")\n",
        "plt.title(\"Training Loss and Accuracy on COVID-19 Dataset\")\n",
        "plt.xlabel(\"Epoch #\")\n",
        "plt.ylabel(\"Loss/Accuracy\")\n",
        "plt.legend(loc=\"lower left\")\n",
        "#plt.savefig(args[\"plot\"])"
      ],
      "execution_count": 117,
      "outputs": [
        {
          "output_type": "error",
          "ename": "ValueError",
          "evalue": "ignored",
          "traceback": [
            "\u001b[0;31m---------------------------------------------------------------------------\u001b[0m",
            "\u001b[0;31mValueError\u001b[0m                                Traceback (most recent call last)",
            "\u001b[0;32m<ipython-input-117-e769ee8de02d>\u001b[0m in \u001b[0;36m<module>\u001b[0;34m()\u001b[0m\n\u001b[1;32m      3\u001b[0m \u001b[0mplt\u001b[0m\u001b[0;34m.\u001b[0m\u001b[0mstyle\u001b[0m\u001b[0;34m.\u001b[0m\u001b[0muse\u001b[0m\u001b[0;34m(\u001b[0m\u001b[0;34m\"ggplot\"\u001b[0m\u001b[0;34m)\u001b[0m\u001b[0;34m\u001b[0m\u001b[0;34m\u001b[0m\u001b[0m\n\u001b[1;32m      4\u001b[0m \u001b[0mplt\u001b[0m\u001b[0;34m.\u001b[0m\u001b[0mfigure\u001b[0m\u001b[0;34m(\u001b[0m\u001b[0;34m)\u001b[0m\u001b[0;34m\u001b[0m\u001b[0;34m\u001b[0m\u001b[0m\n\u001b[0;32m----> 5\u001b[0;31m \u001b[0mplt\u001b[0m\u001b[0;34m.\u001b[0m\u001b[0mplot\u001b[0m\u001b[0;34m(\u001b[0m\u001b[0mnp\u001b[0m\u001b[0;34m.\u001b[0m\u001b[0marange\u001b[0m\u001b[0;34m(\u001b[0m\u001b[0;36m0\u001b[0m\u001b[0;34m,\u001b[0m \u001b[0mEPOCHS\u001b[0m\u001b[0;34m)\u001b[0m\u001b[0;34m,\u001b[0m \u001b[0mH\u001b[0m\u001b[0;34m.\u001b[0m\u001b[0mhistory\u001b[0m\u001b[0;34m[\u001b[0m\u001b[0;34m\"loss\"\u001b[0m\u001b[0;34m]\u001b[0m\u001b[0;34m,\u001b[0m \u001b[0mlabel\u001b[0m\u001b[0;34m=\u001b[0m\u001b[0;34m\"train_loss\"\u001b[0m\u001b[0;34m)\u001b[0m\u001b[0;34m\u001b[0m\u001b[0;34m\u001b[0m\u001b[0m\n\u001b[0m\u001b[1;32m      6\u001b[0m \u001b[0mplt\u001b[0m\u001b[0;34m.\u001b[0m\u001b[0mplot\u001b[0m\u001b[0;34m(\u001b[0m\u001b[0mnp\u001b[0m\u001b[0;34m.\u001b[0m\u001b[0marange\u001b[0m\u001b[0;34m(\u001b[0m\u001b[0;36m0\u001b[0m\u001b[0;34m,\u001b[0m \u001b[0mEPOCHS\u001b[0m\u001b[0;34m)\u001b[0m\u001b[0;34m,\u001b[0m \u001b[0mH\u001b[0m\u001b[0;34m.\u001b[0m\u001b[0mhistory\u001b[0m\u001b[0;34m[\u001b[0m\u001b[0;34m\"val_loss\"\u001b[0m\u001b[0;34m]\u001b[0m\u001b[0;34m,\u001b[0m \u001b[0mlabel\u001b[0m\u001b[0;34m=\u001b[0m\u001b[0;34m\"val_loss\"\u001b[0m\u001b[0;34m)\u001b[0m\u001b[0;34m\u001b[0m\u001b[0;34m\u001b[0m\u001b[0m\n\u001b[1;32m      7\u001b[0m \u001b[0mplt\u001b[0m\u001b[0;34m.\u001b[0m\u001b[0mplot\u001b[0m\u001b[0;34m(\u001b[0m\u001b[0mnp\u001b[0m\u001b[0;34m.\u001b[0m\u001b[0marange\u001b[0m\u001b[0;34m(\u001b[0m\u001b[0;36m0\u001b[0m\u001b[0;34m,\u001b[0m \u001b[0mEPOCHS\u001b[0m\u001b[0;34m)\u001b[0m\u001b[0;34m,\u001b[0m \u001b[0mH\u001b[0m\u001b[0;34m.\u001b[0m\u001b[0mhistory\u001b[0m\u001b[0;34m[\u001b[0m\u001b[0;34m\"accuracy\"\u001b[0m\u001b[0;34m]\u001b[0m\u001b[0;34m,\u001b[0m \u001b[0mlabel\u001b[0m\u001b[0;34m=\u001b[0m\u001b[0;34m\"train_acc\"\u001b[0m\u001b[0;34m)\u001b[0m\u001b[0;34m\u001b[0m\u001b[0;34m\u001b[0m\u001b[0m\n",
            "\u001b[0;32m/usr/local/lib/python3.6/dist-packages/matplotlib/pyplot.py\u001b[0m in \u001b[0;36mplot\u001b[0;34m(scalex, scaley, data, *args, **kwargs)\u001b[0m\n\u001b[1;32m   2761\u001b[0m     return gca().plot(\n\u001b[1;32m   2762\u001b[0m         *args, scalex=scalex, scaley=scaley, **({\"data\": data} if data\n\u001b[0;32m-> 2763\u001b[0;31m         is not None else {}), **kwargs)\n\u001b[0m\u001b[1;32m   2764\u001b[0m \u001b[0;34m\u001b[0m\u001b[0m\n\u001b[1;32m   2765\u001b[0m \u001b[0;34m\u001b[0m\u001b[0m\n",
            "\u001b[0;32m/usr/local/lib/python3.6/dist-packages/matplotlib/axes/_axes.py\u001b[0m in \u001b[0;36mplot\u001b[0;34m(self, scalex, scaley, data, *args, **kwargs)\u001b[0m\n\u001b[1;32m   1644\u001b[0m         \"\"\"\n\u001b[1;32m   1645\u001b[0m         \u001b[0mkwargs\u001b[0m \u001b[0;34m=\u001b[0m \u001b[0mcbook\u001b[0m\u001b[0;34m.\u001b[0m\u001b[0mnormalize_kwargs\u001b[0m\u001b[0;34m(\u001b[0m\u001b[0mkwargs\u001b[0m\u001b[0;34m,\u001b[0m \u001b[0mmlines\u001b[0m\u001b[0;34m.\u001b[0m\u001b[0mLine2D\u001b[0m\u001b[0;34m)\u001b[0m\u001b[0;34m\u001b[0m\u001b[0;34m\u001b[0m\u001b[0m\n\u001b[0;32m-> 1646\u001b[0;31m         \u001b[0mlines\u001b[0m \u001b[0;34m=\u001b[0m \u001b[0;34m[\u001b[0m\u001b[0;34m*\u001b[0m\u001b[0mself\u001b[0m\u001b[0;34m.\u001b[0m\u001b[0m_get_lines\u001b[0m\u001b[0;34m(\u001b[0m\u001b[0;34m*\u001b[0m\u001b[0margs\u001b[0m\u001b[0;34m,\u001b[0m \u001b[0mdata\u001b[0m\u001b[0;34m=\u001b[0m\u001b[0mdata\u001b[0m\u001b[0;34m,\u001b[0m \u001b[0;34m**\u001b[0m\u001b[0mkwargs\u001b[0m\u001b[0;34m)\u001b[0m\u001b[0;34m]\u001b[0m\u001b[0;34m\u001b[0m\u001b[0;34m\u001b[0m\u001b[0m\n\u001b[0m\u001b[1;32m   1647\u001b[0m         \u001b[0;32mfor\u001b[0m \u001b[0mline\u001b[0m \u001b[0;32min\u001b[0m \u001b[0mlines\u001b[0m\u001b[0;34m:\u001b[0m\u001b[0;34m\u001b[0m\u001b[0;34m\u001b[0m\u001b[0m\n\u001b[1;32m   1648\u001b[0m             \u001b[0mself\u001b[0m\u001b[0;34m.\u001b[0m\u001b[0madd_line\u001b[0m\u001b[0;34m(\u001b[0m\u001b[0mline\u001b[0m\u001b[0;34m)\u001b[0m\u001b[0;34m\u001b[0m\u001b[0;34m\u001b[0m\u001b[0m\n",
            "\u001b[0;32m/usr/local/lib/python3.6/dist-packages/matplotlib/axes/_base.py\u001b[0m in \u001b[0;36m__call__\u001b[0;34m(self, *args, **kwargs)\u001b[0m\n\u001b[1;32m    214\u001b[0m                 \u001b[0mthis\u001b[0m \u001b[0;34m+=\u001b[0m \u001b[0margs\u001b[0m\u001b[0;34m[\u001b[0m\u001b[0;36m0\u001b[0m\u001b[0;34m]\u001b[0m\u001b[0;34m,\u001b[0m\u001b[0;34m\u001b[0m\u001b[0;34m\u001b[0m\u001b[0m\n\u001b[1;32m    215\u001b[0m                 \u001b[0margs\u001b[0m \u001b[0;34m=\u001b[0m \u001b[0margs\u001b[0m\u001b[0;34m[\u001b[0m\u001b[0;36m1\u001b[0m\u001b[0;34m:\u001b[0m\u001b[0;34m]\u001b[0m\u001b[0;34m\u001b[0m\u001b[0;34m\u001b[0m\u001b[0m\n\u001b[0;32m--> 216\u001b[0;31m             \u001b[0;32myield\u001b[0m \u001b[0;32mfrom\u001b[0m \u001b[0mself\u001b[0m\u001b[0;34m.\u001b[0m\u001b[0m_plot_args\u001b[0m\u001b[0;34m(\u001b[0m\u001b[0mthis\u001b[0m\u001b[0;34m,\u001b[0m \u001b[0mkwargs\u001b[0m\u001b[0;34m)\u001b[0m\u001b[0;34m\u001b[0m\u001b[0;34m\u001b[0m\u001b[0m\n\u001b[0m\u001b[1;32m    217\u001b[0m \u001b[0;34m\u001b[0m\u001b[0m\n\u001b[1;32m    218\u001b[0m     \u001b[0;32mdef\u001b[0m \u001b[0mget_next_color\u001b[0m\u001b[0;34m(\u001b[0m\u001b[0mself\u001b[0m\u001b[0;34m)\u001b[0m\u001b[0;34m:\u001b[0m\u001b[0;34m\u001b[0m\u001b[0;34m\u001b[0m\u001b[0m\n",
            "\u001b[0;32m/usr/local/lib/python3.6/dist-packages/matplotlib/axes/_base.py\u001b[0m in \u001b[0;36m_plot_args\u001b[0;34m(self, tup, kwargs)\u001b[0m\n\u001b[1;32m    340\u001b[0m \u001b[0;34m\u001b[0m\u001b[0m\n\u001b[1;32m    341\u001b[0m         \u001b[0;32mif\u001b[0m \u001b[0mx\u001b[0m\u001b[0;34m.\u001b[0m\u001b[0mshape\u001b[0m\u001b[0;34m[\u001b[0m\u001b[0;36m0\u001b[0m\u001b[0;34m]\u001b[0m \u001b[0;34m!=\u001b[0m \u001b[0my\u001b[0m\u001b[0;34m.\u001b[0m\u001b[0mshape\u001b[0m\u001b[0;34m[\u001b[0m\u001b[0;36m0\u001b[0m\u001b[0;34m]\u001b[0m\u001b[0;34m:\u001b[0m\u001b[0;34m\u001b[0m\u001b[0;34m\u001b[0m\u001b[0m\n\u001b[0;32m--> 342\u001b[0;31m             raise ValueError(f\"x and y must have same first dimension, but \"\n\u001b[0m\u001b[1;32m    343\u001b[0m                              f\"have shapes {x.shape} and {y.shape}\")\n\u001b[1;32m    344\u001b[0m         \u001b[0;32mif\u001b[0m \u001b[0mx\u001b[0m\u001b[0;34m.\u001b[0m\u001b[0mndim\u001b[0m \u001b[0;34m>\u001b[0m \u001b[0;36m2\u001b[0m \u001b[0;32mor\u001b[0m \u001b[0my\u001b[0m\u001b[0;34m.\u001b[0m\u001b[0mndim\u001b[0m \u001b[0;34m>\u001b[0m \u001b[0;36m2\u001b[0m\u001b[0;34m:\u001b[0m\u001b[0;34m\u001b[0m\u001b[0;34m\u001b[0m\u001b[0m\n",
            "\u001b[0;31mValueError\u001b[0m: x and y must have same first dimension, but have shapes (25,) and (22,)"
          ]
        },
        {
          "output_type": "display_data",
          "data": {
            "image/png": "[encoded data removed]",
            "text/plain": [
              "<Figure size 432x288 with 1 Axes>"
            ]
          },
          "metadata": {
            "tags": []
          }
        }
      ]
    }
  ]
}